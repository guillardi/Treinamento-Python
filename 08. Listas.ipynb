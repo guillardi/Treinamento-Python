{
 "cells": [
  {
   "cell_type": "markdown",
   "id": "uniform-spotlight",
   "metadata": {},
   "source": [
    "### __Resumo do Curso__\n",
    "---\n",
    "* [x] Sobre o Python**\n",
    "* [x] Instalação do Python (MS-Windows)\n",
    "* [x] IDLE - Ambiente de Desenvolvimento Integrado do Python\n",
    "* [x] Ambiente de Desenvolvimento (Anaconda / jupyter Notebook)\n",
    "* [x] Primeiro Código Python\n",
    "* [x] Guardando Informações - Variáveis e Identificadores\n",
    "* [x] Palavras Resevadas\n",
    "* [x] Funções Internas do Python\n",
    "* [x] A Função Interna <code>range()</code>\n",
    "* [x] Trabalhando com Textos (Cadeia de Caracteres/Strings)\n",
    "* [x] Trabalhando com Números (int, float e complex)\n",
    "* [x] Operadores e Expressões Aritméticas\n",
    "* [x] Estrutura de Repetição <code>for</code>\n",
    "* [x] Estrutura de Repetição <code>while</code>\n",
    "* [x] Estrutura Condicional <code>if</code>\n",
    "* [x] Funções Definidas pelo Programador ( <code>def</code> )\n",
    "* [x] **Listas**\n",
    "* [ ] Tuplas\n",
    "* [ ] Dicionários\n",
    "* [ ] Conjuntos\n",
    "* [ ] OOP com Python (Introdução)\n",
    "* [ ] Manipulando Arquivos\n",
    "* [ ] Bibliotecas ou Pacotes (Pandas e NumPy)\n",
    "* [ ] EXTRA - Fatiamento (Slice)\n",
    "* [ ] EXTRA - Operações comuns de Sequências\n",
    "* [ ] EXTRA - Markdown\n",
    "* [ ] EXTRA - Counter()\n",
    "* [ ] EXTRA - Expressões Geradoras e Iteradores\n",
    "* [ ] EXTRA - Operações Booleanas\n",
    "* [ ] EXTRA - Caracteres HTML (Markdown)"
   ]
  },
  {
   "cell_type": "markdown",
   "id": "double-minimum",
   "metadata": {},
   "source": [
    "__Listas [ ]__\n",
    "--\n",
    "O que aprenderemos: \n",
    "* características básicas\n",
    "* como acessar e gerenciar os dados de uma lista\n",
    "\n",
    "A 'lista' é uma sequência do tipo de dados compostos, que é semelhante a um dicionários por ser uma coleção de objetos.\n",
    "\n",
    "Uma 'lista' é uma sequência de valores (objetos) do tipo de dados composto, assim como uma string. Em uma string os valores são caracteres alfanuméricos, enquanto que em uma lista os valores podem ser de qualquer tipo. \n",
    "\n",
    "Os valores em uma lista são chamados de __elementos__ ou __itens__.\n",
    "\n",
    "As sequências são indexadas por inteiros (a partir do índice ZERO), enquanto dicionários são indexados por chaves (keys).\n",
    "\n",
    "As listas são delimitados por colchetes: [ ], separada por vírgulas. A lista vazia é [ ].\n",
    "\n",
    "Listas e dicionários compartilham as seguintes características:\n",
    "\n",
    "* Ambos são mutáveis: podem ser alterados.\n",
    "* Ambos são dinâmicos: Eles podem crescer e encolher conforme necessário.\n",
    "* Ambos podem ser aninhados: Uma lista pode conter outra lista. Um dicionário pode conter outro dicionário. Um dicionário também pode conter uma lista e vice-versa.\n",
    "\n",
    "Os dicionários diferem das listas principalmente na forma como os elementos são acessados:\n",
    "* Os elementos da lista são acessados por sua posição na lista através de uma indexação (os índices começam em ZERO - 0).\n",
    "* Os elementos do dicionário são acessados por meio de palavras-chaves (Keys). As palavras-chaves devem ser únicas (numéricas, cadeia de caracteres ou alfanuméricas e __imutáveis__).\n",
    "\n",
    "Existem várias formas de se criar uma lista. A mais simples e usual é colocar os seus elementos entre colchetes e separados por vírgulas.\n",
    "\n",
    "Uma lista pode ser atribuída a uma variável do usuário ou não.\n",
    "\n",
    "**Sintaxe:** <code>[item¹, item², item³, (...), item<sup>n</sup> ] </code> \n"
   ]
  },
  {
   "cell_type": "markdown",
   "id": "freelance-beijing",
   "metadata": {},
   "source": [
    "-----"
   ]
  },
  {
   "cell_type": "markdown",
   "id": "august-cornell",
   "metadata": {},
   "source": [
    "Criando Listas\n",
    "--"
   ]
  },
  {
   "cell_type": "code",
   "execution_count": 92,
   "id": "black-wages",
   "metadata": {},
   "outputs": [
    {
     "data": {
      "text/plain": [
       "[40, 22, 11, 20]"
      ]
     },
     "execution_count": 92,
     "metadata": {},
     "output_type": "execute_result"
    }
   ],
   "source": [
    "# Criando uma lista de quatro números inteiros (int) diretamente na memória (não está sendo atribuída a nenhuma 'variável').\n",
    "\n",
    "[40, 22, 11, 20]"
   ]
  },
  {
   "cell_type": "code",
   "execution_count": 93,
   "id": "adjustable-villa",
   "metadata": {},
   "outputs": [
    {
     "data": {
      "text/plain": [
       "['Python', 'Java Script', 'PHP', 'Java']"
      ]
     },
     "execution_count": 93,
     "metadata": {},
     "output_type": "execute_result"
    }
   ],
   "source": [
    "# Uma lista de quatro strings (diretamente na memória) \n",
    "\n",
    "['Python', 'Java Script', 'PHP', 'Java']"
   ]
  },
  {
   "cell_type": "markdown",
   "id": "occupational-study",
   "metadata": {},
   "source": [
    "__Os itens de uma lista pode ser qualquer tipo de dado básico do Python.__\n",
    "\n",
    "A próxima lista contém uma string, um número de ponto flutuante, um número inteiro, uma outra lista (por que não??) e um dicionário(!!)."
   ]
  },
  {
   "cell_type": "code",
   "execution_count": 1,
   "id": "voluntary-region",
   "metadata": {},
   "outputs": [],
   "source": [
    "minhaLista = ['Texto', 2.0, 5, [10, 20], {'primeiroNome': 'Marcio', 'segundoNome': 'Guillardi'}]"
   ]
  },
  {
   "cell_type": "markdown",
   "id": "continuing-adobe",
   "metadata": {},
   "source": [
    "Verificando o tipo de cada um dos itens da lista criada?"
   ]
  },
  {
   "cell_type": "code",
   "execution_count": 97,
   "id": "angry-transport",
   "metadata": {},
   "outputs": [
    {
     "name": "stdout",
     "output_type": "stream",
     "text": [
      "<class 'str'>\n",
      "<class 'float'>\n",
      "<class 'int'>\n",
      "<class 'list'>\n",
      "<class 'dict'>\n"
     ]
    }
   ],
   "source": [
    "# Verificarndo os tipos de dados da lista\n",
    "for item in minhaLista:\n",
    "    print(type(item))"
   ]
  },
  {
   "cell_type": "code",
   "execution_count": 99,
   "id": "intellectual-energy",
   "metadata": {},
   "outputs": [
    {
     "data": {
      "text/plain": [
       "['Texto',\n",
       " 2.0,\n",
       " 5,\n",
       " [10, 20],\n",
       " {'primeiroNome': 'Marcio', 'segundoNome': 'Guillardi'}]"
      ]
     },
     "execution_count": 99,
     "metadata": {},
     "output_type": "execute_result"
    }
   ],
   "source": [
    "# Verificando o conteúdo de lista que foi criada:\n",
    "minhaLista"
   ]
  },
  {
   "cell_type": "code",
   "execution_count": 100,
   "id": "worthy-phone",
   "metadata": {},
   "outputs": [
    {
     "name": "stdout",
     "output_type": "stream",
     "text": [
      "['Texto', 2.0, 5, [10, 20], {'primeiroNome': 'Marcio', 'segundoNome': 'Guillardi'}]\n"
     ]
    }
   ],
   "source": [
    "# Verificando o conteúdo de lista que foi criada:\n",
    "print(minhaLista)"
   ]
  },
  {
   "cell_type": "markdown",
   "id": "unlike-payroll",
   "metadata": {},
   "source": [
    "__Qual o tamanho de uma lista?__"
   ]
  },
  {
   "cell_type": "code",
   "execution_count": 101,
   "id": "thick-spyware",
   "metadata": {},
   "outputs": [
    {
     "data": {
      "text/plain": [
       "5"
      ]
     },
     "execution_count": 101,
     "metadata": {},
     "output_type": "execute_result"
    }
   ],
   "source": [
    "# Qual o tamanho dessa lista?\n",
    "len(minhaLista)"
   ]
  },
  {
   "cell_type": "markdown",
   "id": "labeled-costume",
   "metadata": {},
   "source": [
    "__Criando uma lista utilizando a função interna <code>list()</code>__\n",
    "> O parâmetro passado para a função <code>list()</code> pode ser qualquer tipo iterável válido em Python."
   ]
  },
  {
   "cell_type": "markdown",
   "id": "crazy-modern",
   "metadata": {},
   "source": [
    "Criando uma lista das letras de uma palavra aplicando a __função interna__ <code>list()</code>."
   ]
  },
  {
   "cell_type": "code",
   "execution_count": 78,
   "id": "tribal-nothing",
   "metadata": {},
   "outputs": [
    {
     "data": {
      "text/plain": [
       "['G', 'u', 'i', 'l', 'l', 'a', 'r', 'd', 'i']"
      ]
     },
     "execution_count": 78,
     "metadata": {},
     "output_type": "execute_result"
    }
   ],
   "source": [
    "list(\"Guillardi\")"
   ]
  },
  {
   "cell_type": "markdown",
   "id": "substantial-treasury",
   "metadata": {
    "tags": []
   },
   "source": [
    "__Criando listas dentro de uma lista (listas aninhadas).__"
   ]
  },
  {
   "cell_type": "code",
   "execution_count": 79,
   "id": "actual-experience",
   "metadata": {},
   "outputs": [
    {
     "data": {
      "text/plain": [
       "[['Marcio'], ['Guillardi'], ['Silva']]"
      ]
     },
     "execution_count": 79,
     "metadata": {},
     "output_type": "execute_result"
    }
   ],
   "source": [
    "[[\"Marcio\"], [\"Guillardi\"], [\"Silva\"]]"
   ]
  },
  {
   "cell_type": "markdown",
   "id": "intense-martin",
   "metadata": {
    "tags": []
   },
   "source": [
    "As listas aninhadas (internas) terão como valores (Itens) as letras das palavras contidas na lista original.\n",
    "\n",
    "> __Mais adiante explicaremos com mais detalhes a função interna <code>map()</code>__).<br>\n",
    "Adiantamos que o mapeamento consiste em aplicar uma função de transformação a um iterável para produzir um novo iterável.<br>\n",
    "\n",
    "No próximo exemplo utilizaremos a função interna <code>map()</code> em conjunto com a função <code>list()</code> para transformar nossa \"lista\"."
   ]
  },
  {
   "cell_type": "code",
   "execution_count": 54,
   "id": "ongoing-uncle",
   "metadata": {},
   "outputs": [
    {
     "data": {
      "text/plain": [
       "[['F', 'a', 'z', 'e', 'n', 'd', 'o'],\n",
       " ['O', 'u', 't', 'r', 'o'],\n",
       " ['T', 'e', 's', 't', 'e']]"
      ]
     },
     "execution_count": 54,
     "metadata": {},
     "output_type": "execute_result"
    }
   ],
   "source": [
    "lista = [\"Fazendo\", \"Outro\", \"Teste\"]\n",
    "list(map(list, lista))"
   ]
  },
  {
   "cell_type": "markdown",
   "id": "modular-behalf",
   "metadata": {},
   "source": [
    "Vamos criar uma lista com todas as letras de uma frase ignorando os espaçoes entre as palavras..."
   ]
  },
  {
   "cell_type": "code",
   "execution_count": 10,
   "id": "final-bibliography",
   "metadata": {},
   "outputs": [
    {
     "data": {
      "text/plain": [
       "['E', 's', 't', 'e', 'é', 'u', 'm', 't', 'e', 's']"
      ]
     },
     "execution_count": 10,
     "metadata": {},
     "output_type": "execute_result"
    }
   ],
   "source": [
    "listaDeLetras = list(i for i in \"Este é um teste de transformação\" if i != \" \")\n",
    "\n",
    "# Apresentando somente parte da lista (os 10 primeiros caracteres)\n",
    "listaDeLetras[:10]"
   ]
  },
  {
   "cell_type": "markdown",
   "id": "final-invention",
   "metadata": {},
   "source": [
    "Criando uma lista de palavras a partir de uma frase..."
   ]
  },
  {
   "cell_type": "code",
   "execution_count": 29,
   "id": "continuous-victoria",
   "metadata": {},
   "outputs": [
    {
     "data": {
      "text/plain": [
       "['Este', 'é', 'um', 'teste', 'de', 'transformação']"
      ]
     },
     "execution_count": 29,
     "metadata": {},
     "output_type": "execute_result"
    }
   ],
   "source": [
    "\"Este é um teste de transformação\".split()"
   ]
  },
  {
   "cell_type": "markdown",
   "id": "analyzed-cedar",
   "metadata": {},
   "source": [
    "> __Curiosidade__: \n",
    "--\n",
    "Uso do _sublinhado ( \\_ ) também é chamado de traço baixo, underscore ou underline_.<br><br>\n",
    "Para um resultado qualquer persistir na memória é necessário atribuí-lo a uma variável.<br>\n",
    "O resultado foi apresentado e a lista aparentemente se perdeu, pois não foi atribuída a nenhuma variável.<br>\n",
    "No entanto, se utilizarmos o 'sublinhado' imediatamente após um comando que gerou uma saída no __notebook__, obeteremos essa saída para realizar qualquer operação válida.<br>\n",
    "O resultado da saída pode ser um objeto, um resultado de uma operação ou qualquer outro tipo válido em Python.<br>"
   ]
  },
  {
   "cell_type": "code",
   "execution_count": 65,
   "id": "effective-panic",
   "metadata": {},
   "outputs": [
    {
     "data": {
      "text/plain": [
       "['Python', 'Java Script', 'PHP', 'Java']"
      ]
     },
     "execution_count": 65,
     "metadata": {},
     "output_type": "execute_result"
    }
   ],
   "source": [
    "# Obseve que o sublinhado apresenta o resultado do último comando: a criação de uma lista.\n",
    "_"
   ]
  },
  {
   "cell_type": "markdown",
   "id": "hungry-password",
   "metadata": {},
   "source": [
    "O que dá pra fazer? Qualquer operação válida para listas.<br>\n",
    "Por exemplo: acessar o terceiro elemento/valor da lista."
   ]
  },
  {
   "cell_type": "code",
   "execution_count": 68,
   "id": "timely-significance",
   "metadata": {},
   "outputs": [
    {
     "data": {
      "text/plain": [
       "'a'"
      ]
     },
     "execution_count": 68,
     "metadata": {},
     "output_type": "execute_result"
    }
   ],
   "source": [
    "_[3]      # Realizar mais operações"
   ]
  },
  {
   "cell_type": "markdown",
   "id": "organic-playback",
   "metadata": {},
   "source": [
    "---"
   ]
  },
  {
   "cell_type": "markdown",
   "id": "optional-compiler",
   "metadata": {},
   "source": [
    "Acessando/obtendo os items de uma lista\n",
    "--"
   ]
  },
  {
   "cell_type": "markdown",
   "id": "greenhouse-chile",
   "metadata": {},
   "source": [
    "A sintaxe para acessar os elementos de uma lista é a mesma utilizada para acessar os caracteres de uma string: o operador de colchete [ ]. \n",
    "\n",
    "A expressão dentro dos colchetes especifica o índice numérico correspondente ao valor na sequência. \n",
    "\n",
    "**Lembre-se: os índices em Python começam em 0 (ZERO).**"
   ]
  },
  {
   "cell_type": "code",
   "execution_count": null,
   "id": "conventional-search",
   "metadata": {},
   "outputs": [],
   "source": []
  },
  {
   "cell_type": "code",
   "execution_count": 6,
   "id": "blocked-windsor",
   "metadata": {},
   "outputs": [
    {
     "data": {
      "text/plain": [
       "'Texto'"
      ]
     },
     "execution_count": 6,
     "metadata": {},
     "output_type": "execute_result"
    }
   ],
   "source": [
    "# Retornando o primeiro item da lista\n",
    "minhaLista[0]"
   ]
  },
  {
   "cell_type": "code",
   "execution_count": null,
   "id": "laughing-burden",
   "metadata": {},
   "outputs": [],
   "source": [
    "# Acessando o quinto item da lista (um dicionário)\n",
    "minhaLista[4]"
   ]
  },
  {
   "cell_type": "markdown",
   "id": "least-collective",
   "metadata": {},
   "source": [
    "O resultado da última operação foi uma __lista aninhada (listas dentro de uma lista)__.<br>\n",
    "Vamos utilizar o \"sublinhado\" para acessar a última saída e obter da segunda lista embutida ( [2] )<br>\n",
    "o item cujo índice é ZERO."
   ]
  },
  {
   "cell_type": "code",
   "execution_count": 55,
   "id": "divine-suspect",
   "metadata": {},
   "outputs": [
    {
     "data": {
      "text/plain": [
       "'T'"
      ]
     },
     "execution_count": 55,
     "metadata": {},
     "output_type": "execute_result"
    }
   ],
   "source": [
    "# O resultado será a letra \"T\": da lista interna [2] o primeito item [0]\n",
    "_[2][0]"
   ]
  },
  {
   "cell_type": "markdown",
   "id": "neutral-horizontal",
   "metadata": {},
   "source": [
    "Nós podemos apresentar os índices correspondentes dos itens em uma lista de várias formas.\n",
    "\n",
    "Podemos utilizar a estrutura de repetição <code>for</code> ou a função interna <code>enumerate()</code>\n",
    "> O método <code>enumerate()</code> retornará uma lista contendo tuplas de dois elementos.<br>\n",
    "A cada iteração um número sequencial e um item correspondente da lista serão inseridos nessas tuplas.>br>\n",
    "__Mais adiante explicaremos um pouco mais sobre o método <code>enumerate()</code>__).<br>\n",
    "\n",
    "Observe abaixo quais são os índices das listas internas:"
   ]
  },
  {
   "cell_type": "code",
   "execution_count": 56,
   "id": "restricted-newcastle",
   "metadata": {},
   "outputs": [
    {
     "data": {
      "text/plain": [
       "[(0, 'Fazendo'), (1, 'Outro'), (2, 'Teste')]"
      ]
     },
     "execution_count": 56,
     "metadata": {},
     "output_type": "execute_result"
    }
   ],
   "source": [
    "list(enumerate(lista))"
   ]
  },
  {
   "cell_type": "markdown",
   "id": "roman-donna",
   "metadata": {},
   "source": [
    "Agora, já cientes do que o método <code>enumerate()</code> faz, vamos ao código:"
   ]
  },
  {
   "cell_type": "code",
   "execution_count": 22,
   "id": "hollow-sister",
   "metadata": {},
   "outputs": [
    {
     "name": "stdout",
     "output_type": "stream",
     "text": [
      "0 Teste\n",
      "1 Outro\n",
      "2 Novamente\n"
     ]
    }
   ],
   "source": [
    "# Aplicando um laço de repetição para obter o primeiro (indice) e o segundo (valor) das tuplas dentro da lista criada por enumerate()\n",
    "for indice, valor in enumerate(lista):\n",
    "    print(indice, valor)    "
   ]
  },
  {
   "cell_type": "markdown",
   "id": "minor-monte",
   "metadata": {},
   "source": [
    "O quinto item da lista é um dicionário. Como acessar os elementos dentro dele (do dicionário)? \n",
    "\n",
    "**O índice de uma lista começam em 0 (zero) enquanto o dicionário é acessado por sua palavra-chave (<code>key</code>), que pode ser numérica ou não.**"
   ]
  },
  {
   "cell_type": "code",
   "execution_count": null,
   "id": "identified-couple",
   "metadata": {},
   "outputs": [],
   "source": [
    "# Acessando o quinto item da lista (é um dicionário)\n",
    "# ... em seguida acessando o item correspondente à palavra-chave \"segundoNome\"\n",
    "minhaLista[4]['segundoNome']"
   ]
  },
  {
   "cell_type": "markdown",
   "id": "overhead-closer",
   "metadata": {},
   "source": [
    "Uma lista dentro de outra lista é uma lista **aninhada**."
   ]
  },
  {
   "cell_type": "code",
   "execution_count": null,
   "id": "acquired-recipe",
   "metadata": {},
   "outputs": [],
   "source": [
    "# Acessando o quarto item da lista (é uma outra lista)\n",
    "minhaLista[3]"
   ]
  },
  {
   "cell_type": "code",
   "execution_count": null,
   "id": "personalized-edwards",
   "metadata": {},
   "outputs": [],
   "source": [
    "# Do quinto item da lista obtendo o segundo item da lista \"aninhada\"...\n",
    "minhaLista[3][1]"
   ]
  },
  {
   "cell_type": "markdown",
   "id": "fifteen-shadow",
   "metadata": {},
   "source": [
    "Uma lista também pode ser fatiada (slice) como fizemos nas strings (cadeiras de caracteres):\n",
    "\n",
    "* Se omitirmos o primeiro índice, a fatia começará do início da lista até o item anterior a 'n' <code>[:n]</code>\n",
    "> 'n' não entrará no resultado. <br> Se 'n' for maior que o último item da lista toda a lista retornará como resultado do fatiamento\n",
    "* Se omitirmos o segundo índice, a fatia irá até o final da lista <code>[n:]</code>.\n",
    "> 'n' será incluído no resultado\n",
    "* Se omitirmos ambos os índices, a fatia será uma cópia da lista inteira (<code>[ : ]</code>)."
   ]
  },
  {
   "cell_type": "code",
   "execution_count": 7,
   "id": "retired-drinking",
   "metadata": {},
   "outputs": [
    {
     "data": {
      "text/plain": [
       "['f', 'g', 'h', 'i', 'j']"
      ]
     },
     "execution_count": 7,
     "metadata": {},
     "output_type": "execute_result"
    }
   ],
   "source": [
    "# Lista com as letras do alfabeto\n",
    "minhasLetras = [\"a\", \"b\", \"c\", \"d\", \"e\", \"f\", \"g\", \"h\", 'i', \"j\", \"k\", \"l\", \"m\", \"n\"]\n",
    "\n",
    "# Obtendo as letras a partir do sexto elemento ('f') até o 10º elemento (inclusive)\n",
    "minhasLetras[5:10]"
   ]
  },
  {
   "cell_type": "markdown",
   "id": "smaller-maldives",
   "metadata": {},
   "source": [
    "Se utilizarmos um índice negativo o Python entenderá que estamos acessando a lista a partir do seu final."
   ]
  },
  {
   "cell_type": "code",
   "execution_count": null,
   "id": "interior-organizer",
   "metadata": {},
   "outputs": [],
   "source": [
    "# Obtendo apenas o terceiro item a partir do final (-3 indica especificamente o terceiro item)\n",
    "minhasLetras[-3]"
   ]
  },
  {
   "cell_type": "code",
   "execution_count": null,
   "id": "changed-private",
   "metadata": {},
   "outputs": [],
   "source": [
    "# Obtendo os itens a partir do primeiro item da lista [:n] até o item -4 (excluído - exclusive)\n",
    "minhasLetras[:-4]"
   ]
  },
  {
   "cell_type": "code",
   "execution_count": null,
   "id": "aware-formula",
   "metadata": {},
   "outputs": [],
   "source": [
    "# Observe o fatiamento (slice) informando um salto de -2!!\n",
    "minhasLetras[::-2]"
   ]
  },
  {
   "cell_type": "markdown",
   "id": "corrected-million",
   "metadata": {},
   "source": [
    "Os itens foram acessados de dois em dois, a partir do final em direção ao início. À medida em que os itens foram lidos (a partir do final) foram inseridos na nova lista."
   ]
  },
  {
   "cell_type": "markdown",
   "id": "planned-metadata",
   "metadata": {},
   "source": [
    "O operador <code>in</code> também pode ser utilizado em uma lista para verificar se um determinado valor está presente."
   ]
  },
  {
   "cell_type": "code",
   "execution_count": null,
   "id": "owned-hollow",
   "metadata": {},
   "outputs": [],
   "source": [
    "2.0 in minhaLista"
   ]
  },
  {
   "cell_type": "markdown",
   "id": "alive-third",
   "metadata": {},
   "source": [
    "Para encontrar o índice correspondente de um item que sabemos estar na lista utilizamos o método <code>index()</code>:"
   ]
  },
  {
   "cell_type": "code",
   "execution_count": null,
   "id": "multiple-electricity",
   "metadata": {},
   "outputs": [],
   "source": [
    "minhaLista.index(5)"
   ]
  },
  {
   "cell_type": "markdown",
   "id": "arbitrary-balloon",
   "metadata": {},
   "source": [
    "---"
   ]
  },
  {
   "cell_type": "markdown",
   "id": "accessible-auckland",
   "metadata": {},
   "source": [
    "Copiando uma lista\n",
    "--"
   ]
  },
  {
   "cell_type": "code",
   "execution_count": 2,
   "id": "spare-inflation",
   "metadata": {},
   "outputs": [
    {
     "data": {
      "text/plain": [
       "True"
      ]
     },
     "execution_count": 2,
     "metadata": {},
     "output_type": "execute_result"
    }
   ],
   "source": [
    "# Se atribuirmos uma lista a outra lista (a partir de uma lista existente) as duas farão referência ao mesmo objeto \"lista\".\n",
    "novaLista = minhaLista\n",
    "\n",
    "novaLista is minhaLista"
   ]
  },
  {
   "cell_type": "code",
   "execution_count": 3,
   "id": "ideal-drilling",
   "metadata": {},
   "outputs": [
    {
     "data": {
      "text/plain": [
       "['Texto',\n",
       " 2.0,\n",
       " 5,\n",
       " [10, 20],\n",
       " {'primeiroNome': 'Marcio', 'segundoNome': 'Guillardi'},\n",
       " 'Nova Lista']"
      ]
     },
     "execution_count": 3,
     "metadata": {},
     "output_type": "execute_result"
    }
   ],
   "source": [
    "# Vamos modificar a novaLista...\n",
    "novaLista.append(\"Nova Lista\")\n",
    "\n",
    "# O que aconteceu com a lista original?\n",
    "minhaLista"
   ]
  },
  {
   "cell_type": "code",
   "execution_count": 4,
   "id": "geological-amazon",
   "metadata": {},
   "outputs": [
    {
     "data": {
      "text/plain": [
       "False"
      ]
     },
     "execution_count": 4,
     "metadata": {},
     "output_type": "execute_result"
    }
   ],
   "source": [
    "# Criando uma NOVA LISTA (de verdade!) - com todos os elementos [:]\n",
    "novaLista = minhaLista[:]\n",
    "\n",
    "novaLista is minhaLista"
   ]
  },
  {
   "cell_type": "code",
   "execution_count": 5,
   "id": "mighty-ultimate",
   "metadata": {},
   "outputs": [
    {
     "data": {
      "text/plain": [
       "False"
      ]
     },
     "execution_count": 5,
     "metadata": {},
     "output_type": "execute_result"
    }
   ],
   "source": [
    "# Utilizando o método copy()\n",
    "outraLista = novaLista.copy()\n",
    "\n",
    "outraLista is novaLista"
   ]
  },
  {
   "cell_type": "code",
   "execution_count": 6,
   "id": "honey-cuisine",
   "metadata": {},
   "outputs": [
    {
     "data": {
      "text/plain": [
       "['Texto',\n",
       " 3.0,\n",
       " 5,\n",
       " [10, 20],\n",
       " {'primeiroNome': 'Marcio', 'segundoNome': 'Guillardi'},\n",
       " 'Nova Lista']"
      ]
     },
     "execution_count": 6,
     "metadata": {},
     "output_type": "execute_result"
    }
   ],
   "source": [
    "# Alterando a \"outra\" lista\n",
    "outraLista[1] = 3.0\n",
    "\n",
    "# Exibindo o conteúdo (alterado o segundo valor)\n",
    "outraLista"
   ]
  },
  {
   "cell_type": "code",
   "execution_count": 7,
   "id": "revolutionary-birth",
   "metadata": {},
   "outputs": [
    {
     "data": {
      "text/plain": [
       "['Texto',\n",
       " 2.0,\n",
       " 5,\n",
       " [10, 20],\n",
       " {'primeiroNome': 'Marcio', 'segundoNome': 'Guillardi'},\n",
       " 'Nova Lista']"
      ]
     },
     "execution_count": 7,
     "metadata": {},
     "output_type": "execute_result"
    }
   ],
   "source": [
    "# Não foi alterada pela atribuição anterior\n",
    "minhaLista"
   ]
  },
  {
   "cell_type": "markdown",
   "id": "southern-controversy",
   "metadata": {},
   "source": [
    "---"
   ]
  },
  {
   "cell_type": "markdown",
   "id": "spectacular-cookie",
   "metadata": {},
   "source": [
    "Métodos de uma Lista em Python\n",
    "---\n",
    "<!--\n",
    "![](imagens/list3_ldpeim.webp)\n",
    "-->"
   ]
  },
  {
   "cell_type": "markdown",
   "id": "hawaiian-needle",
   "metadata": {},
   "source": [
    "<table id=\"customers\" style=\"width:100%; border: 1px solid black;  border-spacing: 5px;  font-size: 15px;\">\n",
    "  <tr>\n",
    "    <th>Operação</th>\n",
    "    <th>Resultado</th>\n",
    "    <th>Nota</th>\n",
    "  </tr>\n",
    "  <tr>\n",
    "    <td>append()</td>\n",
    "    <td>Adiciona um elemento no final da lista.</td>\n",
    "    <td>...</td>\n",
    "  </tr>\n",
    "  <tr>\n",
    "    <td>clear()</td>\n",
    "    <td>Remove todos os elementos da lista.</td>\n",
    "    <td>...</td>\n",
    "  </tr>\n",
    "  <tr>\n",
    "    <td>copy()</td>\n",
    "    <td>Retorna uma cópia da lista.</td>\n",
    "    <td>...</td>\n",
    "  </tr>\n",
    "  <tr>\n",
    "    <td>count()</td>\n",
    "    <td>Retorna a quantidade de elementos com determinado valor.</td>\n",
    "    <td>Austria</td>\n",
    "  </tr>\n",
    "  <tr>\n",
    "    <td>extend()</td>\n",
    "    <td>Acrescenta elementos iteráveis no final da lista.</td>\n",
    "    <td>...</td>\n",
    "  </tr>\n",
    "  <tr>\n",
    "    <td>index()</td>\n",
    "    <td>Retorna o índice do primeiro elemento que corresponda ao argumento informado</td>\n",
    "    <td>...</td>\n",
    "  </tr>\n",
    "  <tr>\n",
    "    <td>insert()</td>\n",
    "    <td>Adiciona um elemento na posição informada.</td>\n",
    "    <td>...</td>\n",
    "  </tr>\n",
    "  <tr>\n",
    "    <td>pop()</td>\n",
    "    <td>Remove o elemento correspondente à posição (índice) especificada.</td>\n",
    "    <td>...</td>\n",
    "  </tr>\n",
    "  <tr>\n",
    "    <td>remove()</td>\n",
    "    <td>Remove o elemento correspondeo ao valor informado.</td>\n",
    "    <td>UK</td>\n",
    "  </tr>\n",
    "  <tr>\n",
    "    <td>reverse()</td>\n",
    "    <td>Retorna a lista em ordem inversa da original.</td>\n",
    "    <td>...</td>\n",
    "  </tr>\n",
    "  <tr>\n",
    "    <td>sort()</td>\n",
    "    <td>Classifica/ordena a lista.</td>\n",
    "    <td>...</td>\n",
    "  </tr>\n",
    "</table>"
   ]
  },
  {
   "cell_type": "markdown",
   "id": "accessory-shuttle",
   "metadata": {},
   "source": [
    "<table class=\"align-default table\" border=\"0\">\n",
    "<colgroup>\n",
    "<col style=\"width: 12%\">\n",
    "<col style=\"width: 17%\">\n",
    "<col style=\"width: 14%\">\n",
    "<col style=\"width: 57%\">\n",
    "</colgroup>\n",
    "<thead>\n",
    "<tr class=\"row-odd\"><th class=\"head\"><p>Método</p></th>\n",
    "<th class=\"head\"><p>Parâmetros</p></th>\n",
    "<th class=\"head\"><p>Resultado</p></th>\n",
    "<th class=\"head\"><p>Descrição</p></th>\n",
    "</tr>\n",
    "</thead>\n",
    "<tbody>\n",
    "<tr class=\"row-even\"><td><p>append</p></td>\n",
    "<td><p>item</p></td>\n",
    "<td><p>mutador</p></td>\n",
    "<td><p>Acrescenta um novo item no final da lista</p></td>\n",
    "</tr>\n",
    "<tr class=\"row-odd\"><td><p>insert</p></td>\n",
    "<td><p>posição, item</p></td>\n",
    "<td><p>mutador</p></td>\n",
    "<td><p>Insere um novo item na posição dada</p></td>\n",
    "</tr>\n",
    "<tr class=\"row-even\"><td><p>pop</p></td>\n",
    "<td><p>nenhum</p></td>\n",
    "<td><p>híbrido</p></td>\n",
    "<td><p>Remove e returno o último item</p></td>\n",
    "</tr>\n",
    "<tr class=\"row-odd\"><td><p>pop</p></td>\n",
    "<td><p>posição</p></td>\n",
    "<td><p>híbrido</p></td>\n",
    "<td><p>Remove e retorna o item da posição.</p></td>\n",
    "</tr>\n",
    "<tr class=\"row-even\"><td><p>sort</p></td>\n",
    "<td><p>nenhum</p></td>\n",
    "<td><p>mutador</p></td>\n",
    "<td><p>Ordena a lista</p></td>\n",
    "</tr>\n",
    "<tr class=\"row-odd\"><td><p>reverse</p></td>\n",
    "<td><p>nenhum</p></td>\n",
    "<td><p>mutador</p></td>\n",
    "<td><p>Ordena a lista em ordem reversa</p></td>\n",
    "</tr>\n",
    "<tr class=\"row-even\"><td><p>index</p></td>\n",
    "<td><p>item</p></td>\n",
    "<td><p>retorna idx</p></td>\n",
    "<td><p>Retorna a posição da primeira ocorrência do item</p></td>\n",
    "</tr>\n",
    "<tr class=\"row-odd\"><td><p>count</p></td>\n",
    "<td><p>item</p></td>\n",
    "<td><p>retorna ct</p></td>\n",
    "<td><p>Retorna o número de ocorrências do item</p></td>\n",
    "</tr>\n",
    "<tr class=\"row-even\"><td><p>remove</p></td>\n",
    "<td><p>item</p></td>\n",
    "<td><p>mutador</p></td>\n",
    "<td><p>Remove a primeira ocorrência do item</p></td>\n",
    "</tr>\n",
    "</tbody>\n",
    "</table>\n"
   ]
  },
  {
   "cell_type": "markdown",
   "id": "superb-package",
   "metadata": {},
   "source": [
    "Operação\n",
    "\t\n",
    "\n",
    "Resultado\n",
    "\t\n",
    "\n",
    "Notas\n",
    "\n",
    "s[i] = x\n",
    "\t\n",
    "\n",
    "item i de s é substituído por x\n",
    "\t\n",
    "\n",
    "s[i:j] = t\n",
    "\t\n",
    "\n",
    "fatias de s de i até j são substituídas pelo conteúdo do iterável t\n",
    "\t\n",
    "\n",
    "del s[i:j]\n",
    "\t\n",
    "\n",
    "o mesmo que s[i:j] = []\n",
    "\t\n",
    "\n",
    "s[i:j:k] = t\n",
    "\t\n",
    "\n",
    "os elementos de s[i:j:k] são substituídos por aqueles de t\n",
    "\t\n",
    "\n",
    "(1)\n",
    "\n",
    "del s[i:j:k]\n",
    "\t\n",
    "\n",
    "remove os elementos de s[i:j:k] desde a listas\n",
    "\t\n",
    "\n",
    "s.append(x)\n",
    "\t\n",
    "\n",
    "adiciona x no final da sequência (igual a s[len(s):len(s)] = [x])\n",
    "\t\n",
    "\n",
    "s.clear()\n",
    "\t\n",
    "\n",
    "remove todos os itens de s (mesmo que del s[:])\n",
    "\t\n",
    "\n",
    "(5)\n",
    "\n",
    "s.copy()\n",
    "\t\n",
    "\n",
    "cria uma cópia rasa de s (mesmo que s[:])\n",
    "\t\n",
    "\n",
    "(5)\n",
    "\n",
    "s.extend(t) ou s += t\n",
    "\t\n",
    "\n",
    "estende s com o conteúdo de t (na maior parte do mesmo s[len(s):len(s)] = t)\n",
    "\t\n",
    "\n",
    "s *= n\n",
    "\t\n",
    "\n",
    "atualiza s com o seu conteúdo por n vezes\n",
    "\t\n",
    "\n",
    "(6)\n",
    "\n",
    "s.insert(i, x)\n",
    "\t\n",
    "\n",
    "insere x dentro de s no índice dado por i (igual a s[i:i] = [x])\n",
    "\t\n",
    "\n",
    "s.pop([i])\n",
    "\t\n",
    "\n",
    "retorna o item em i e também remove-o de s\n",
    "\t\n",
    "\n",
    "(2)\n",
    "\n",
    "s.remove(x)\n",
    "\t\n",
    "\n",
    "remove o primeiro item de s sendo s[i] igual a x\n",
    "\t\n",
    "\n",
    "(3)\n",
    "\n",
    "s.reverse()\n",
    "\t\n",
    "\n",
    "inverte os itens de s in-place\n",
    "\t\n",
    "\n",
    "(4)\n",
    "\n",
    "Notas:\n",
    "\n",
    "    t deve ter o mesmo comprimento que a fatia a qual ele está substituindo.\n",
    "\n",
    "    O argumento opcional i tem como padrão -1, de modo que, por padrão, o último item é removido e retornado.\n",
    "\n",
    "    remove() levanta ValueError quando x não é encontrado em s.\n",
    "\n",
    "    O método reverse() modifica a sequência no lugar para economizar espaço ao reverter uma grande sequência. Para lembrar os usuários que isso ocorre como sendo um efeito colateral, o mesmo não retorna a sequência invertida.\n",
    "\n",
    "    clear() e copy() estão incluídos para consistência com as interfaces de contêineres mutáveis que não suportam operações de fatiamento (como dict e set). copy() não faz parte da ABC de collections.abc.MutableSequence, mas a maioria das classes concretas de sequências mutáveis fornece isso.\n",
    "\n",
    "    Novo na versão 3.3: Métodos clear() e copy().\n",
    "\n",
    "    O valor n é um inteiro, ou um objeto implementando __index__(). Valores zero e negativos de n limparão a sequência. Os itens na sequência não são copiados; eles são referenciados várias vezes, como explicado para s * n em Operações comuns de sequências.\n"
   ]
  },
  {
   "cell_type": "code",
   "execution_count": null,
   "id": "described-relative",
   "metadata": {},
   "outputs": [],
   "source": [
    "What’s List Comprehension Anyways?\n",
    "\n",
    "List comprehension is a concise way of creating lists. Say you want to filter out all customers from your database who earn more than $1,000,000. This is what a newbie not knowing list comprehension would do:\n",
    "\n",
    "# (name, $-income)\n",
    "customers = [(\"John\", 240000),\n",
    "             (\"Alice\", 120000),\n",
    "             (\"Ann\", 1100000),\n",
    "             (\"Zach\", 44000)]\n",
    "\n",
    "# your high-value customers earning >$1M\n",
    "whales = []\n",
    "for customer, income in customers:\n",
    "    if income>1000000:\n",
    "        whales.append(customer)\n",
    "print(whales)\n",
    "# ['Ann']\n",
    "\n",
    "This snippet needs four lines just to create a list of high-value customers (whales)!\n",
    "\n",
    "If you do that in your public Python code base, be prepared to get busted for “not writing Pythonic code”. 😉\n",
    "\n",
    "Instead, a much better way of doing the same thing is to use list comprehension:\n",
    "\n",
    "whales = [x for x,y in customers if y>1000000]\n",
    "print(whales)\n",
    "# ['Ann']\n",
    "\n",
    "Beautiful, isn’t it?\n",
    "\n",
    "List comprehension is dead simple when you know the formula I will show you in a moment. So why are people confused about how to use list comprehension? Because they never looked up the most important statement on list comprehension in the Python documentation. It’s this:\n",
    "\n",
    "“A list comprehension consists of brackets containing an expression followed by a for clause, then zero or more for or if clauses. The result will be a new list resulting from evaluating the expression in the context of the for and if clauses which follow it.”\n",
    "Official Python Documentation"
   ]
  },
  {
   "cell_type": "markdown",
   "id": "fabulous-reminder",
   "metadata": {},
   "source": [
    "Vamos definir uma nova lista para os próximos exemplos"
   ]
  },
  {
   "cell_type": "code",
   "execution_count": 103,
   "id": "efficient-rapid",
   "metadata": {},
   "outputs": [
    {
     "data": {
      "text/plain": [
       "[0, 1, 2, 3, 4, 5, 6, 7, 8, 9]"
      ]
     },
     "execution_count": 103,
     "metadata": {},
     "output_type": "execute_result"
    }
   ],
   "source": [
    "#Criando uma lista com números inteiros (10 elementos - 0~9)\n",
    "listaNumeros = [n for n in range(10)]\n",
    "listaNumeros"
   ]
  },
  {
   "cell_type": "markdown",
   "id": "undefined-token",
   "metadata": {},
   "source": [
    "Para substituir um item da lista basta atribuir um novo valor utilizando o índice correspondente:"
   ]
  },
  {
   "cell_type": "code",
   "execution_count": 24,
   "id": "after-worry",
   "metadata": {},
   "outputs": [
    {
     "data": {
      "text/plain": [
       "[-1, 1, 2, 3, 4, 5, 6, 7, 8, 9]"
      ]
     },
     "execution_count": 24,
     "metadata": {},
     "output_type": "execute_result"
    }
   ],
   "source": [
    "listaNumeros[0] = -1\n",
    "listaNumeros"
   ]
  },
  {
   "cell_type": "markdown",
   "id": "accessory-perception",
   "metadata": {},
   "source": [
    "Observe o que acontece se informarmos um intervalo e atribuirmos outra lista à lista existente:"
   ]
  },
  {
   "cell_type": "code",
   "execution_count": 25,
   "id": "efficient-temple",
   "metadata": {},
   "outputs": [
    {
     "data": {
      "text/plain": [
       "[-1, 10, 20, 30, 40, 50, 1, 2, 3, 4, 5, 6, 7, 8, 9]"
      ]
     },
     "execution_count": 25,
     "metadata": {},
     "output_type": "execute_result"
    }
   ],
   "source": [
    "listaNumeros[1:1]=[10, 20, 30, 40, 50]\n",
    "listaNumeros"
   ]
  },
  {
   "cell_type": "markdown",
   "id": "respective-builder",
   "metadata": {},
   "source": [
    "A lista que atribuímos à lista existente foi inserida totalmente pois foi indicado para o Python<br>\n",
    "iniciar a substituição \"empurrando\" o segundo item ( [1:n] ) e exclusive (não substituir) o segundo item ( [n:1] )<br><br>\n",
    "Vamos fazer de novo com um intervalo de __UM__ item com o uso de fatiamento (slice):"
   ]
  },
  {
   "cell_type": "code",
   "execution_count": 26,
   "id": "incorporated-monkey",
   "metadata": {},
   "outputs": [
    {
     "data": {
      "text/plain": [
       "[-1, 11, 20, 30, 40, 50, 1, 2, 3, 4, 5, 6, 7, 8, 9]"
      ]
     },
     "execution_count": 26,
     "metadata": {},
     "output_type": "execute_result"
    }
   ],
   "source": [
    "# [1:n] indica o início\n",
    "# [n:2] indica o final - exclusive/não incluído\n",
    "\n",
    "listaNumeros[1:2] = [11]\n",
    "listaNumeros"
   ]
  },
  {
   "cell_type": "code",
   "execution_count": 108,
   "id": "wireless-devon",
   "metadata": {},
   "outputs": [
    {
     "data": {
      "text/plain": [
       "[0, 'a', 2, 'b', 4, 'c', 6, 7, 8, 9]"
      ]
     },
     "execution_count": 108,
     "metadata": {},
     "output_type": "execute_result"
    }
   ],
   "source": [
    "listaNumeros[1:7:2] = [\"a\", \"b\", \"c\"]\n",
    "listaNumeros"
   ]
  },
  {
   "cell_type": "markdown",
   "id": "circular-verse",
   "metadata": {},
   "source": [
    "O mesmo que <code>listaNumeros[1] = 11</code>"
   ]
  },
  {
   "cell_type": "markdown",
   "id": "pleasant-friendly",
   "metadata": {},
   "source": [
    "Para incluir um elemento no \"interior\" (meio) da lista podemos fazer uso da função interna (método) <code>insert(posição, valor)</code>:\n",
    "\n",
    "> Devemos informar qual a posição (indice do novo item) e em seguida o valor a ser inserido..."
   ]
  },
  {
   "cell_type": "code",
   "execution_count": 27,
   "id": "magnetic-junior",
   "metadata": {},
   "outputs": [
    {
     "data": {
      "text/plain": [
       "[-1, 11, 11, 20, 30, 40, 50, 1, 2, 3, 4, 5, 6, 7, 8, 9]"
      ]
     },
     "execution_count": 27,
     "metadata": {},
     "output_type": "execute_result"
    }
   ],
   "source": [
    "listaNumeros.insert(2, 11)\n",
    "listaNumeros"
   ]
  },
  {
   "cell_type": "markdown",
   "id": "vocational-advocacy",
   "metadata": {},
   "source": [
    "Também podemos inserir um novo item a partir do final da lista. Para tanto basta informarmos a posição com o sinal de negativo antes do número (-n):\n",
    "> __Atenção__: quando informarmos um número negativo o Python fará a inclusão antes do índice correspondente (-1 refer-se ao último item da lista)"
   ]
  },
  {
   "cell_type": "code",
   "execution_count": 29,
   "id": "functional-driver",
   "metadata": {},
   "outputs": [
    {
     "data": {
      "text/plain": [
       "[-1, 11, 11, 20, 30, 40, 50, 1, 2, 3, 4, 5, 6, 7, 100, 100, 8, 9]"
      ]
     },
     "execution_count": 29,
     "metadata": {},
     "output_type": "execute_result"
    }
   ],
   "source": [
    "listaNumeros.insert(-2, 100)\n",
    "listaNumeros"
   ]
  },
  {
   "cell_type": "markdown",
   "id": "wrong-charge",
   "metadata": {},
   "source": [
    "> __Atenção__: quando informarmos um número negativo (posição) 'maior' que a quantidade de elementos existentes, o Python fará a inclusão na primeira posição ([ 0 ]}"
   ]
  },
  {
   "cell_type": "code",
   "execution_count": 31,
   "id": "supported-equivalent",
   "metadata": {},
   "outputs": [
    {
     "data": {
      "text/plain": [
       "[-2, -2, -1, 11, 11, 20, 30, 40, 50, 1, 2, 3, 4, 5, 6, 7, 100, 100, 8, 9]"
      ]
     },
     "execution_count": 31,
     "metadata": {},
     "output_type": "execute_result"
    }
   ],
   "source": [
    "listaNumeros.insert(-20, -2)\n",
    "listaNumeros"
   ]
  },
  {
   "cell_type": "markdown",
   "id": "prospective-finish",
   "metadata": {},
   "source": [
    "Para inserir (incluir) um item no final da lista utilizamos o método <code>append()</code>:"
   ]
  },
  {
   "cell_type": "code",
   "execution_count": 34,
   "id": "suitable-motel",
   "metadata": {},
   "outputs": [
    {
     "data": {
      "text/plain": [
       "[-2,\n",
       " -2,\n",
       " -1,\n",
       " 11,\n",
       " 11,\n",
       " 20,\n",
       " 30,\n",
       " 40,\n",
       " 50,\n",
       " 1,\n",
       " 2,\n",
       " 3,\n",
       " 4,\n",
       " 5,\n",
       " 6,\n",
       " 7,\n",
       " 100,\n",
       " 100,\n",
       " 8,\n",
       " 9,\n",
       " '99',\n",
       " 99,\n",
       " 99]"
      ]
     },
     "execution_count": 34,
     "metadata": {},
     "output_type": "execute_result"
    }
   ],
   "source": [
    "listaNumeros.append(99)\n",
    "listaNumeros"
   ]
  },
  {
   "cell_type": "markdown",
   "id": "changing-point",
   "metadata": {},
   "source": [
    "Para incluirmos uma lista inteira no final de uma lista existente utilizamos o método (função interna) <code>extend(lista)</code>:"
   ]
  },
  {
   "cell_type": "code",
   "execution_count": 36,
   "id": "specific-lounge",
   "metadata": {},
   "outputs": [
    {
     "data": {
      "text/plain": [
       "[-2,\n",
       " -2,\n",
       " -1,\n",
       " 11,\n",
       " 11,\n",
       " 20,\n",
       " 30,\n",
       " 40,\n",
       " 50,\n",
       " 1,\n",
       " 2,\n",
       " 3,\n",
       " 4,\n",
       " 5,\n",
       " 6,\n",
       " 7,\n",
       " 100,\n",
       " 100,\n",
       " 8,\n",
       " 9,\n",
       " '99',\n",
       " 99,\n",
       " 99,\n",
       " 777,\n",
       " 888,\n",
       " 999,\n",
       " 777,\n",
       " 888,\n",
       " 999]"
      ]
     },
     "execution_count": 36,
     "metadata": {},
     "output_type": "execute_result"
    }
   ],
   "source": [
    "listaNumeros.extend([777, 888, 999])\n",
    "listaNumeros"
   ]
  },
  {
   "cell_type": "markdown",
   "id": "extra-flexibility",
   "metadata": {},
   "source": [
    "Agora vamos incluir em uma lista qualquer os números pares que existirem em outra lista..."
   ]
  },
  {
   "cell_type": "code",
   "execution_count": null,
   "id": "prompt-lebanon",
   "metadata": {},
   "outputs": [],
   "source": []
  },
  {
   "cell_type": "markdown",
   "id": "sorted-runner",
   "metadata": {},
   "source": [
    "Agora vamos apagar alguns itens. Para tanto vamos informar um intervalo maior e atribuir uma lista com um único valor para ver o resultado:"
   ]
  },
  {
   "cell_type": "code",
   "execution_count": null,
   "id": "trained-single",
   "metadata": {},
   "outputs": [],
   "source": [
    "# [1:n] indica o início\n",
    "# [n:6] indica o final - exclusive/não incluído\n",
    "# Os itens 10/20/30/40/50 serão excluídos\n",
    "\n",
    "listaNumeros[1:6] = [99]\n",
    "listaNumeros"
   ]
  },
  {
   "cell_type": "markdown",
   "id": "tribal-hayes",
   "metadata": {},
   "source": [
    "Todo o intervalo informado foi substituído pelo novo valor: uma lista com um único elemento."
   ]
  },
  {
   "cell_type": "code",
   "execution_count": null,
   "id": "convinced-captain",
   "metadata": {},
   "outputs": [],
   "source": [
    "listaNumeros"
   ]
  },
  {
   "cell_type": "markdown",
   "id": "applied-processor",
   "metadata": {},
   "source": [
    "Agora vamos apagar o segundo item ('99') da lista:"
   ]
  },
  {
   "cell_type": "code",
   "execution_count": null,
   "id": "recent-seller",
   "metadata": {},
   "outputs": [],
   "source": [
    "listaNumeros[1:2] = []\n",
    "listaNumeros"
   ]
  },
  {
   "cell_type": "markdown",
   "id": "renewable-pride",
   "metadata": {},
   "source": [
    "Se informarmos um intervalo maior, todos os itens do intervalo serão apagados!!"
   ]
  },
  {
   "cell_type": "code",
   "execution_count": null,
   "id": "sudden-lighting",
   "metadata": {},
   "outputs": [],
   "source": [
    "# [2:n] indica o início (o segundo item)\n",
    "# [n:len(listaNumeros)] indica o último item da lista \n",
    "# o método len() retorna o tamanho da lista que corresponde à quantidade de itens (ou o índice do último item)\n",
    "\n",
    "listaNumeros[2:len(listaNumeros)] = []"
   ]
  },
  {
   "cell_type": "code",
   "execution_count": null,
   "id": "rolled-calcium",
   "metadata": {},
   "outputs": [],
   "source": [
    "listaNumeros"
   ]
  },
  {
   "cell_type": "markdown",
   "id": "brown-journalist",
   "metadata": {},
   "source": [
    "---"
   ]
  },
  {
   "cell_type": "markdown",
   "id": "smooth-passion",
   "metadata": {},
   "source": [
    "Vamos realizar algumas operações com listas.\n",
    "---"
   ]
  },
  {
   "cell_type": "markdown",
   "id": "mexican-fifteen",
   "metadata": {},
   "source": [
    "O que acontece se adicionarmos duas listas?"
   ]
  },
  {
   "cell_type": "code",
   "execution_count": null,
   "id": "retained-aquarium",
   "metadata": {},
   "outputs": [],
   "source": [
    "# Adicionando uma lista a outra ( + )\n",
    "\n",
    "lista1 = [1, 2, 3]\n",
    "lista2 = [4, 5, 6]\n",
    "\n",
    "somaListas = lista1 + lista2\n",
    "\n",
    "somaListas"
   ]
  },
  {
   "cell_type": "markdown",
   "id": "modified-subcommittee",
   "metadata": {},
   "source": [
    "Elas foram concatenadas..."
   ]
  },
  {
   "cell_type": "code",
   "execution_count": null,
   "id": "static-investigator",
   "metadata": {},
   "outputs": [],
   "source": [
    "# Somando duas listas usando map() e lambda()\n",
    "\n",
    "lista1 = [1, 2, 3]\n",
    "lista2 = [4, 5, 6]\n",
    "\n",
    "resultado = map(lambda x, y: x + y, lista1, lista2)\n",
    "\n",
    "print(list(resultado))\n"
   ]
  },
  {
   "cell_type": "markdown",
   "id": "parliamentary-basketball",
   "metadata": {},
   "source": [
    "Neste operação as listas foram somadas..."
   ]
  },
  {
   "cell_type": "markdown",
   "id": "limited-newfoundland",
   "metadata": {},
   "source": [
    "Agora vamos multiplicar duas listas..."
   ]
  },
  {
   "cell_type": "code",
   "execution_count": null,
   "id": "honey-matrix",
   "metadata": {},
   "outputs": [],
   "source": [
    "# Multiplicando uma lista por um número qualquer ( * )\n",
    "\n",
    "lista1 = [1, 2, 3]\n",
    "lista2 = [4, 5, 6]\n",
    "\n",
    "somaListas = lista1 * 2 + lista2 * 2\n",
    "\n",
    "somaListas\n",
    "\n",
    "# Se tentarmos multiplicar uma lista por outra o Python reportará um erro"
   ]
  },
  {
   "cell_type": "code",
   "execution_count": null,
   "id": "chicken-satisfaction",
   "metadata": {},
   "outputs": [],
   "source": [
    "# Multiplicanto duas listas usando map() e lambda()\n",
    "\n",
    "lista1 = [1, 2, 3]\n",
    "lista2 = [4, 5, 6]\n",
    "\n",
    "resultado = map(lambda x, y: x * y, lista1, lista2)\n",
    "\n",
    "print(list(resultado))\n"
   ]
  },
  {
   "cell_type": "markdown",
   "id": "adequate-maldives",
   "metadata": {},
   "source": [
    "Podemos ainda multiplicar cada item da lista um por todos os itens da lista2"
   ]
  },
  {
   "cell_type": "code",
   "execution_count": 42,
   "id": "white-possibility",
   "metadata": {},
   "outputs": [
    {
     "data": {
      "text/plain": [
       "[1, 4, 9, 16, 25, 36, 49, 64, 81]"
      ]
     },
     "execution_count": 42,
     "metadata": {},
     "output_type": "execute_result"
    }
   ],
   "source": [
    "[ i for i in range(1, 100) if int(i**0.5) == i**0.5 ]"
   ]
  },
  {
   "cell_type": "code",
   "execution_count": null,
   "id": "upper-hands",
   "metadata": {},
   "outputs": [],
   "source": [
    "# Vamos criar uma lista com todos as letras do alfabeto\n",
    "listaAlfabeto = [chr(letra) for letra in range(97, 123)]\n",
    "\n",
    "# O método chr(n) transforma um valor númerico em seu correspondente na tabela ASCII"
   ]
  },
  {
   "cell_type": "code",
   "execution_count": null,
   "id": "agricultural-seating",
   "metadata": {},
   "outputs": [],
   "source": [
    "listaAlfabeto"
   ]
  },
  {
   "cell_type": "code",
   "execution_count": null,
   "id": "ready-device",
   "metadata": {},
   "outputs": [],
   "source": [
    "def main () :\n",
    "    print(\"  ------------\")\n",
    "    print(\"  Números\")\n",
    "    print(\"  ------------\")\n",
    "    for i in range(48, 58):\n",
    "        print(\" %3d:%3c\" % (i, chr(i)))\n",
    "    print(\"  -------------------------\")\n",
    "    print(\"  Letras/Alfabeto\")\n",
    "    print(\"  ------------------------\")\n",
    "    for i in range(65, 91) :\n",
    "        print(\" %3d:%3c\" % (i, chr(i)), \" | \", \" %3d:%3c\" % (i+32, chr(i+32)));\n",
    "\n",
    "main()"
   ]
  },
  {
   "cell_type": "code",
   "execution_count": null,
   "id": "facial-terrace",
   "metadata": {},
   "outputs": [],
   "source": [
    "# Criar uma lista com todas as letras do alfabeto\n",
    "meusInteiros = [n for n in range(10)]\n",
    "meusInteiros"
   ]
  },
  {
   "cell_type": "code",
   "execution_count": null,
   "id": "pleasant-computer",
   "metadata": {},
   "outputs": [],
   "source": [
    "# Definindo uma lista com  números inteiros de 0 a 9.\n",
    "meusInteiros = [n for n in range(10)]\n",
    "meusInteiros"
   ]
  },
  {
   "cell_type": "code",
   "execution_count": 7,
   "id": "aquatic-lindsay",
   "metadata": {},
   "outputs": [
    {
     "data": {
      "text/plain": [
       "['Em',\n",
       " 'um',\n",
       " 'mundo',\n",
       " 'repleto',\n",
       " 'de',\n",
       " 'tecnologia,',\n",
       " 'quem',\n",
       " 'não',\n",
       " 'aprender',\n",
       " 'a',\n",
       " 'programar',\n",
       " 'será',\n",
       " 'programado',\n",
       " '-',\n",
       " 'Mitchel',\n",
       " 'Resnick']"
      ]
     },
     "execution_count": 7,
     "metadata": {},
     "output_type": "execute_result"
    }
   ],
   "source": [
    "# Criar uma lista a partir de um texto\n",
    "meuTexto = \"Em um mundo repleto de tecnologia, quem não aprender a programar será programado - Mitchel Resnick\".split()\n",
    "\n",
    "meuTexto"
   ]
  },
  {
   "cell_type": "code",
   "execution_count": null,
   "id": "southern-enhancement",
   "metadata": {},
   "outputs": [],
   "source": [
    "# Filtrando a lista e retirando os itens cujo tamanho seja menor que QUATRO (retornar somente o que for maior que TRÊS)\n",
    "[palavra for palavra in meuTexto if len(palavra) > 3]"
   ]
  },
  {
   "cell_type": "code",
   "execution_count": null,
   "id": "auburn-prerequisite",
   "metadata": {},
   "outputs": [],
   "source": [
    "# Lembra do sublinhado? Vamos \"fatiar\" o resultado... retornar os items a partir do sexto elemento da lista:\n",
    "_[5:]"
   ]
  },
  {
   "cell_type": "markdown",
   "id": "aging-playback",
   "metadata": {},
   "source": [
    "---"
   ]
  },
  {
   "cell_type": "markdown",
   "id": "special-cache",
   "metadata": {},
   "source": [
    "---"
   ]
  },
  {
   "cell_type": "markdown",
   "id": "pleasant-laugh",
   "metadata": {},
   "source": [
    "index(valor, inicio, final)\n",
    "--"
   ]
  },
  {
   "cell_type": "markdown",
   "id": "angry-consideration",
   "metadata": {},
   "source": [
    "So the syntax is: list_name.index(element, start, stop).\n",
    "\n",
    "Here the start and stop values are optional. In fact, only use it when entirely sure about the range else you will get a ValueError as below."
   ]
  },
  {
   "cell_type": "code",
   "execution_count": 100,
   "id": "developing-disorder",
   "metadata": {},
   "outputs": [
    {
     "data": {
      "text/plain": [
       "6"
      ]
     },
     "execution_count": 100,
     "metadata": {},
     "output_type": "execute_result"
    }
   ],
   "source": [
    "list_numbers = [1, 2, 3, 4, 5, 6, 7, 8, 9, 10]\n",
    "element = 7\n",
    "list_numbers.index(element, 5, 8)"
   ]
  },
  {
   "cell_type": "markdown",
   "id": "proprietary-steel",
   "metadata": {},
   "source": [
    "Bonus: Since the index() only returns the first match to an object, you can use list comprehension, or generator expression if you need the positions of more matches in the list. Here is how:"
   ]
  },
  {
   "cell_type": "code",
   "execution_count": null,
   "id": "helpful-express",
   "metadata": {},
   "outputs": [],
   "source": [
    "list_numbers = [3, 1, 2, 3, 3, 4, 5, 6, 3, 7, 8, 9, 10]\n",
    "[i for i, n in enumerate(list_numbers) if n == 3] # List comprehension"
   ]
  },
  {
   "cell_type": "code",
   "execution_count": 101,
   "id": "innocent-workplace",
   "metadata": {},
   "outputs": [
    {
     "name": "stdout",
     "output_type": "stream",
     "text": [
      "Generators store values, the first value here is: 0 . Then the next is: 3 followed by  4 and finally  8\n"
     ]
    }
   ],
   "source": [
    "list_numbers = [3, 1, 2, 3, 3, 4, 5, 6, 3, 7, 8, 9, 10]\n",
    "g = (i for i, n in enumerate(list_numbers) if n == 3) # Generator expression\n",
    "print(\"Generators store values, the first value here is:\", next(g), \". Then the next is:\", next(g), \"followed by \", next(g),\"and finally \", next(g))"
   ]
  },
  {
   "cell_type": "markdown",
   "id": "brazilian-cartridge",
   "metadata": {},
   "source": [
    "---"
   ]
  },
  {
   "cell_type": "markdown",
   "id": "diverse-elizabeth",
   "metadata": {},
   "source": [
    "sort()\n",
    "---"
   ]
  },
  {
   "cell_type": "code",
   "execution_count": 79,
   "id": "usual-terminology",
   "metadata": {},
   "outputs": [],
   "source": [
    "# Criando a lista com itens em ordem aleatória\n",
    "lst = [88, 12, 42, 11, 2]"
   ]
  },
  {
   "cell_type": "code",
   "execution_count": 80,
   "id": "german-tenant",
   "metadata": {},
   "outputs": [
    {
     "data": {
      "text/plain": [
       "[2, 11, 12, 42, 88]"
      ]
     },
     "execution_count": 80,
     "metadata": {},
     "output_type": "execute_result"
    }
   ],
   "source": [
    "# Classificação pura e simples da lista\n",
    "lst.sort()\n",
    "lst"
   ]
  },
  {
   "cell_type": "code",
   "execution_count": 82,
   "id": "further-benjamin",
   "metadata": {},
   "outputs": [
    {
     "data": {
      "text/plain": [
       "[11, 12, 2, 42, 88]"
      ]
     },
     "execution_count": 82,
     "metadata": {},
     "output_type": "execute_result"
    }
   ],
   "source": [
    "# Classificando a lista e informando que a \"chave\" de classificação é o primeiro caracter (dígito) de cada item (todos os demais dígitos dos números serão ignorados)\n",
    "lst.sort(key=lambda x: str(x)[0])\n",
    "lst"
   ]
  },
  {
   "cell_type": "code",
   "execution_count": 83,
   "id": "brave-cooperation",
   "metadata": {},
   "outputs": [
    {
     "data": {
      "text/plain": [
       "[88, 42, 12, 11, 2]"
      ]
     },
     "execution_count": 83,
     "metadata": {},
     "output_type": "execute_result"
    }
   ],
   "source": [
    "# Classificando a lista de forma decrescente\n",
    "lst.sort(reverse=True)\n",
    "lst"
   ]
  },
  {
   "cell_type": "markdown",
   "id": "subject-heritage",
   "metadata": {},
   "source": [
    "O método <code>sort()</code> é utilizado somente em objetos do tipo lista __(list)__. Existe o método <code>sorted()</code> que é utilizado em qualquer objeto iterável:"
   ]
  },
  {
   "cell_type": "code",
   "execution_count": 93,
   "id": "hydraulic-august",
   "metadata": {},
   "outputs": [
    {
     "data": {
      "text/plain": [
       "[1, 2, 3, 4, 5]"
      ]
     },
     "execution_count": 93,
     "metadata": {},
     "output_type": "execute_result"
    }
   ],
   "source": [
    "dct = {4: \"Objeto\", 3: \"Iterável\", 5: \"Pode\", 1: \"Ser\", 2: \"Classificado\"}\n",
    "sorted(dct)"
   ]
  },
  {
   "cell_type": "markdown",
   "id": "improving-privacy",
   "metadata": {},
   "source": [
    "Outro exemplo com mais parâmetros para o método <code>sorted()</code>..."
   ]
  },
  {
   "cell_type": "code",
   "execution_count": 96,
   "id": "split-artwork",
   "metadata": {},
   "outputs": [
    {
     "data": {
      "text/plain": [
       "['cadeia',\n",
       " 'caracteres',\n",
       " 'classificar!',\n",
       " 'de',\n",
       " 'Esta',\n",
       " 'o',\n",
       " 'para',\n",
       " 'Python',\n",
       " 'uma',\n",
       " 'é']"
      ]
     },
     "execution_count": 96,
     "metadata": {},
     "output_type": "execute_result"
    }
   ],
   "source": [
    "sorted(\"Esta é uma cadeia de caracteres para o Python classificar!\".split(), key = str.lower)"
   ]
  },
  {
   "cell_type": "markdown",
   "id": "potential-potato",
   "metadata": {},
   "source": [
    "Ao classificar uma lista de palavras podemos verificar que os caracteres  maiúsculos estarão antes dos minúsculos... \n",
    "\n",
    "Observe abaixo:"
   ]
  },
  {
   "cell_type": "code",
   "execution_count": 91,
   "id": "ranking-charlotte",
   "metadata": {},
   "outputs": [
    {
     "data": {
      "text/plain": [
       "['Ao',\n",
       " 'B',\n",
       " 'Considera',\n",
       " 'Estarem',\n",
       " 'Maiúsculos',\n",
       " 'Python',\n",
       " 'a',\n",
       " 'c',\n",
       " 'caracters',\n",
       " 'classificar',\n",
       " 'em',\n",
       " 'lugar',\n",
       " 'o',\n",
       " 'os',\n",
       " 'para',\n",
       " 'primeiro',\n",
       " 'strings',\n",
       " 'x']"
      ]
     },
     "execution_count": 91,
     "metadata": {},
     "output_type": "execute_result"
    }
   ],
   "source": [
    "listaPalavras = [\"x\", \"Ao\", \"classificar\", \"strings\", \"o\", \"Python\", \"Considera\", \"os\", \"caracters\", \"Maiúsculos\", \"para\", \"Estarem\", \"em\", \"primeiro\", \"lugar\", \"a\", \"B\", \"c\"]\n",
    "listaPalavras.sort()\n",
    "\n",
    "listaPalavras"
   ]
  },
  {
   "cell_type": "markdown",
   "id": "positive-frame",
   "metadata": {},
   "source": [
    "Então devemos informar que a classificação deverá ser efetuada considerando a palavra na sua forma \"minúscula\" ( ou vice-versa com o método <code>upper()</code>)"
   ]
  },
  {
   "cell_type": "code",
   "execution_count": 97,
   "id": "meaningful-documentary",
   "metadata": {},
   "outputs": [
    {
     "data": {
      "text/plain": [
       "['a',\n",
       " 'Ao',\n",
       " 'B',\n",
       " 'c',\n",
       " 'caracters',\n",
       " 'classificar',\n",
       " 'Considera',\n",
       " 'em',\n",
       " 'Estarem',\n",
       " 'lugar',\n",
       " 'Maiúsculos',\n",
       " 'o',\n",
       " 'os',\n",
       " 'para',\n",
       " 'primeiro',\n",
       " 'Python',\n",
       " 'strings',\n",
       " 'x']"
      ]
     },
     "execution_count": 97,
     "metadata": {},
     "output_type": "execute_result"
    }
   ],
   "source": [
    "listaPalavras = [\"x\", \"Ao\", \"classificar\", \"strings\", \"o\", \"Python\", \"Considera\", \"os\", \"caracters\", \"Maiúsculos\", \"para\", \"Estarem\", \"em\", \"primeiro\", \"lugar\", \"a\", \"B\", \"c\"]\n",
    "listaPalavras.sort(key=lambda x: x.lower())\n",
    "\n",
    "listaPalavras"
   ]
  },
  {
   "cell_type": "markdown",
   "id": "modified-victoria",
   "metadata": {},
   "source": [
    "Vamos classificar uma lista com vários nomes (nome, sobrenome e idade):"
   ]
  },
  {
   "cell_type": "code",
   "execution_count": 99,
   "id": "solar-shareware",
   "metadata": {},
   "outputs": [
    {
     "data": {
      "text/plain": [
       "[('Aurora', 'Carvalho', 12),\n",
       " ('Rebeca', 'Peixoto', 29),\n",
       " ('Filipe', 'Guillardi', 33)]"
      ]
     },
     "execution_count": 99,
     "metadata": {},
     "output_type": "execute_result"
    }
   ],
   "source": [
    "filhosTuplas = [\n",
    "    ('Filipe', 'Guillardi', 33),\n",
    "    ('Aurora', 'Carvalho', 12),\n",
    "    ('Rebeca', 'Peixoto', 29),]\n",
    "\n",
    "# Classificar pelo item numérico que representa a idade (índice: 2)\n",
    "sorted(filhosTuplas, key=lambda idade: idade[2])\n"
   ]
  },
  {
   "cell_type": "markdown",
   "id": "comparable-monthly",
   "metadata": {},
   "source": [
    "> __Para mais informações acesse a documentação oficial do Python: https://docs.python.org/3/howto/sorting.html__"
   ]
  },
  {
   "cell_type": "markdown",
   "id": "prompt-toilet",
   "metadata": {},
   "source": [
    "---"
   ]
  },
  {
   "cell_type": "markdown",
   "id": "infinite-radio",
   "metadata": {},
   "source": [
    "\n",
    "\n",
    "10.3 - Percorrendo uma lista\n",
    "\n",
    "A forma mais comum de percorrer os elementos em uma lista é com um loop for. A sintaxe é a mesma que a das strings:\n",
    "\n",
    "for cheese in cheeses:\n",
    "    print(cheese)\n",
    "\n",
    "Isso funciona bem se você precisa apenas ler os elementos da lista. Mas se você quer escrever ou atualizar os elementos, você precisa dos índices. Uma forma comum de fazer isso é combinar as funções integradas range e len:\n",
    "\n",
    "for i in range(len(numbers)):\n",
    "    numbers[i] = numbers[i] * 2\n",
    "\n",
    "Este loop percorre a lista e atualiza cada elemento. len retorna o número de elementos na lista. range retorna uma lista de índices de 0 a n-1, em que n é o comprimento da lista. Cada vez que passa pelo loop, i recebe o índice do próximo elemento. A instrução de atribuição no corpo usa i para ler o valor antigo do elemento e atribuir o novo valor.\n",
    "\n",
    "Um loop for que passe por uma lista vazia nunca executa o corpo:\n",
    "\n",
    "for x in []:\n",
    "    print('This never happens.')\n",
    "\n",
    "Apesar de uma lista poder conter outra lista, a lista aninhada ainda conta como um único elemento. O comprimento desta lista é quatro:\n",
    "\n",
    "['spam', 1, ['Brie', 'Roquefort', 'Pol le Veq'], [1, 2, 3]]\n",
    "\n",
    "10.4 - Operações com listas\n",
    "\n",
    "O operador + concatena listas:\n",
    "\n",
    ">>> a = [1, 2, 3]\n",
    ">>> b = [4, 5, 6]\n",
    ">>> c = a + b\n",
    ">>> c\n",
    "[1, 2, 3, 4, 5, 6]\n",
    "\n",
    "O operador * repete a lista um dado número de vezes:\n",
    "\n",
    ">>> [0] * 4\n",
    "[0, 0, 0, 0]\n",
    ">>> [1, 2, 3] * 3\n",
    "[1, 2, 3, 1, 2, 3, 1, 2, 3]\n",
    "\n",
    "O primeiro exemplo repete [0] quatro vezes. O segundo exemplo repete a lista [1, 2, 3] três vezes.\n",
    "10.5 - Fatias de listas\n",
    "\n",
    "O operador de fatiamento também funciona com listas:\n",
    "\n",
    ">>> t = ['a', 'b', 'c', 'd', 'e', 'f']\n",
    ">>> t[1:3]\n",
    "['b', 'c']\n",
    ">>> t[:4]\n",
    "['a', 'b', 'c', 'd']\n",
    ">>> t[3:]\n",
    "['d', 'e', 'f']\n",
    "\n",
    "Se você omitir o primeiro índice, a fatia começa no início. Se você omitir o segundo, a fatia vai até o final. Se você omitir ambos, a fatia é uma cópia da lista inteira.\n",
    "\n",
    ">>> t[:]\n",
    "['a', 'b', 'c', 'd', 'e', 'f']\n",
    "\n",
    "Como as listas são mutáveis, pode ser útil fazer uma cópia antes de executar operações que as alterem.\n",
    "\n",
    "Um operador de fatia à esquerda de uma atribuição pode atualizar vários elementos:\n",
    "\n",
    ">>> t = ['a', 'b', 'c', 'd', 'e', 'f']\n",
    ">>> t[1:3] = ['x', 'y']\n",
    ">>> t\n",
    "['a', 'x', 'y', 'd', 'e', 'f']\n",
    "\n",
    "10.6 - Métodos de listas\n",
    "\n",
    "O Python oferece métodos que operam em listas. Por exemplo, append adiciona um novo elemento ao fim de uma lista:\n",
    "\n",
    ">>> t = ['a', 'b', 'c']\n",
    ">>> t.append('d')\n",
    ">>> t\n",
    "['a', 'b', 'c', 'd']\n",
    "\n",
    "extend toma uma lista como argumento e adiciona todos os elementos:\n",
    "\n",
    ">>> t1 = ['a', 'b', 'c']\n",
    ">>> t2 = ['d', 'e']\n",
    ">>> t1.extend(t2)\n",
    ">>> t1\n",
    "['a', 'b', 'c', 'd', 'e']\n",
    "\n",
    "Este exemplo deixa t2 intocado.\n",
    "\n",
    "sort classifica os elementos da lista em ordem ascendente:\n",
    "\n",
    ">>> t = ['d', 'c', 'e', 'b', 'a']\n",
    ">>> t.sort()\n",
    ">>> t\n",
    "['a', 'b', 'c', 'd', 'e']\n",
    "\n",
    "A maior parte dos métodos de listas são nulos; eles alteram a lista e retornam None. Se você escrever t = t.sort() por acidente, ficará desapontado com o resultado.\n",
    "10.7 - Mapeamento, filtragem e redução\n",
    "\n",
    "Para somar o total de todos os números em uma lista, você pode usar um loop como esse:\n",
    "\n",
    "def add_all(t):\n",
    "    total = 0\n",
    "    for x in t:\n",
    "        total += x\n",
    "    return total\n",
    "\n",
    "total é inicializado com 0. Cada vez que o programa passa pelo loop, x recebe um elemento da lista. O operador += oferece uma forma curta de atualizar uma variável. Esta instrução de atribuição aumentada,\n",
    "\n",
    "total += x\n",
    "\n",
    "é equivalente a\n",
    "\n",
    "total = total + x\n",
    "\n",
    "No decorrer da execução do loop, total acumula a soma dos elementos; uma variável usada desta forma às vezes é chamada de acumuladora.\n",
    "\n",
    "Somar todos elementos de uma lista é uma operação tão comum que o Python a oferece como uma função integrada, sum:\n",
    "\n",
    ">>> t = [1, 2, 3]\n",
    ">>> sum(t)\n",
    "6\n",
    "\n",
    "Uma operação como essa, que combina uma sequência de elementos em um único valor, às vezes é chamada de redução.\n",
    "\n",
    "Algumas vezes você quer percorrer uma lista enquanto cria outra. Por exemplo, a função seguinte recebe uma lista de strings e retorna uma nova lista que contém strings com letras maiúsculas:\n",
    "\n",
    "def capitalize_all(t):\n",
    "    res = []\n",
    "    for s in t:\n",
    "        res.append(s.capitalize())\n",
    "    return res\n",
    "\n",
    "res é inicializado com uma lista vazia; cada vez que o programa passa pelo loop, acrescentamos o próximo elemento. Então res é outro tipo de acumulador.\n",
    "\n",
    "Uma operação como capitalize_all às vezes é chamada de mapeamento porque ela “mapeia” uma função (nesse caso o método capitalize) sobre cada um dos elementos em uma sequência.\n",
    "\n",
    "Outra operação comum é selecionar alguns dos elementos de uma lista e retornar uma sublista. Por exemplo, a função seguinte recebe uma lista de strings e retorna uma lista que contém apenas strings em letra maiúscula:\n",
    "\n",
    "def only_upper(t):\n",
    "    res = []\n",
    "    for s in t:\n",
    "        if s.isupper():\n",
    "            res.append(s)\n",
    "    return res\n",
    "\n",
    "isupper é um método de string que retorna True se a string contiver apenas letras maiúsculas.\n",
    "\n",
    "Uma operação como only_upper é chamada de filtragem porque filtra alguns dos elementos e desconsidera outros.\n",
    "\n",
    "As operações de lista mais comuns podem ser expressas como uma combinação de mapeamento, filtragem e redução.\n",
    "10.8 - Como excluir elementos\n",
    "\n",
    "Há várias formas de excluir elementos de uma lista. Se souber o índice do elemento que procura, você pode usar pop:\n",
    "\n",
    ">>> t = ['a', 'b', 'c']\n",
    ">>> x = t.pop(1)\n",
    ">>> t\n",
    "['a', 'c']\n",
    ">>> x\n",
    "'b'\n",
    "\n",
    "pop altera a lista e retorna o elemento que foi excluído. Se você não incluir um índice, ele exclui e retorna o último elemento.\n",
    "\n",
    "Se não precisar do valor removido, você pode usar a instrução del:\n",
    "\n",
    ">>> t = ['a', 'b', 'c']\n",
    ">>> del t[1]\n",
    ">>> t\n",
    "['a', 'c']\n",
    "\n",
    "Se souber o elemento que quer excluir (mas não o índice), você pode usar remove:\n",
    "\n",
    ">>> t = ['a', 'b', 'c']\n",
    ">>> t.remove('b')\n",
    ">>> t\n",
    "['a', 'c']\n",
    "\n",
    "O valor devolvido por remove é None.\n",
    "\n",
    "Para remover mais de um elemento, você pode usar del com um índice de fatia:\n",
    "\n",
    ">>> t = ['a', 'b', 'c', 'd', 'e', 'f']\n",
    ">>> del t[1:5]\n",
    ">>> t\n",
    "['a', 'f']\n",
    "\n",
    "Como sempre, a fatia seleciona todos os elementos até, mas não incluindo, o segundo índice.\n",
    "10.9 - Listas e strings\n",
    "\n",
    "Uma string é uma sequência de caracteres e uma lista é uma sequência de valores, mas uma lista de caracteres não é a mesma coisa que uma string. Para converter uma string em uma lista de caracteres, você pode usar list:\n",
    "\n",
    ">>> s = 'spam'\n",
    ">>> t = list(s)\n",
    ">>> t\n",
    "['s', 'p', 'a', 'm']\n",
    "\n",
    "Como list é o nome de uma função integrada, você deve evitar usá-lo como nome de variável. Também evito usar l porque parece demais com 1. É por isso que uso t.\n",
    "\n",
    "A função list quebra uma string em letras individuais. Se você quiser quebrar uma string em palavras, você pode usar o método split:\n",
    "\n",
    ">>> s = 'pining for the fjords'\n",
    ">>> t = s.split()\n",
    ">>> t\n",
    "['pining', 'for', 'the', 'fjords']\n",
    "\n",
    "Um argumento opcional chamado delimiter especifica quais caracteres podem ser usados para demonstrar os limites das palavras. O exemplo seguinte usa um hífen como delimitador:\n",
    "\n",
    ">>> s = 'spam-spam-spam'\n",
    ">>> delimiter = '-'\n",
    ">>> t = s.split(delimiter)\n",
    ">>> t\n",
    "['spam', 'spam', 'spam']\n",
    "\n",
    "join é o contrário de split. Ele toma uma lista de strings e concatena os elementos. join é um método de string, então é preciso invocá-lo no delimitador e passar a lista como parâmetro:\n",
    "\n",
    ">>> t = ['pining', 'for', 'the', 'fjords']\n",
    ">>> delimiter = ' '\n",
    ">>> s = delimiter.join(t)\n",
    ">>> s\n",
    "'pining for the fjords'\n",
    "\n",
    "Nesse caso, o delimitador é um caractere de espaço, então join coloca um espaço entre as palavras. Para concatenar strings sem espaços, você pode usar a string vazia '', como delimitador.\n",
    "\n",
    "10.10 - Objetos e valores\n",
    "\n",
    "Se executarmos essas instruções de atribuição:\n",
    "\n",
    "a = 'banana'\n",
    "b = 'banana'\n",
    "\n",
    "Sabemos que a e b se referem a uma string, mas não sabemos se elas se referem à mesma string. Há dois estados possíveis, mostrados na Figura 10.2.\n",
    "\n",
    "Figura 10.2 – Diagramas de estado possíveis com duas variáveis.\n",
    "Figura 10.2 – Diagramas de estado possíveis com duas variáveis.\n",
    "\n",
    "Em um caso, a e b se referem a dois objetos diferentes que têm o mesmo valor. No segundo caso, elas se referem ao mesmo objeto.\n",
    "\n",
    "Para verificar se duas variáveis se referem ao mesmo objeto, você pode usar o operador is:\n",
    "\n",
    ">>> a = 'banana'\n",
    ">>> b = 'banana'\n",
    ">>> a is b\n",
    "True\n",
    "\n",
    "Nesse exemplo, o Python criou apenas um objeto de string e tanto a quanto b se referem a ele. Mas quando você cria duas listas, você tem dois objetos:\n",
    "\n",
    ">>> a = [1, 2, 3]\n",
    ">>> b = [1, 2, 3]\n",
    ">>> a is b\n",
    "False\n",
    "\n",
    "Então o diagrama de estado fica igual ao da Figura 10.3.\n",
    "\n",
    "Figura 10.3 – Diagrama de estado com variáveis associadas a listas distintas, de mesmo valor.\n",
    "Figura 10.3 – Diagrama de estado com variáveis associadas a listas distintas, de mesmo valor.\n",
    "\n",
    "Nesse caso, diríamos que as duas listas são equivalentes, porque elas têm os mesmos elementos, mas não idênticas, porque elas não são o mesmo objeto. Se dois objetos forem idênticos, eles também são equivalentes, mas se eles forem equivalentes, não são necessariamente idênticos.\n",
    "\n",
    "Até agora, temos usado “objeto” e “valor” de forma intercambiável, mas é mais exato dizer que um objeto tem um valor. Se avaliar [1, 2, 3], você tem um objeto de lista cujo valor é uma sequência de números inteiros. Se outra lista tem os mesmos elementos, dizemos que tem o mesmo valor, mas não é o mesmo objeto.\n",
    "10.11 - Alias\n",
    "\n",
    "Se a se refere a um objeto e você atribui b = a, então ambas as variáveis se referem ao mesmo objeto.\n",
    "\n",
    ">>> a = [1, 2, 3]\n",
    ">>> b = a\n",
    ">>> b is a\n",
    "True\n",
    "\n",
    "O diagrama de estado ficará igual à Figura 10.4.\n",
    "\n",
    "Figura 10.4 – Diagrama de estado com duas variáveis associadas à mesma lista.\n",
    "Figura 10.4 – Diagrama de estado com duas variáveis associadas à mesma lista.\n",
    "\n",
    "A associação de uma variável com um objeto é chamada de referência. Neste exemplo, há duas referências ao mesmo objeto.\n",
    "\n",
    "Um objeto com mais de uma referência tem mais de um nome, então dizemos que o objeto tem um alias.\n",
    "\n",
    "Se o objeto com alias é mutável, alterações feitas em um alias afetam o outro também.\n",
    "\n",
    ">>> b[0] = 42\n",
    ">>> a\n",
    "[42, 2, 3]\n",
    "\n",
    "Apesar de esse comportamento poder ser útil, ele é passível de erros. Em geral, é mais seguro evitar usar alias ao trabalhar com objetos mutáveis.\n",
    "\n",
    "Para objetos imutáveis como strings, usar alias não é um problema tão grande. Neste exemplo:\n",
    "\n",
    "a = 'banana'\n",
    "b = 'banana'\n",
    "\n",
    "Quase nunca faz diferença se a e b se referem à mesma string ou não.\n",
    "10.12 - Argumentos de listas\n",
    "\n",
    "Ao passar uma lista a uma função, a função recebe uma referência à lista. Se a função alterar a lista, quem faz a chamada vê a mudança. Por exemplo, delete_head remove o primeiro elemento de uma lista:\n",
    "\n",
    "def delete_head(t):\n",
    "    del t[0]\n",
    "Ela é usada assim:\n",
    ">>> letters = ['a', 'b', 'c']\n",
    ">>> delete_head(letters)\n",
    ">>> letters\n",
    "['b', 'c']\n",
    "\n",
    "O parâmetro t e a variável letters são alias para o mesmo objeto. O diagrama da pilha fica igual ao da Figura 10.5.\n",
    "\n",
    "Figura 10.5 – Diagrama da pilha: `__main__` e `delete_head` compartilham referências à mesma lista.\n",
    "Figura 10.5 – Diagrama da pilha: __main__ e delete_head compartilham referências à mesma lista.\n",
    "\n",
    "Como a lista é compartilhada por dois frames, desenhei-a entre eles.\n",
    "\n",
    "É importante distinguir entre operações que alteram listas e operações que criam novas listas. Por exemplo, o método append altera a lista, mas o operador + cria uma nova lista:\n",
    "\n",
    ">>> t1 = [1, 2]\n",
    ">>> t2 = t1.append(3)\n",
    ">>> t1\n",
    "[1, 2, 3]\n",
    ">>> t2\n",
    "None\n",
    "\n",
    "Note que append altera a lista e retorna None (na realidade, o console do Python omite o None da saída, mas você pode conferir usando t2 is None).\n",
    "\n",
    ">>> t3 = t1 + [4]\n",
    ">>> t1\n",
    "[1, 2, 3]\n",
    ">>> t3\n",
    "[1, 2, 3, 4]\n",
    ">>> t1\n",
    "\n",
    "O operador + cria uma nova lista e deixa a lista original inalterada.\n",
    "\n",
    "Essa diferença é importante quando você escreve funções que devem alterar listas. Por exemplo, esta função não remove a cabeça de uma lista:\n",
    "\n",
    "def bad_delete_head(t):\n",
    "    t = t[1:]              # ERRADO!\n",
    "\n",
    "O operador de fatia cria uma nova lista e a atribuição faz t se referir a ela, mas isso não afeta quem faz chamada.\n",
    "\n",
    ">>> t4 = [1, 2, 3]\n",
    ">>> bad_delete_head(t4)\n",
    ">>> t4\n",
    "[1, 2, 3]\n",
    "\n",
    "No início de bad_delete_head, t e t4 se referem à mesma lista. No final, t se refere a uma nova lista, mas t4 ainda se refere à lista original, inalterada.\n",
    "\n",
    "Uma alternativa é escrever uma função que crie e retorne uma nova lista. Por exemplo, tail retorna tudo, exceto o primeiro elemento de uma lista:\n",
    "\n",
    "def tail(t):\n",
    "    return t[1:]\n",
    "\n",
    "Esta função deixa a lista original inalterada. Ela é usada assim:\n",
    "\n",
    ">>> letters = ['a', 'b', 'c']\n",
    ">>> rest = tail(letters)\n",
    ">>> rest\n",
    "['b', 'c']\n",
    "\n",
    "10.13 - Depuração\n",
    "\n",
    "O uso descuidado de listas (e de outros objetos mutáveis) pode levar a longas horas de depuração. Aqui estão algumas armadilhas comuns e formas de evitá-las:\n",
    "\n",
    "    A maior parte dos métodos de listas alteram o argumento e retornam None. Isto é o oposto dos métodos de strings, que retornam uma nova string e deixam a original intocada.\n",
    "\n",
    "        Se você está acostumado a escrever código de strings desta forma:\n",
    "\n",
    "        word = word.strip()\n",
    "\n",
    "        É tentador escrever código de listas como este:\n",
    "\n",
    "        t = t.sort()            # ERRADO!\n",
    "\n",
    "        Como sort retorna None, a próxima operação que você executar com t provavelmente vai falhar.\n",
    "\n",
    "        Antes de usar métodos e operadores de listas, você deve ler a documentação com cuidado e testá-los no modo interativo.\n",
    "\n",
    "    Escolha o termo e fique com ele.\n",
    "\n",
    "        Parte do problema com listas é que há muitas formas de fazer coisas com elas. Por exemplo, para remover um elemento de uma lista você pode usar pop, remove, del ou até uma atribuição de fatia.\n",
    "\n",
    "        Para adicionar um elemento você pode usar o método append ou o operador +. Assumindo que t é uma lista e x é um elemento da lista, isto está correto:\n",
    "\n",
    "        t.append(x)\n",
    "        t = t + [x]\n",
    "        t += [x]\n",
    "        E isto está errado:\n",
    "        t.append([x])          # ERRADO!\n",
    "        t = t.append(x)        # ERRADO!\n",
    "        t + [x]                # ERRADO!\n",
    "        t = t + x              # ERRADO!\n",
    "\n",
    "        Experimente cada um desses exemplos no modo interativo para conferir se você entendeu o que fazem. Note que apenas o último causa um erro de tempo de execução; os outros três são legais, mas eles fazem a coisa errada.\n",
    "\n",
    "    Faça cópias para evitar o uso de alias.\n",
    "\n",
    "        Se quiser usar um método como sort, que altera o argumento, mas precisa manter a lista original, você pode fazer uma cópia:\n",
    "\n",
    "        >>> t = [3, 1, 2]\n",
    "        >>> t2 = t[:]\n",
    "        >>> t2.sort()\n",
    "        >>> t\n",
    "        [3, 1, 2]\n",
    "        >>> t2\n",
    "        [1, 2, 3]\n",
    "\n",
    "        Neste exemplo você poderia usar também a função integrada sorted, que retorna uma nova lista classificada e deixa a original intocada.\n",
    "\n",
    "        >>> t2 = sorted(t)\n",
    "        >>> t\n",
    "        [3, 1, 2]\n",
    "        >>> t2\n",
    "        [1, 2, 3]\n",
    "\n",
    "10.14 - Glossário\n",
    "\n",
    "lista\n",
    "    Uma sequência de valores.\n",
    "elemento\n",
    "    Um dos valores em uma lista (ou outra sequência), também chamado de item.\n",
    "lista aninhada\n",
    "    Uma lista que é um elemento de outra lista.\n",
    "acumuladora\n",
    "    Variável usada em um loop para adicionar ou acumular um resultado.\n",
    "atribuição aumentada\n",
    "    Instrução que atualiza o valor de uma variável usando um operador como +=.\n",
    "redução\n",
    "    Padrão de processamento que atravessa uma sequência e acumula os elementos em um único resultado.\n",
    "mapeamento\n",
    "    Padrão de processamento que atravessa uma sequência e executa uma operação em cada elemento.\n",
    "filtragem\n",
    "    Padrão de processamento que atravessa uma lista e seleciona os elementos que satisfazem algum critério.\n",
    "objeto\n",
    "    Algo a que uma variável pode se referir. Um objeto tem um tipo e um valor.\n",
    "equivalente\n",
    "    Ter o mesmo valor.\n",
    "idêntico\n",
    "    Ser o mesmo objeto (o que implica equivalência).\n",
    "referência\n",
    "    Associação entre uma variável e seu valor.\n",
    "alias\n",
    "    Uma circunstância onde duas ou mais variáveis se referem ao mesmo objeto.\n",
    "delimitador\n",
    "    Um caractere ou uma string usada para indicar onde uma string deve ser dividida.\n",
    "\n",
    "10.15 - Exercícios\n",
    "\n",
    "Você pode baixar as soluções para estes exercícios em http://thinkpython2.com/code/list_exercises.py.\n",
    "Exercício 10.1\n",
    "\n",
    "Escreva uma função chamada nested_sum que receba uma lista de listas de números inteiros e adicione os elementos de todas as listas aninhadas. Por exemplo:\n",
    "\n",
    ">>> t = [[1, 2], [3], [4, 5, 6]]\n",
    ">>> nested_sum(t)\n",
    "21\n",
    "\n",
    "Exercício 10.2\n",
    "\n",
    "Escreva uma função chamada cumsum que receba uma lista de números e retorne a soma cumulativa; isto é, uma nova lista onde o i-ésimo elemento é a soma dos primeiros i+1 elementos da lista original. Por exemplo:\n",
    "\n",
    ">>> t = [1, 2, 3]\n",
    ">>> cumsum(t)\n",
    "[1, 3, 6]\n",
    "\n",
    "Exercício 10.3\n",
    "\n",
    "Escreva uma função chamada middle que receba uma lista e retorne uma nova lista com todos os elementos originais, exceto os primeiros e os últimos elementos. Por exemplo:\n",
    "\n",
    ">>> t = [1, 2, 3, 4]\n",
    ">>> middle(t)\n",
    "[2, 3]\n",
    "\n",
    "Exercício 10.4\n",
    "\n",
    "Escreva uma função chamada chop que tome uma lista alterando-a para remover o primeiro e o último elementos, e retorne None. Por exemplo:\n",
    "\n",
    ">>> t = [1, 2, 3, 4]\n",
    ">>> chop(t)\n",
    ">>> t\n",
    "[2, 3]\n",
    "\n",
    "Exercício 10.5\n",
    "\n",
    "Escreva uma função chamada is_sorted que tome uma lista como parâmetro e retorne True se a lista estiver classificada em ordem ascendente, e False se não for o caso. Por exemplo:\n",
    "\n",
    ">>> is_sorted([1, 2, 2])\n",
    "True\n",
    ">>> is_sorted(['b', 'a'])\n",
    "False\n",
    "\n",
    "Exercício 10.6\n",
    "\n",
    "Duas palavras são anagramas se você puder soletrar uma rearranjando as letras da outra. Escreva uma função chamada is_anagram que tome duas strings e retorne True se forem anagramas.\n",
    "Exercício 10.7\n",
    "\n",
    "Escreva uma função chamada has_duplicates que tome uma lista e retorne True se houver algum elemento que apareça mais de uma vez. Ela não deve modificar a lista original.\n",
    "Exercício 10.8\n",
    "\n",
    "Este exercício pertence ao assim chamado Paradoxo de aniversário, sobre o qual você pode ler em http://en.wikipedia.org/wiki/Birthday_paradox.\n",
    "\n",
    "Se há 23 alunos na sua sala, quais são as chances de dois deles fazerem aniversário no mesmo dia? Você pode estimar esta probabilidade gerando amostras aleatórias de 23 dias de aniversário e verificando as correspondências. Dica: você pode gerar aniversários aleatórios com a função randint no módulo random.\n",
    "\n",
    "Se quiser, você pode baixar minha solução em http://thinkpython2.com/code/birthday.py.\n",
    "Exercício 10.9\n",
    "\n",
    "Escreva uma função que leia o arquivo words.txt e construa uma lista com um elemento por palavra. Escreva duas versões desta função, uma usando o método append e outra usando a expressão t = t + [x]. Qual leva mais tempo para ser executada? Por quê?\n",
    "\n",
    "Solução: http://thinkpython2.com/code/wordlist.py.\n",
    "Exercício 10.10\n",
    "\n",
    "Para verificar se uma palavra está na lista de palavras, você pode usar o operador in, mas isso seria lento porque pesquisaria as palavras em ordem.\n",
    "\n",
    "Como as palavras estão em ordem alfabética, podemos acelerar as coisas com uma busca por bisseção (também conhecida como pesquisa binária), que é semelhante ao que você faz quando procura uma palavra no dicionário. Você começa no meio e verifica se a palavra que está procurando vem antes da palavra no meio da lista. Se for o caso, procura na primeira metade da lista. Se não, procura na segunda metade.\n",
    "\n",
    "De qualquer forma, você corta o espaço de busca restante pela metade. Se a lista de palavras tiver 113.809 palavras, o programa seguirá uns 17 passos para encontrar a palavra ou concluir que não está lá.\n",
    "\n",
    "Escreva uma função chamada in_bisect que receba uma lista ordenada, um valor-alvo e devolva o índice do valor na lista se ele estiver lá, ou None se não estiver.\n",
    "\n",
    "Ou você pode ler a documentação do módulo bisect e usá-lo!\n",
    "\n",
    "Solução: http://thinkpython2.com/code/inlist.py.\n",
    "Exercício 10.11\n",
    "\n",
    "Duas palavras são um “par inverso” se uma for o contrário da outra. Escreva um programa que encontre todos os pares inversos na lista de palavras.\n",
    "\n",
    "Solução: http://thinkpython2.com/code/reverse_pair.py.\n",
    "Exercício 10.12\n",
    "\n",
    "Duas palavras “interligam-se” quando, ao tomarmos letras alternadas de cada uma, formamos uma palavra nova. Por exemplo, “shoe” e “cold” interligam-se para formar “schooled”.\n",
    "\n",
    "Solução: http://thinkpython2.com/code/interlock.py. Crédito: este exercício foi inspirado por um exemplo em http://puzzlers.org.\n",
    "\n",
    "    Escreva um programa que encontre todos os pares de palavras que se interligam. Dica: não enumere todos os pares!\n",
    "\n",
    "    Você pode encontrar palavras que sejam interligadas de três em três; isto é, cada terceira letra forma uma palavra, começando da primeira, segunda ou terceira?\n"
   ]
  },
  {
   "cell_type": "markdown",
   "id": "falling-response",
   "metadata": {},
   "source": [
    "Tópicos avançados\n",
    "---"
   ]
  },
  {
   "cell_type": "markdown",
   "id": "opened-reception",
   "metadata": {},
   "source": [
    "Enumerando uma Lista (tópico avançado / extra)\n",
    "--\n",
    "Utilizando o método interno para enumerar nossa lista (<code>enumerate()</code>).\n",
    "\n",
    "Este método adiciona contador a um iterável e o retorna. O objeto retornado é um objeto enumerado (enumerate object).\n",
    "\n",
    "Você pode converter objetos enumerados em uma lista usando o método <code>list()</code>."
   ]
  },
  {
   "cell_type": "code",
   "execution_count": null,
   "id": "initial-family",
   "metadata": {},
   "outputs": [],
   "source": [
    "# Retornando um objeto iterável a partir de nossa lista\n",
    "enumerate(minhaLista)"
   ]
  },
  {
   "cell_type": "code",
   "execution_count": null,
   "id": "iraqi-concentration",
   "metadata": {},
   "outputs": [],
   "source": [
    "list(enumerate(minhaLista))"
   ]
  },
  {
   "cell_type": "code",
   "execution_count": null,
   "id": "timely-authorization",
   "metadata": {},
   "outputs": [],
   "source": [
    "# Podemos indicar o número inicial para o índice no objeto enumerado. \n",
    "# Indicaremos que nosso iterável começará em 100\n",
    "\n",
    "list(enumerate(minhaLista, 100))\n",
    "\n",
    "# Observe que a lista que foi criada a partir da minhaLista\n",
    "# é uma lista de tuplas com dois itens em cada uma delas: um índice e um valor..."
   ]
  },
  {
   "cell_type": "code",
   "execution_count": null,
   "id": "dried-creek",
   "metadata": {},
   "outputs": [],
   "source": [
    "# Vamos utilizar um laço de repetição for para percorrer todos os elementos e imprimir o índice a o valor correspondente\n",
    "for indice, valor in enumerate(minhaLista):\n",
    "    print(indice, valor)"
   ]
  },
  {
   "cell_type": "markdown",
   "id": "approximate-button",
   "metadata": {},
   "source": [
    "E se um item de nossa lista fosse uma função <code>lambda</code>???\n",
    "\n",
    "Uma expressão lambda permite escrever funções anônimas (sem-nome) usando apenas uma linha de código. \n",
    "\n",
    "Uma expressão lambda pode ser atribuída a um objeto (variável) e ser \"invocada\" simplesmente passando uma argumento (valor) para que seja processado pela <code>lambda</code>"
   ]
  },
  {
   "cell_type": "code",
   "execution_count": null,
   "id": "opposed-aruba",
   "metadata": {},
   "outputs": [],
   "source": [
    "f = lambda numero: numero ** 3"
   ]
  },
  {
   "cell_type": "code",
   "execution_count": null,
   "id": "unknown-destiny",
   "metadata": {},
   "outputs": [],
   "source": [
    "f(2)"
   ]
  },
  {
   "cell_type": "code",
   "execution_count": null,
   "id": "hindu-engine",
   "metadata": {},
   "outputs": [],
   "source": [
    "type(f)"
   ]
  },
  {
   "cell_type": "markdown",
   "id": "geological-remedy",
   "metadata": {},
   "source": [
    "Uma expressão lambda também pode ser \"invocada\" simplesmente passando uma argumento (valor) para que seja processado pela <code>lambda</code> sem necessariamente ser atribuída a algum outro objeto (variável)"
   ]
  },
  {
   "cell_type": "code",
   "execution_count": null,
   "id": "recent-timothy",
   "metadata": {},
   "outputs": [],
   "source": [
    "(lambda x:x**3)(5)"
   ]
  },
  {
   "cell_type": "code",
   "execution_count": null,
   "id": "given-angola",
   "metadata": {},
   "outputs": [],
   "source": [
    "num_pares = filter(lambda x: x % 2 == 0, range(10))"
   ]
  },
  {
   "cell_type": "markdown",
   "id": "protecting-lemon",
   "metadata": {},
   "source": [
    "Agora vamos inserir uma expressão <code>lambda</code> em um dicionário e depois utilizá-la para fazer uma operação qualquer..."
   ]
  },
  {
   "cell_type": "code",
   "execution_count": null,
   "id": "royal-korean",
   "metadata": {},
   "outputs": [],
   "source": [
    "# Vamos usar a mesma lista que apresentamos no início do \n",
    "\n",
    "minhaLista = ['Texto', 2.0, 5, [10, 20], {'primeiroNome': 'Marcio', 'segundoNome': 'Guillardi'}]"
   ]
  },
  {
   "cell_type": "code",
   "execution_count": null,
   "id": "relevant-barbados",
   "metadata": {},
   "outputs": [],
   "source": [
    "# Vamos incluir uma expressão lambda em nossa lista\n",
    "\n",
    "minhaLista.append(lambda var: var**2)"
   ]
  },
  {
   "cell_type": "code",
   "execution_count": null,
   "id": "medical-breeding",
   "metadata": {},
   "outputs": [],
   "source": [
    "# Observe que o sexto item de nossa lista é uma function\n",
    "\n",
    "minhaLista[5]"
   ]
  },
  {
   "cell_type": "code",
   "execution_count": null,
   "id": "charitable-gross",
   "metadata": {},
   "outputs": [],
   "source": [
    "# Agora vamos invocar a função armazenada e realizar a operação que foi definida (potenciação)\n",
    "\n",
    "list(map(minhaLista[5], [n for n in range(5)]))\n"
   ]
  },
  {
   "cell_type": "markdown",
   "id": "latest-seller",
   "metadata": {},
   "source": [
    "Observação Importante!\n",
    "--\n",
    "\n",
    "Como você pode ter observado, atribuímos uma expressão lambda a uma variável (<code>f = lambda numero: numero ** 3</code>). \n",
    "\n",
    "A vantagem de uma expressão lambda sobre um função <code>def</code> é que o lambda pode ser incorporado anonimamente em uma expressão maior e mais complexa. Se você for atribuir um nome a a lambda, é melhor defini-lo apenas como a def.\n",
    "\n",
    "Prefira assim...\n",
    "--\n",
    "```python\n",
    "def f(x):\n",
    "    return 2*x\n",
    "```\n",
    "\n",
    "Ao invés de...\n",
    "--\n",
    "```Python\n",
    "f  =  lambda  x :  2 * x\n",
    "```\n",
    "\n",
    "A primeira forma significa que o nome do objeto de função resultante é especificamente 'f' ao invés do genérico <code>lambda</code>'. \n",
    "\n",
    "O uso da instrução de atribuição elimina o único benefício que uma expressão lambda pode oferecer sobre uma instrução def explícita (ou seja, que pode ser incorporada dentro de uma expressão maior e mais complexa)\n"
   ]
  },
  {
   "cell_type": "code",
   "execution_count": null,
   "id": "finite-cambodia",
   "metadata": {},
   "outputs": [],
   "source": [
    "def f(x):\n",
    "    return 2*x\n",
    "\n",
    "f(2)"
   ]
  },
  {
   "cell_type": "markdown",
   "id": "possible-saskatchewan",
   "metadata": {},
   "source": [
    "<h3> O que é esta função <code>map()</code></h3>\n",
    "A função <code>map</code> pega uma lista e a transforma numa nova lista, executando algum tipo de operação em cada elemento (está executando uma função <code>lambda</code>).<br><br>\n",
    "\n",
    "Como nosso item da lista é uma função <code>lambda</code>, o código acima está executando a seguite operação:\n",
    "\n",
    "```python\n",
    "list(map(lambda var: var**2, [<números: 0 a 5>] ))\n",
    "```\n",
    "\n",
    "No exemplo acima, a função passa por cada elemento e mapeia o resultado de si mesma para uma nova lista. A operação é eftuada **em todos os elementos da lista original** e o resultado é retornado para compor a nova lista. \n",
    "\n",
    "**Note que a função <code>list</code> simplesmente converte a saída para o tipo de lista...**\n",
    "\n",
    "Vamos ver outro exemplo de <code>map</code> para ficar um pouco mais claro?"
   ]
  },
  {
   "cell_type": "code",
   "execution_count": null,
   "id": "radio-hypothetical",
   "metadata": {},
   "outputs": [],
   "source": [
    "# Um exemplo simples\n",
    "\n",
    "list(map(lambda x: len(x),'Vamos contar o tamanho de cada palavras'.split()))"
   ]
  },
  {
   "cell_type": "markdown",
   "id": "working-uzbekistan",
   "metadata": {},
   "source": [
    "**Vamos usar o mesmo exemplo acima agora com compressão de lista**"
   ]
  },
  {
   "cell_type": "code",
   "execution_count": null,
   "id": "encouraging-helping",
   "metadata": {},
   "outputs": [],
   "source": [
    "[len(x) for x in 'Vamos contar o tamanho de cada palavras'.split()]"
   ]
  },
  {
   "cell_type": "markdown",
   "id": "loving-dream",
   "metadata": {},
   "source": [
    "**Observe o que estamos transformando a frase em uma lista de palavras. O método (função) <code>split()</code> separa as palavras da frase criando uma lista com elas.**"
   ]
  },
  {
   "cell_type": "code",
   "execution_count": null,
   "id": "motivated-kingdom",
   "metadata": {},
   "outputs": [],
   "source": [
    "'Vamos contar o tamanho de cada palavras'.split()"
   ]
  },
  {
   "cell_type": "markdown",
   "id": "sunrise-produce",
   "metadata": {},
   "source": []
  },
  {
   "cell_type": "markdown",
   "id": "indian-influence",
   "metadata": {},
   "source": [
    "Fórmula IMC:\n",
    "\n",
    "IMC = Peso dividido pela altura ao quadrado ( peso/altura²) ; ou peso dividido pela a altura vezes a altura ( peso ÷ (Altura x Altura)).\n",
    "\n",
    "Exemplo:\n",
    "\n",
    "Calcular IMC feminino ou masculino de 20 a 59 anos de idade; 1,70 de altura; peso 70kg. O cálculo do IMC será:\n",
    "\n",
    "    Altura multiplicada pela altura: ( 1,70 x 1,70 ) = 2,89\n",
    "    Peso dividido pelo quadrado da altura: 70 / 2,89 = 24,00\n",
    "\n",
    "IMC = 24,00 - Peso normal\n",
    "\n",
    "IMC - CLASSIFICAÇÃO:\n",
    "\n",
    "    Menor que 18.5 - Abaixo do peso ;\n",
    "    Entre 18.5 e 24.9 - Peso normal ;\n",
    "    Entre 25.0 e 29.9 - Pré-obesidade ;\n",
    "    Entre 30.0 e 34.9 - Obesidade Grau 1 ;\n",
    "    Entre 35.0 e 39.9 - Obesidade Grau 2 ;\n",
    "    Acima de 40 - Obesidade Grau 3\n",
    "\n",
    "fonte: OMS ( Organização Mundial da Saúde )."
   ]
  },
  {
   "cell_type": "code",
   "execution_count": null,
   "id": "attached-million",
   "metadata": {},
   "outputs": [],
   "source": [
    "# Calculo do IMC de 4 pessoas\n",
    "peso_altura = [(76, 1.65), (85, 1.90), (80, 1.71), (72, 1.70)]\n",
    "\n",
    "imc = map(lambda x: \"{:.2f}\".format(x[0]/(x[1]*x[1])), peso_altura)\n",
    "\n",
    "list(imc)"
   ]
  },
  {
   "cell_type": "code",
   "execution_count": null,
   "id": "aggregate-ribbon",
   "metadata": {},
   "outputs": [],
   "source": [
    "# Calculo do IMC de 4 pessoas\n",
    "peso_altura = [(76, 1.65), (85, 1.90), (80, 1.71), (72, 1.70)]\n",
    "\n",
    "imc = [\"{:.2f}\".format(x[0]/(x[1]*x[1])) for x in peso_altura]\n",
    "\n",
    "list(imc)"
   ]
  },
  {
   "cell_type": "code",
   "execution_count": null,
   "id": "stretch-officer",
   "metadata": {},
   "outputs": [],
   "source": [
    "# Retornando em uma lista todos os meus nomes substituindo os que tenham menos que CINCO letras por ZERO\n",
    "meusNomes = ['Marcio', 'Guillardi', 'da', 'Silva']\n",
    "\n",
    "print(list(\n",
    "        map(\n",
    "            lambda item: item if len(item) >= 5  else 0, meusNomes)))\n",
    "\n",
    "# Para cada item da lista \"meusNomes\" é executada a operação (função lambda). Se o tamanho do item é menor que CINCO ele é substituído pelo número ZERO.\n"
   ]
  },
  {
   "cell_type": "markdown",
   "id": "unusual-integrity",
   "metadata": {},
   "source": [
    "<h3>Também podemos utilizar a função <code>filter()</code></h3>"
   ]
  },
  {
   "cell_type": "markdown",
   "id": "considerable-screw",
   "metadata": {},
   "source": [
    "A função filter() criará um objeto simples que contém uma referência à lista original, a função fornecida e um índice de onde ir na lista original, que irá ocupar menos memória."
   ]
  },
  {
   "cell_type": "code",
   "execution_count": null,
   "id": "adjustable-consideration",
   "metadata": {},
   "outputs": [],
   "source": [
    "# Podemos fazer um filtro e retirar da lista todos os nomes cujo tamanho seja menor que CINCO\n",
    "\n",
    "print(list(filter(lambda item: len(item) >= 5, meusNomes)))"
   ]
  },
  {
   "cell_type": "markdown",
   "id": "natural-relevance",
   "metadata": {},
   "source": [
    "**Mais alguns exemplos da função <code>filter</code>**"
   ]
  },
  {
   "cell_type": "code",
   "execution_count": null,
   "id": "timely-assurance",
   "metadata": {},
   "outputs": [],
   "source": [
    "print(list\n",
    "      (filter(\n",
    "          lambda x: x % 2 == 0, range(10))))"
   ]
  },
  {
   "cell_type": "markdown",
   "id": "naughty-biotechnology",
   "metadata": {},
   "source": [
    "**E se eu não utilizar a função <code>list</code>, o que retornará?**"
   ]
  },
  {
   "cell_type": "code",
   "execution_count": null,
   "id": "fifty-malaysia",
   "metadata": {},
   "outputs": [],
   "source": [
    "print(filter(lambda x: x % 2 == 0, range(10)))"
   ]
  },
  {
   "cell_type": "markdown",
   "id": "alternate-illustration",
   "metadata": {},
   "source": [
    "Esse é um objeto iterável do tipo <code>filter</code> que é um iterável. Ou seja, podemos fazer um loop de repetição sobre ele ou como um gerador acessar os seus valores."
   ]
  },
  {
   "cell_type": "code",
   "execution_count": null,
   "id": "musical-minutes",
   "metadata": {},
   "outputs": [],
   "source": [
    "a = filter(lambda x: x % 2 == 0, range(10))"
   ]
  },
  {
   "cell_type": "code",
   "execution_count": null,
   "id": "italian-affairs",
   "metadata": {},
   "outputs": [],
   "source": [
    "next(a)"
   ]
  },
  {
   "cell_type": "code",
   "execution_count": null,
   "id": "nervous-harvey",
   "metadata": {},
   "outputs": [],
   "source": [
    "b = list(a)"
   ]
  },
  {
   "cell_type": "code",
   "execution_count": null,
   "id": "welsh-cardiff",
   "metadata": {},
   "outputs": [],
   "source": [
    "list(b)"
   ]
  },
  {
   "cell_type": "markdown",
   "id": "historic-cursor",
   "metadata": {},
   "source": [
    "O objeto iterável já foi percorrido. Qualquer processo sobre ele não retornará nenhum valor ou será reportado um erro"
   ]
  },
  {
   "cell_type": "code",
   "execution_count": null,
   "id": "fluid-number",
   "metadata": {},
   "outputs": [],
   "source": [
    "for n in b:\n",
    "    print(n)"
   ]
  },
  {
   "cell_type": "code",
   "execution_count": null,
   "id": "usual-permission",
   "metadata": {},
   "outputs": [],
   "source": [
    "next(a)"
   ]
  },
  {
   "cell_type": "code",
   "execution_count": null,
   "id": "unlimited-basic",
   "metadata": {},
   "outputs": [],
   "source": [
    "b = lambda x: x in a"
   ]
  },
  {
   "cell_type": "code",
   "execution_count": null,
   "id": "swiss-sight",
   "metadata": {},
   "outputs": [],
   "source": [
    "# Verficando se no nosso objeto iterável existe um determinado número\n",
    "\n",
    "b(8)"
   ]
  },
  {
   "cell_type": "markdown",
   "id": "independent-tomorrow",
   "metadata": {},
   "source": [
    "Vamos usar uma função definida por nós para realizar um filtro de números positivos em uma lista de números"
   ]
  },
  {
   "cell_type": "code",
   "execution_count": 110,
   "id": "printable-gospel",
   "metadata": {},
   "outputs": [
    {
     "name": "stdout",
     "output_type": "stream",
     "text": [
      "[-5, -4, -3, -2, -1, 0, 1, 2, 3, 4]\n"
     ]
    }
   ],
   "source": [
    "def criterio(x): \n",
    "    return x >= 0\n",
    "\n",
    "print(list(range(-5, 5)))"
   ]
  },
  {
   "cell_type": "code",
   "execution_count": 112,
   "id": "iraqi-rescue",
   "metadata": {},
   "outputs": [
    {
     "name": "stdout",
     "output_type": "stream",
     "text": [
      "[0, 1, 2, 3, 4]\n"
     ]
    }
   ],
   "source": [
    "print(list(filter(criterio, range(-5, 5))))"
   ]
  },
  {
   "cell_type": "markdown",
   "id": "talented-import",
   "metadata": {},
   "source": [
    "**Temos um dicionário em nossa lista. Já vimos como usar uma expressão <code>lambda</code>, agora vamos 'brincar' com o dicionário da lista:**"
   ]
  },
  {
   "cell_type": "code",
   "execution_count": null,
   "id": "incorporated-jordan",
   "metadata": {},
   "outputs": [],
   "source": [
    "minhaLista"
   ]
  },
  {
   "cell_type": "code",
   "execution_count": null,
   "id": "natural-fancy",
   "metadata": {},
   "outputs": [],
   "source": [
    "# Quais os tipos de itens que temos na lista?\n",
    "[type(x) for x in minhaLista]"
   ]
  },
  {
   "cell_type": "code",
   "execution_count": null,
   "id": "preliminary-infection",
   "metadata": {},
   "outputs": [],
   "source": [
    "[x for x in minhaLista if type(x) == dict]   # [0] .keys()    .values() ['primeiroNome']"
   ]
  },
  {
   "cell_type": "code",
   "execution_count": null,
   "id": "bottom-albania",
   "metadata": {},
   "outputs": [],
   "source": [
    "[nome for nome in [x for x in minhaLista if type(x) == dict][0].values()]"
   ]
  },
  {
   "cell_type": "markdown",
   "id": "orange-philip",
   "metadata": {},
   "source": [
    "Uma conjunto de listas podem ser usadas juntas para guardar informações paralelamente e depois encontrá-las através do índice equivalente.\n",
    "\n",
    "Veja o próximo código Python: "
   ]
  },
  {
   "cell_type": "code",
   "execution_count": null,
   "id": "material-supplier",
   "metadata": {},
   "outputs": [],
   "source": [
    "nome = []\n",
    "telefone = []\n",
    "\n",
    "nome += [\"Marcio\"]\n",
    "telefone += [\"(61) 89746-5843\"]\n",
    "\n",
    "nome += [\"Fernando\"]\n",
    "telefone += [\"(61) 99949-9893\"]\n",
    "\n",
    "print(telefone[nome.index('Marcio')])\n",
    "print(telefone[nome.index('Fernando')])\n",
    "\n",
    "# O método index() retorna o índice (posição) do argumento/parâmetro informado. \n",
    "# Como os valores estão armazenados na mesma posição, o índice de um \n",
    "# pode ser usado para encontrar o índice do outro na outra lista."
   ]
  },
  {
   "cell_type": "code",
   "execution_count": null,
   "id": "minimal-carnival",
   "metadata": {},
   "outputs": [],
   "source": [
    "telefone\n",
    "nome"
   ]
  },
  {
   "cell_type": "markdown",
   "id": "touched-savage",
   "metadata": {},
   "source": [
    "Boas práticas em Python\n",
    "=======================\n",
    "\n",
    "Utilize a forma Phyntonica de obter o índice e o valor correspondente dos itens de uma lista\n",
    "--\n",
    "\n",
    "Utilizando o método <code>enumerate()</code> para recuperar simultaneamente o índice e o elemento correspondente de uma lista.\n",
    "\n",
    "Evite utilizar assim:\n",
    "--\n",
    "\n",
    "O código abaixo utiliza uma variável ``i`` em um laço de repetição ``for`` para iterar nos elementos de uma lista.\n"
   ]
  },
  {
   "cell_type": "code",
   "execution_count": null,
   "id": "twelve-relevance",
   "metadata": {},
   "outputs": [],
   "source": [
    "lista = [1, 2, 3]\n",
    "\n",
    "# Criando uma variável índice para acessar os itens da lista \n",
    "for i in range(len(lista)):\n",
    "    \n",
    "    listaItem = lista[i]\n",
    "    \n",
    "    print(i, listaItem)\n",
    "    "
   ]
  },
  {
   "cell_type": "markdown",
   "id": "offshore-shark",
   "metadata": {},
   "source": [
    "Melhor prática\n",
    "--\n",
    "\n",
    "Recuperando os índices e os items de uma lista em um laço de repeticão utilizado o método <code>enumerate()</code>.\n",
    "\n",
    "Este é o estilo Phintonico para iterar sobre uma lista. \n",
    "\n",
    "Quanto definimos as duas variáveis em conjunto com a chamada ao método <code>enumerate()</code>, o Python atribui à primeira variável um índice e à segunda o item correspondente da lista.\n"
   ]
  },
  {
   "cell_type": "code",
   "execution_count": null,
   "id": "devoted-float",
   "metadata": {},
   "outputs": [],
   "source": [
    "lista = [1, 2, 3]\n",
    "\n",
    "for key, item in enumerate(lista):\n",
    "    print(key, item)\n"
   ]
  },
  {
   "cell_type": "code",
   "execution_count": null,
   "id": "decent-genius",
   "metadata": {},
   "outputs": [],
   "source": [
    "enumerate(lista)  # list()"
   ]
  }
 ],
 "metadata": {
  "kernelspec": {
   "display_name": "Python 3.9.1 64-bit",
   "language": "python",
   "name": "python39164bitdce0760b4b3a4c6994fe1bed90e141db"
  },
  "language_info": {
   "codemirror_mode": {
    "name": "ipython",
    "version": 3
   },
   "file_extension": ".py",
   "mimetype": "text/x-python",
   "name": "python",
   "nbconvert_exporter": "python",
   "pygments_lexer": "ipython3",
   "version": "3.9.4"
  }
 },
 "nbformat": 4,
 "nbformat_minor": 5
}
