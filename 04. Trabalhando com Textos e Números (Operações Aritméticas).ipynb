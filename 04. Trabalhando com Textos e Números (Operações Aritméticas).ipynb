{
 "cells": [
  {
   "cell_type": "markdown",
   "id": "hundred-hamilton",
   "metadata": {},
   "source": [
    "### __Resumo do Curso__\n",
    "---\n",
    "* [x] Sobre o Python**\n",
    "* [x] Instalação do Python (MS-Windows)\n",
    "* [x] IDLE - Ambiente de Desenvolvimento Integrado do Python\n",
    "* [x] Ambiente de Desenvolvimento (Anaconda / jupyter Notebook)\n",
    "* [x] Primeiro Código Python\n",
    "* [x] Guardando Informações - Variáveis e Identificadores\n",
    "* [x] Palavras Resevadas\n",
    "* [x] Funções Internas do Python\n",
    "* [x] A Função Interna <code>range()</code>\n",
    "* [x] **Trabalhando com Textos (Cadeia de Caracteres/Strings)**\n",
    "* [x] **Trabalhando com Números (int, float e complex)**\n",
    "* [x] **Operadores e Expressões Aritméticas**\n",
    "* [ ] Estrutura de Repetição <code>for</code>\n",
    "* [ ] Estrutura de Repetição <code>while</code>\n",
    "* [ ] Estrutura Condicional <code>if</code>\n",
    "* [ ] Funções Definidas pelo Programador ( <code>def</code> )\n",
    "* [ ] Listas\n",
    "* [ ] Tuplas\n",
    "* [ ] Dicionários\n",
    "* [ ] Conjuntos\n",
    "* [ ] OOP com Python (Introdução)\n",
    "* [ ] Manipulando Arquivos\n",
    "* [ ] Bibliotecas ou Pacotes (Pandas e NumPy)\n",
    "* [ ] EXTRA - Fatiamento (Slice)\n",
    "* [ ] EXTRA - Operações comuns de Sequências\n",
    "* [ ] EXTRA - Markdown\n",
    "* [ ] EXTRA - Counter()\n",
    "* [ ] EXTRA - Expressões Geradoras e Iteradores\n",
    "* [ ] EXTRA - Operações Booleanas\n",
    "* [ ] EXTRA - Caracteres HTML (Markdown)"
   ]
  },
  {
   "cell_type": "markdown",
   "id": "respective-nylon",
   "metadata": {},
   "source": [
    "#### ***_O Método <code>join()</code>_***\n",
    "\n",
    "É uma maneira flexível de criar uma _string_ a partir de um objeto iterável intercalando cada item com a _string_ que \"chamou\" o método <code>join()</code>.\n",
    "\n",
    "Esse método vai intercalar cada elemento do iterável (tais como listas, tuplas, strings, dicionários e conjuntos) com o separador (a string que fez a chamada de <code>join()</code>), retornando como resultado uma nova _string_.\n",
    " \n",
    "A syntaxe do método <code>join()</code> é:\n",
    "\n",
    "<code>string.join(iterable)</code>"
   ]
  },
  {
   "cell_type": "code",
   "execution_count": 8,
   "id": "south-sender",
   "metadata": {},
   "outputs": [
    {
     "data": {
      "text/plain": [
       "'Papaya!'"
      ]
     },
     "execution_count": 8,
     "metadata": {},
     "output_type": "execute_result"
    }
   ],
   "source": [
    "texto = \"Ppy!\"\n",
    "\"a\".join(texto)"
   ]
  },
  {
   "cell_type": "markdown",
   "id": "adult-drilling",
   "metadata": {},
   "source": [
    "---\n",
    "##### __Passo-a-Passo:__\n",
    "O método <code>Join()</code> obteve cada uma das letras da variável __'texto'__ como em uma lista ['P', 'p', 'y', '!'], em seguinda intercalou a letra __'a'__ entre cada par de elementos da lista. \n",
    "\n",
    "O retorno/resultado foi uma _string_ \"Papaya!\"."
   ]
  },
  {
   "cell_type": "markdown",
   "id": "related-florist",
   "metadata": {},
   "source": [
    "---\n",
    "Realizando a mesma operação manualmente com o método <code>replace()</code>. \n",
    "\n",
    "O código seria mais ou menos assim:"
   ]
  },
  {
   "cell_type": "code",
   "execution_count": 158,
   "id": "digital-bottom",
   "metadata": {},
   "outputs": [
    {
     "data": {
      "text/plain": [
       "'Papaya!'"
      ]
     },
     "execution_count": 158,
     "metadata": {},
     "output_type": "execute_result"
    }
   ],
   "source": [
    "texto = \"Ppy!\"\n",
    "\n",
    "str([letra + \"a\" for letra in texto]).replace(\"[\", \"\").replace(\"]\", \"\").replace(\"'\", \"\").replace(\",\", \"\").replace(\" \", \"\")[:-1]"
   ]
  },
  {
   "cell_type": "markdown",
   "id": "australian-sharp",
   "metadata": {},
   "source": [
    "---\n",
    "Agora fazendo a mesma operação substituindo o primeiro e o segundo <code>replace()</code> por <code>strip()</code>:\n",
    "\n",
    "> O método <code>strip()</code> retira os espaços do início e do final de uma _string_ (ou retira o que for informado como parâmetro)"
   ]
  },
  {
   "cell_type": "code",
   "execution_count": 184,
   "id": "liberal-salon",
   "metadata": {},
   "outputs": [
    {
     "data": {
      "text/plain": [
       "' TEXTO '"
      ]
     },
     "execution_count": 184,
     "metadata": {},
     "output_type": "execute_result"
    }
   ],
   "source": [
    "\"ababab TEXTO ababab\".strip(\"ba\")"
   ]
  },
  {
   "cell_type": "code",
   "execution_count": 190,
   "id": "worth-thailand",
   "metadata": {},
   "outputs": [
    {
     "data": {
      "text/plain": [
       "'TEXTO'"
      ]
     },
     "execution_count": 190,
     "metadata": {},
     "output_type": "execute_result"
    }
   ],
   "source": [
    "# Para retirar os espaços do início e do final do resultado ( ' TEXTO ' ) apresentado na tela:\n",
    "_.strip()"
   ]
  },
  {
   "cell_type": "markdown",
   "id": "fourth-progress",
   "metadata": {},
   "source": [
    "---\n",
    "Vamos ao exemplo:"
   ]
  },
  {
   "cell_type": "code",
   "execution_count": 180,
   "id": "needed-jumping",
   "metadata": {},
   "outputs": [
    {
     "data": {
      "text/plain": [
       "'Papaya!'"
      ]
     },
     "execution_count": 180,
     "metadata": {},
     "output_type": "execute_result"
    }
   ],
   "source": [
    "texto = \"Ppy!\"\n",
    "\n",
    "str([letra + \"a\" for letra in texto if letra != \"!\"]).strip(\"[]\").replace(\"'\", \"\").replace(\",\", \"\").replace(\" \", \"\") + texto[3]"
   ]
  },
  {
   "cell_type": "markdown",
   "id": "right-breathing",
   "metadata": {},
   "source": [
    "---\n",
    "Outras formas de realizar a mesma operação:"
   ]
  },
  {
   "cell_type": "code",
   "execution_count": 188,
   "id": "derived-priest",
   "metadata": {},
   "outputs": [
    {
     "name": "stdout",
     "output_type": "stream",
     "text": [
      "Papaya!a"
     ]
    }
   ],
   "source": [
    "texto = \"Ppy!\"\n",
    "\n",
    "for item in [letra + \"a\" for letra in texto]:\n",
    "    print(item, end=\"\")"
   ]
  },
  {
   "cell_type": "code",
   "execution_count": 177,
   "id": "greater-blocking",
   "metadata": {},
   "outputs": [
    {
     "data": {
      "text/plain": [
       "['Pa', 'pa', 'ya', '!a']"
      ]
     },
     "execution_count": 177,
     "metadata": {},
     "output_type": "execute_result"
    }
   ],
   "source": [
    "texto = \"Ppy!\"\n",
    "\n",
    "[letra + \"a\" for letra in texto]\n"
   ]
  },
  {
   "cell_type": "code",
   "execution_count": 153,
   "id": "assured-warrior",
   "metadata": {},
   "outputs": [
    {
     "name": "stdout",
     "output_type": "stream",
     "text": [
      "Papaya!"
     ]
    }
   ],
   "source": [
    "texto = \"Ppy!\"\n",
    "\n",
    "for item in [letra + \"a\" for letra in texto if letra != \"!\"] + [texto[3]]:\n",
    "    print(item, end=\"\")"
   ]
  },
  {
   "cell_type": "markdown",
   "id": "stupid-myanmar",
   "metadata": {},
   "source": [
    "Todos os tipos numéricos (exceto complexos) suportam as seguintes operações:\n",
    "\n",
    "```python\n",
    "x = 5\n",
    "y = 2\n",
    "```\n",
    "<table style=\"width:100%; border:1px solid black; border-spacing:2px; font-size: 15px;\">\n",
    "    <colgroup>\n",
    "        <col style=\"width: 25%\">\n",
    "        <col style=\"width: 40%\">\n",
    "        <col style=\"width: 25%\">\n",
    "        <col style=\"width: 10%\">\n",
    "    </colgroup>\n",
    "    <thead>\n",
    "        <tr>\n",
    "            <th><p>Operação</p></th>\n",
    "            <th><p>Descrição</p></th>\n",
    "            <th><p>Exemplo (resultado)</p></th>\n",
    "            <th><p>Notas</p></th>\n",
    "        </tr>\n",
    "    </thead>\n",
    "    <tbody>\n",
    "        <tr>\n",
    "            <td><p>x + y</td>\n",
    "            <td><p>Soma de x e y </p></td>\n",
    "            <td><p>x + y = 7</p></td>\n",
    "            <td></td>\n",
    "        </tr>\n",
    "        <tr>\n",
    "            <td><p>x - y</p></td>\n",
    "            <td><p>Diferença de x e y</p></td>\n",
    "            <td><p>x - y = 3</p></td>\n",
    "            <td></td>\n",
    "        </tr>\n",
    "        <tr>\n",
    "            <td><p>x * y</p></td>\n",
    "            <td><p>Produto de x e y</p></td>\n",
    "            <td><p>x * y = 10</p></td>\n",
    "            <td></td>\n",
    "        </tr>\n",
    "        <tr>\n",
    "            <td><p>x / y</p></td>\n",
    "            <td><p>Quociente de x e y</p></td>\n",
    "            <td><p>x / y = 2.5</p></td>\n",
    "            <td></td>\n",
    "        </tr>\n",
    "        <tr>\n",
    "            <td><p>x // y</p></td>\n",
    "            <td><p>O inteiro da divisão de x por y</p></td>\n",
    "            <td><p>x // y = 2</p></td>\n",
    "            <td><p>(1)</p></td>\n",
    "        </tr>\n",
    "        <tr>\n",
    "            <td><p>x % y</p></td>\n",
    "            <td><p>Resto da divisão de x por y</p></td>\n",
    "            <td><p>x % y = 1</p></td>\n",
    "            <td><p>(2)</p></td>\n",
    "        </tr>\n",
    "        <tr>\n",
    "            <td><p>-x</p></td>\n",
    "            <td><p>Negativo de x</p></td>\n",
    "            <td><p>-x&nbsp;&nbsp;&nbsp;&nbsp;(-5)</p></td>\n",
    "            <td></td>\n",
    "        </tr>\n",
    "        <tr>\n",
    "            <td><p>+x</p></td>\n",
    "            <td><p>x inalterado</p></td>\n",
    "            <td><p>+(-x)&nbsp;&nbsp;&nbsp;&nbsp;(-5)</p></td>\n",
    "            <td></td>\n",
    "        </tr>\n",
    "        <tr>\n",
    "            <td><p>abs(&nbsp;x&nbsp;)</p></td>\n",
    "            <td><p>Valor absoluto de x</p></td>\n",
    "            <td><p>abs(&nbsp;-x&nbsp;)&nbsp;&nbsp;&nbsp;&nbsp;(5)</p></td>\n",
    "            <td></td>\n",
    "        </tr>\n",
    "        <tr>\n",
    "            <td><p>int(&nbsp;x&nbsp;)</p></td>\n",
    "            <td><p>x convertido em inteiro</p></td>\n",
    "            <td><p>int(&nbsp;x&nbsp;/&nbsp;y&nbsp;)&nbsp;&nbsp;&nbsp;&nbsp;(2)</p></td>\n",
    "            <td><p>(3)(6)</p></td>\n",
    "        </tr>\n",
    "        <tr>\n",
    "            <td><p>int(&nbsp;x&nbsp;)</p></td>\n",
    "            <td><p>x = \"5\" - String convertido em inteiro</p></td>\n",
    "            <td><p>int(&nbsp;\"x\"&nbsp;)&nbsp;&nbsp;&nbsp;&nbsp;(5)</p></td>\n",
    "            <td><p>(7)</p></td>\n",
    "        </tr>\n",
    "        <tr>\n",
    "            <td><p>float(&nbsp;x&nbsp;)</p></td>\n",
    "            <td><p>x convertido em ponto flutuante</p></td>\n",
    "            <td><p>float(&nbsp;x&nbsp;//&nbsp;y&nbsp;)&nbsp;&nbsp;&nbsp;&nbsp;(2.0)</p></td>\n",
    "            <td><p>(4)(6)</p></td>\n",
    "        </tr>\n",
    "        <tr>\n",
    "            <td><p>divmod(&nbsp;x,&nbsp;y&nbsp;)</p></td>\n",
    "            <td><p>Uma tupla com o par (&nbsp;x&nbsp;//&nbsp;y) e (&nbsp;x&nbsp;%&nbsp;y&nbsp;)</p></td>\n",
    "            <td><p>divmod(&nbsp;x,&nbsp;y&nbsp;)&nbsp;&nbsp;&nbsp;&nbsp;((2, 1))</p></td>\n",
    "            <td><p>(2)</p></td>\n",
    "        </tr>\n",
    "        <tr>\n",
    "            <td><p>pow(&nbsp;x,&nbsp;y&nbsp;)</p></td>\n",
    "            <td><p>x elevado a y</p></td>\n",
    "            <td><p>pow(&nbsp;x,&nbsp;y&nbsp;)&nbsp;&nbsp;&nbsp;&nbsp;(25)</p></td>\n",
    "            <td><p>(5)</p></td>\n",
    "        </tr>\n",
    "        <tr>\n",
    "            <td><p>x&nbsp;**&nbsp;y</p></td>\n",
    "            <td><p>x elevado a y</p></td>\n",
    "            <td><p>x&nbsp;**&nbsp;y&nbsp;&nbsp;&nbsp;&nbsp;(25)</p></td>\n",
    "            <td><p>(5)</p></td>\n",
    "        </tr>\n",
    "    </tbody>\n",
    "</table>\n",
    "<p>Notas:</p>\n",
    "<ol class=\"arabic\">\n",
    "<li><p>Também referido como uma divisão inteira. O valor resultante é um número inteiro, embora o tipo oriundo do resultado não seja necessariamente to tipo \"int\". <b>Fique atento</b>: <code>1 // 2</code> é <code>0</code>, <code>(-1) // 2</code> é <code>-1</code>, <code>1 // (-2)</code> é <code>-1</code> e <code>(-1) // (-2)</code> é <code>0</code>.</p></li>\n",
    "<li><p>Não para números complexos. Ao invés disso, converte para pontos flutuantes usando <code>abs(&nbsp;)</code> se for apropriado.</p></li>\n",
    "<li><p>Conversão de ponto flutuante para inteiro pode arredondar ou truncar (como ocorre em C).</p></li>\n",
    "<li><p>Ponto flutuante também aceita a string “nan” e “inf” com um prefixo opcional “+” ou “-” (&nbsp;<code>float(&nbsp;\"-inf\"&nbsp;)</code>&nbsp;).</p></li>\n",
    "<li><p>Python define <code>pow( 0, 0 )</code> e <code>0 ** 0</code> sendo <code>1</code>, como é comum para linguagens de programação.</p></li>\n",
    "<li><p>Os literais numéricos aceitos incluem os dígitos de <code>0</code> a <code>9</code> ou qualquer equivalente Unicode (exemplo: <code>float(0x22)</code>.</p></li>\n",
    "<li><p>Conversão de uma string que contenha dígitos de <code>0</code> a <code>9</code>, sem espaços e que não contenha caracteres alfabéticos ou não numéricos:<br><br><i>exemplos válidos: x igual a \"123\" ou \"8232\" ou \"-584\")</i><br><br><i>exemplos inválidos: x = a \"123.55\" ou \"8232,22\" ou \"584T\")</i></p></li>\n"
   ]
  },
  {
   "cell_type": "markdown",
   "id": "important-princeton",
   "metadata": {},
   "source": [
    "#### __Vamos fazer a potenciação do número DOIS?__\n",
    "___"
   ]
  },
  {
   "cell_type": "markdown",
   "id": "demanding-mountain",
   "metadata": {},
   "source": [
    "Exponenciação ou potenciação é uma operação matemática, escrita como __aⁿ__, envolvendo dois números: a base __a__ e o expoente __n__. \n",
    "\n",
    "Quando __n__ é um número natural maior do que 1, a potência __aⁿ__ indica a multiplicação da base __a__ por ela mesma tantas vezes quanto indicar o expoente __n__."
   ]
  },
  {
   "cell_type": "code",
   "execution_count": 27,
   "id": "mechanical-advertising",
   "metadata": {},
   "outputs": [],
   "source": [
    "sobrescrito = str.maketrans(\"0123456789\", \"⁰¹²³⁴⁵⁶⁷⁸⁹\")"
   ]
  },
  {
   "cell_type": "code",
   "execution_count": 29,
   "id": "filled-forum",
   "metadata": {},
   "outputs": [
    {
     "name": "stdout",
     "output_type": "stream",
     "text": [
      "2⁰ =  1\n",
      "2¹ =  2\n",
      "2² =  4\n",
      "2³ =  8\n",
      "2⁴ =  16\n",
      "2⁵ =  32\n",
      "2⁶ =  64\n",
      "2⁷ =  128\n",
      "2⁸ =  256\n",
      "2⁹ =  512\n"
     ]
    }
   ],
   "source": [
    "print('2' + '0 = '.translate(sobrescrito), 2**0)\n",
    "print('2' + '1 = '.translate(sobrescrito), 2**1)\n",
    "print('2' + '2 = '.translate(sobrescrito), 2**2)\n",
    "print('2' + '3 = '.translate(sobrescrito), 2**3)\n",
    "print('2' + '4 = '.translate(sobrescrito), 2**4)\n",
    "print('2' + '5 = '.translate(sobrescrito), 2**5)\n",
    "print('2' + '6 = '.translate(sobrescrito), 2**6)\n",
    "print('2' + '7 = '.translate(sobrescrito), 2**7)\n",
    "print('2' + '8 = '.translate(sobrescrito), 2**8)\n",
    "print('2' + '9 = '.translate(sobrescrito), 2**9)"
   ]
  },
  {
   "cell_type": "markdown",
   "id": "temporal-turkish",
   "metadata": {},
   "source": [
    "O método <code>maketrans(S, P)</code> cria um dicionário de mapeamento e no método <code>translate()</code> substitui quaisquer caracteres \"S\" por um caractere \"P\" no conjunto de caracteeres (string) definido:"
   ]
  },
  {
   "cell_type": "code",
   "execution_count": 88,
   "id": "shared-pitch",
   "metadata": {},
   "outputs": [
    {
     "data": {
      "text/plain": [
       "{48: 8304,\n",
       " 49: 185,\n",
       " 50: 178,\n",
       " 51: 179,\n",
       " 52: 8308,\n",
       " 53: 8309,\n",
       " 54: 8310,\n",
       " 55: 8311,\n",
       " 56: 8312,\n",
       " 57: 8313}"
      ]
     },
     "execution_count": 88,
     "metadata": {},
     "output_type": "execute_result"
    }
   ],
   "source": [
    "sobrescrito = str.maketrans(\"0123456789\", \"⁰¹²³⁴⁵⁶⁷⁸⁹\")  # Esse dicionário foi atribuído à variável 'sobrescrito'\n",
    "sobrescrito"
   ]
  },
  {
   "cell_type": "code",
   "execution_count": 59,
   "id": "dutch-biology",
   "metadata": {},
   "outputs": [
    {
     "name": "stdout",
     "output_type": "stream",
     "text": [
      "48\n",
      "0\n"
     ]
    }
   ],
   "source": [
    "print(ord('0'))   # ord(s) utiliza uma letra como parâmetro para para retornar um inteiro correspondente ao código unicode dele\n",
    "print(chr(48))    # chr(n) utiliza um número inteiro como parâmetro para retornar a sua letra correspondente em código ASCII"
   ]
  },
  {
   "cell_type": "code",
   "execution_count": 89,
   "id": "exposed-saying",
   "metadata": {},
   "outputs": [
    {
     "data": {
      "text/plain": [
       "'⁰'"
      ]
     },
     "execution_count": 89,
     "metadata": {},
     "output_type": "execute_result"
    }
   ],
   "source": [
    "'0'.translate(sobrescrito) # O string '0' chamou o método translate(x) com o argumento 'x', sendo 'x' o dicionário de substituições"
   ]
  },
  {
   "cell_type": "code",
   "execution_count": 87,
   "id": "demonstrated-skirt",
   "metadata": {},
   "outputs": [
    {
     "name": "stdout",
     "output_type": "stream",
     "text": [
      "{101: 122, 99: 227} \n",
      "\n",
      "o caracter: e será trocado por: z\n",
      "o caracter: c será trocado por: ã\n",
      "\n",
      "Amorzão\n"
     ]
    }
   ],
   "source": [
    "txt = \"Amoreco!\"   # Variável que será traduzida (trocadas as letras)\n",
    "x = \"ec\"          # Define as letras que serão substituídas\n",
    "y = \"zã\"          # Define as letras que substituirão\n",
    "z = \"\"\n",
    "\n",
    "# Cria o dicionário com as substituições definidas (observe o print desta varíavel)\n",
    "tradutor = txt.maketrans(x, y)\n",
    "print(tradutor, '\\n')\n",
    "\n",
    "# Observe os valores do dicionário que serão trocados\n",
    "print('o caracter:', chr(101), 'será trocado por:', chr(122))\n",
    "print('o caracter:',  chr(99), 'será trocado por:', chr(227))\n",
    "\n",
    "# Exibe a variável a 'tradução' da variável 'txt'\n",
    "print()\n",
    "print(txt.translate(txt.maketrans(x, y)))\n"
   ]
  }
 ],
 "metadata": {
  "kernelspec": {
   "display_name": "Python 3.9.1 64-bit",
   "language": "python",
   "name": "python39164bitdce0760b4b3a4c6994fe1bed90e141db"
  },
  "language_info": {
   "codemirror_mode": {
    "name": "ipython",
    "version": 3
   },
   "file_extension": ".py",
   "mimetype": "text/x-python",
   "name": "python",
   "nbconvert_exporter": "python",
   "pygments_lexer": "ipython3",
   "version": "3.9.4"
  }
 },
 "nbformat": 4,
 "nbformat_minor": 5
}
