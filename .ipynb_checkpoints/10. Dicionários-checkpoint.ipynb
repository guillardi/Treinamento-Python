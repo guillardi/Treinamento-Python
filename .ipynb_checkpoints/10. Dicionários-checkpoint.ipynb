{
 "cells": [
  {
   "cell_type": "markdown",
   "id": "fatty-british",
   "metadata": {},
   "source": [
    "### __Resumo do Curso__\n",
    "---\n",
    "* [x] Sobre o Python\n",
    "* [x] Instalação do Python (MS-Windows)\n",
    "* [x] IDLE - Ambiente de Desenvolvimento Integrado do Python\n",
    "* [x] Ambiente de Desenvolvimento (Anaconda / jupyter Notebook)\n",
    "* [x] Primeiro Código Python\n",
    "* [x] Guardando Informações - Variáveis e Identificadores\n",
    "* [x] Palavras Resevadas\n",
    "* [x] Funções Internas do Python\n",
    "* [x] A Função Interna <code>range()</code>\n",
    "* [x] Trabalhando com Textos (Cadeia de Caracteres/Strings)\n",
    "* [x] Trabalhando com Números (int, float e complex)\n",
    "* [x] Operadores e Expressões Aritméticas\n",
    "* [x] Estrutura de Repetição <code>for</code>\n",
    "* [x] Estrutura de Repetição <code>while</code>\n",
    "* [x] Estrutura Condicional <code>if</code>\n",
    "* [x] Funções Definidas pelo Programador ( <code>def</code> )\n",
    "* [x] Listas\n",
    "* [x] Tuplas\n",
    "* [x] **Dicionários**\n",
    "* [ ] Conjuntos\n",
    "* [ ] OOP com Python (Introdução)\n",
    "* [ ] Manipulando Arquivos\n",
    "* [ ] Bibliotecas ou Pacotes (Pandas e NumPy)\n",
    "* [ ] EXTRA - Fatiamento (Slice)\n",
    "* [ ] EXTRA - Operações comuns de Sequências\n",
    "* [ ] EXTRA - Markdown\n",
    "* [ ] EXTRA - Counter()\n",
    "* [ ] EXTRA - Expressões Geradoras e Iteradores\n",
    "* [ ] EXTRA - Operações Booleanas\n",
    "* [ ] EXTRA - Caracteres HTML (Markdown)"
   ]
  },
  {
   "cell_type": "markdown",
   "id": "athletic-healing",
   "metadata": {},
   "source": [
    "__Dicionários em Python { }__\n",
    "--\n",
    "\n",
    "O que aprenderemos: \n",
    "* características básicas\n",
    "* como acessar e gerenciar os dados do dicionário\n",
    "\n",
    "Python fornece outro tipo de dados compostos denominado 'dicionário', que é semelhante a uma lista por ser uma coleção de objetos.\n",
    "\n",
    "As sequências são indexadas por inteiros (a partir do índice ZERO), enquanto dicionários são indexados por chaves (keys), que podem ser de qualquer tipo imutável (como strings e inteiros). Tuplas podem ser chaves se contiverem apenas strings, inteiros ou outras tuplas.\n",
    "\n",
    "Um bom modelo mental é imaginar um dicionário como um conjunto não-ordenado de pares _chave:valor_, onde as chaves são únicas. \n",
    "\n",
    "Dicionários são delimitados por chaves: {}, e contém uma lista de pares _chave:valor_ separada por vírgulas. O dicionário vazio é {}.\n",
    "\n",
    "Dicionários e listas compartilham as seguintes características:\n",
    "\n",
    "* Ambos são mutáveis: podem ser alterados.\n",
    "* Ambos são dinâmicos: Eles podem crescer e encolher conforme necessário.\n",
    "* Ambos podem ser aninhados: Uma lista pode conter outra lista. Um dicionário pode conter outro dicionário. Um dicionário também pode conter uma lista e vice-versa.\n",
    "\n",
    "Os dicionários diferem das listas principalmente na forma como os elementos são acessados:\n",
    "* Os elementos da lista são acessados por sua posição na lista através de uma indexação (os índices começam em ZERO - 0).\n",
    "* Os elementos do dicionário são acessados por meio de palavras-chaves (Keys). As palavras-chaves devem ser únicas (numéricas, cadeia de caracteres ou alfanuméricas e __imutáveis__).\n",
    "\n"
   ]
  },
  {
   "cell_type": "markdown",
   "id": "increased-warner",
   "metadata": {},
   "source": [
    "<h3> Definindo um dicionário:"
   ]
  },
  {
   "cell_type": "markdown",
   "id": "disciplinary-clock",
   "metadata": {},
   "source": [
    "```python\n",
    "meuDicionario = {\n",
    "    <chave>: <valor>,\n",
    "    <chave>: <valor>,\n",
    "     (...)\n",
    "    <chave>: <valor>\n",
    "}\n",
    "```"
   ]
  },
  {
   "cell_type": "code",
   "execution_count": 29,
   "id": "younger-kruger",
   "metadata": {},
   "outputs": [],
   "source": [
    "meuDicionario = {\n",
    "    'nomeCompleto': 'Marcio Guillardi',\n",
    "    'endereco': 'Brasília',\n",
    "    'idade': 53\n",
    "}"
   ]
  },
  {
   "cell_type": "code",
   "execution_count": 30,
   "id": "conscious-american",
   "metadata": {},
   "outputs": [
    {
     "data": {
      "text/plain": [
       "{'nomeCompleto': 'Marcio Guillardi', 'endereco': 'Brasília', 'idade': 53}"
      ]
     },
     "execution_count": 30,
     "metadata": {},
     "output_type": "execute_result"
    }
   ],
   "source": [
    "# Verificando o conteúdo do dicionário\n",
    "meuDicionario  # ou print()"
   ]
  },
  {
   "cell_type": "markdown",
   "id": "disturbed-condition",
   "metadata": {},
   "source": [
    "<h3> Outras formas de defininir um dicionário:</h3>\n",
    "\n",
    "Você também pode construir um dicionário com a função interna <code>dict()</code>.<br>\n",
    "O argumento para <code>dict()</code> deve ser uma sequência de pares de palavras-chave e os valores correspondentes.<br><br>\n",
    "Uma **lista** de tuplas funciona bem para isso:"
   ]
  },
  {
   "cell_type": "markdown",
   "id": "retained-calculator",
   "metadata": {},
   "source": [
    "```python\n",
    "meuDicionario = dict([\n",
    "    ('chave', <valor>),\n",
    "    ('chave', <valor>),\n",
    "     (...)\n",
    "    ('chave', <valor>)\n",
    "    ])\n",
    "```"
   ]
  },
  {
   "cell_type": "code",
   "execution_count": 35,
   "id": "roman-prediction",
   "metadata": {},
   "outputs": [],
   "source": [
    "meuDicionario = dict([\n",
    "    ('nomeCompleto', 'Marcio Guillardi'),\n",
    "    ('endereco', 'Brasília'),\n",
    "    ('idade', 53)\n",
    "    ])"
   ]
  },
  {
   "cell_type": "code",
   "execution_count": 36,
   "id": "meaningful-berkeley",
   "metadata": {},
   "outputs": [
    {
     "data": {
      "text/plain": [
       "{'nomeCompleto': 'Marcio Guillardi', 'endereco': 'Brasília', 'idade': 53}"
      ]
     },
     "execution_count": 36,
     "metadata": {},
     "output_type": "execute_result"
    }
   ],
   "source": [
    "meuDicionario"
   ]
  },
  {
   "cell_type": "markdown",
   "id": "peripheral-chain",
   "metadata": {},
   "source": [
    "Se as palavras-chave forem cadeias de caracteres (strings) simples, elas podem ser especificadas como argumentos na definição dos dicionários. "
   ]
  },
  {
   "cell_type": "code",
   "execution_count": 55,
   "id": "complicated-morning",
   "metadata": {},
   "outputs": [],
   "source": [
    "meuDicionario = dict(\n",
    "    nomeCompleto='Marcio Guillardi',\n",
    "    endereco='Brasília',\n",
    "    idade=53\n",
    ")"
   ]
  },
  {
   "cell_type": "code",
   "execution_count": 56,
   "id": "smoking-knife",
   "metadata": {},
   "outputs": [
    {
     "data": {
      "text/plain": [
       "{'nomeCompleto': 'Marcio Guillardi', 'endereco': 'Brasília', 'idade': 53}"
      ]
     },
     "execution_count": 56,
     "metadata": {},
     "output_type": "execute_result"
    }
   ],
   "source": [
    "meuDicionario"
   ]
  },
  {
   "cell_type": "markdown",
   "id": "pacific-planner",
   "metadata": {},
   "source": [
    "<h3>Acessando Valores do dicionário</h3>\n",
    "\n",
    "Obviamente os elementos do dicionário devem ser acessíveis de alguma forma. Se você não os obtém por índice, como os obtém?\n",
    "\n",
    "Um valor é recuperado de um dicionário especificando sua palavra-chave correspondente, entre colchetes ([ ]):"
   ]
  },
  {
   "cell_type": "code",
   "execution_count": 57,
   "id": "secure-milan",
   "metadata": {},
   "outputs": [
    {
     "name": "stdout",
     "output_type": "stream",
     "text": [
      "Marcio Guillardi\n"
     ]
    }
   ],
   "source": [
    "# Imprimindo um item do dicionário a partir de sua palavra-chave (key)\n",
    "print(meuDicionario['nomeCompleto'])"
   ]
  },
  {
   "cell_type": "code",
   "execution_count": 94,
   "id": "alone-commercial",
   "metadata": {},
   "outputs": [
    {
     "data": {
      "text/plain": [
       "dict_keys(['nomeCompleto', 'endereco', 'idade'])"
      ]
     },
     "execution_count": 94,
     "metadata": {},
     "output_type": "execute_result"
    }
   ],
   "source": [
    "# Exibindo quais são as palavras-chave existentes no dicionário\n",
    "meuDicionario.keys()"
   ]
  },
  {
   "cell_type": "code",
   "execution_count": 95,
   "id": "characteristic-presentation",
   "metadata": {},
   "outputs": [
    {
     "name": "stdout",
     "output_type": "stream",
     "text": [
      "nomeCompleto\n",
      "endereco\n",
      "idade\n"
     ]
    }
   ],
   "source": [
    "# Imprimindo as palavras-chave do dicionário (keys)\n",
    "for chaves in meuDicionario: \n",
    "    print(chaves)"
   ]
  },
  {
   "cell_type": "code",
   "execution_count": 98,
   "id": "mathematical-bristol",
   "metadata": {},
   "outputs": [
    {
     "name": "stdout",
     "output_type": "stream",
     "text": [
      "Marcio Guillardi\n",
      "Brasília\n",
      "53\n"
     ]
    }
   ],
   "source": [
    "# Imprimindo o conteúdo do dicionário (valores) - Não é aconselhável utilizar desta forma!!!!\n",
    "for chave in meuDicionario:\n",
    "    print(meuDicionario[chave])"
   ]
  },
  {
   "cell_type": "code",
   "execution_count": 59,
   "id": "grand-maldives",
   "metadata": {},
   "outputs": [
    {
     "data": {
      "text/plain": [
       "dict_values(['Marcio Guillardi', 'Brasília', 53])"
      ]
     },
     "execution_count": 59,
     "metadata": {},
     "output_type": "execute_result"
    }
   ],
   "source": [
    "# Vefificando o conteúdo do dicionário (valores)\n",
    "meuDicionario.values()"
   ]
  },
  {
   "cell_type": "code",
   "execution_count": 51,
   "id": "excess-miami",
   "metadata": {},
   "outputs": [
    {
     "name": "stdout",
     "output_type": "stream",
     "text": [
      "nomeCompleto  -  Marcio Guillardi\n",
      "endereco  -  Brasília\n",
      "idade  -  53\n"
     ]
    }
   ],
   "source": [
    "# imprimindo o conteúdo do dicionário (valores) e suas respecitivas palavras-chave (keys)\n",
    "for chave, valor in meuDicionario.items():\n",
    "    print(chave, \" - \", valor)"
   ]
  },
  {
   "cell_type": "code",
   "execution_count": 100,
   "id": "honest-context",
   "metadata": {},
   "outputs": [
    {
     "name": "stdout",
     "output_type": "stream",
     "text": [
      "Palavra-chave\t Valor\n",
      "----------------------------------------\n",
      "nomeCompleto \t Marcio Guillardi\n",
      "endereco \t Brasília\n",
      "idade \t 53\n"
     ]
    }
   ],
   "source": [
    "# Formatando a exibição do conteúdo do dicionário (palavras-chaves e valores) (FORMATADO!!)\n",
    "print(\"Palavra-chave\\t\", \"Valor\")\n",
    "print(\"-\" * 40)\n",
    "for chaves, valor in meuDicionario.items():\n",
    "    print(chaves,'\\t', valor)"
   ]
  },
  {
   "cell_type": "code",
   "execution_count": 101,
   "id": "structural-circus",
   "metadata": {},
   "outputs": [
    {
     "name": "stdout",
     "output_type": "stream",
     "text": [
      "Palavra-chave\t  Valor\n",
      "----------------------------------------\n",
      "nomeCompleto \t  Marcio Guillardi\n",
      "endereco \t  Brasília\n",
      "idade \t \t  53\n"
     ]
    }
   ],
   "source": [
    "# Formatando a exibição do conteúdo do dicionário (palavras-chaves e valores) (FORMATADO!!) - UP!!!!\n",
    "print(\"Palavra-chave\\t\", \" Valor\")\n",
    "print(\"-\" * 40)\n",
    "for chave, valor in meuDicionario.items():\n",
    "    print(chave,'\\t', '\\t ' if chave == 'idade' else \"\", valor)"
   ]
  },
  {
   "cell_type": "markdown",
   "id": "after-bolivia",
   "metadata": {},
   "source": [
    "<h3>Se você se referir a uma palavra-chave que não está no dicionário, o Python exibirá um erro:"
   ]
  },
  {
   "cell_type": "code",
   "execution_count": 99,
   "id": "cardiac-trouble",
   "metadata": {},
   "outputs": [
    {
     "ename": "KeyError",
     "evalue": "'altura'",
     "output_type": "error",
     "traceback": [
      "\u001b[1;31m---------------------------------------------------------------------------\u001b[0m",
      "\u001b[1;31mKeyError\u001b[0m                                  Traceback (most recent call last)",
      "\u001b[1;32m<ipython-input-99-efaadb8f3d96>\u001b[0m in \u001b[0;36m<module>\u001b[1;34m\u001b[0m\n\u001b[1;32m----> 1\u001b[1;33m \u001b[0mmeuDicionario\u001b[0m\u001b[1;33m[\u001b[0m\u001b[1;34m'altura'\u001b[0m\u001b[1;33m]\u001b[0m\u001b[1;33m\u001b[0m\u001b[1;33m\u001b[0m\u001b[0m\n\u001b[0m",
      "\u001b[1;31mKeyError\u001b[0m: 'altura'"
     ]
    }
   ],
   "source": [
    "meuDicionario['altura']"
   ]
  },
  {
   "cell_type": "markdown",
   "id": "immune-customer",
   "metadata": {},
   "source": [
    "Para obter o conteúdo de uma palavra-chave (key) sem que o Python retorne um erro podemos usar o método <code>get()</code>. Caso a chave não exista retornará __None__ por padrão (equivalente a null / valor nenhum)."
   ]
  },
  {
   "cell_type": "code",
   "execution_count": 111,
   "id": "dependent-floor",
   "metadata": {},
   "outputs": [
    {
     "name": "stdout",
     "output_type": "stream",
     "text": [
      "None\n"
     ]
    }
   ],
   "source": [
    "print(meuDicionario.get('altura'))"
   ]
  },
  {
   "cell_type": "markdown",
   "id": "pretty-amendment",
   "metadata": {},
   "source": [
    "De outra forma podemos informar qual o valor que retornará caso a palavra-chave informada não exista no dicionário:"
   ]
  },
  {
   "cell_type": "code",
   "execution_count": 112,
   "id": "attended-brief",
   "metadata": {},
   "outputs": [
    {
     "name": "stdout",
     "output_type": "stream",
     "text": [
      "A chave informada não existe no dicionário!\n"
     ]
    }
   ],
   "source": [
    "print(meuDicionario.get('altura', 'A chave informada não existe no dicionário!'))"
   ]
  },
  {
   "cell_type": "markdown",
   "id": "expressed-transmission",
   "metadata": {},
   "source": [
    "<h3>Para adicionar uma entrada a um dicionário existente basta atribuir uma nova palavra-chave e valor correspondente:"
   ]
  },
  {
   "cell_type": "code",
   "execution_count": null,
   "id": "consecutive-adelaide",
   "metadata": {},
   "outputs": [],
   "source": [
    "meuDicionario['altura'] = 1.71\n",
    "meuDicionario['peso'] = 0\n",
    "meuDicionario['sobrenome'] = 'Guillardi'"
   ]
  },
  {
   "cell_type": "code",
   "execution_count": null,
   "id": "prompt-protest",
   "metadata": {},
   "outputs": [],
   "source": [
    "meuDicionario"
   ]
  },
  {
   "cell_type": "markdown",
   "id": "coral-destiny",
   "metadata": {},
   "source": [
    "<h3>Para alterar um valor existente devemos atribuir um novo conteúdo ao valor usando a palavra-chave (key):"
   ]
  },
  {
   "cell_type": "code",
   "execution_count": null,
   "id": "worse-anger",
   "metadata": {},
   "outputs": [],
   "source": [
    "meuDicionario['peso'] = 75\n",
    "meuDicionario['nome'] = 'Marcio'"
   ]
  },
  {
   "cell_type": "code",
   "execution_count": null,
   "id": "alone-bedroom",
   "metadata": {},
   "outputs": [],
   "source": [
    "meuDicionario"
   ]
  },
  {
   "cell_type": "markdown",
   "id": "suspected-atlas",
   "metadata": {},
   "source": [
    "<h3>Para excluir uma entrada, use a instrução <code>del</code>, especificando a palavra-chave (key) a ser excluída:"
   ]
  },
  {
   "cell_type": "code",
   "execution_count": null,
   "id": "violent-compact",
   "metadata": {},
   "outputs": [],
   "source": [
    "del meuDicionario['peso']"
   ]
  },
  {
   "cell_type": "code",
   "execution_count": null,
   "id": "cultural-bidding",
   "metadata": {},
   "outputs": [],
   "source": [
    "meuDicionario"
   ]
  },
  {
   "cell_type": "markdown",
   "id": "beginning-utility",
   "metadata": {},
   "source": [
    "<h2> Tópico Avançado</h2>\n",
    "<h3>Podemos definir uma classe a partir da qual definiremos nosso dicionário e criaremos (sobreposição de) um método (<code>def</code>) para tratar as chaves ausentes:"
   ]
  },
  {
   "cell_type": "markdown",
   "id": "bottom-michael",
   "metadata": {},
   "source": [
    "Se uma subclasse de um dict define um método <code>__missing__()</code> e key não estiver presente, a operação d[key] chama aquele método com a chave key como argumento. A operação d[key] retorna o que é definido na chamada de <code>__missing__(key)</code>. Por padrão, nenhuma operação ou métodos invocam <code>__missing__()</code>. Se <code>__missing__()</code> não for definido, então KeyError é levantado."
   ]
  },
  {
   "cell_type": "code",
   "execution_count": null,
   "id": "acceptable-fourth",
   "metadata": {},
   "outputs": [],
   "source": [
    "# O argumento é 'dict' é um objeto de classe, não dict() que é um novo dicionário. \n",
    "class ChaveAusente(dict):\n",
    "    def __missing__(self, key):\n",
    "        return \"A chave '%s' não existe no dicionário!\" % key\n",
    "        # return f'A chave \\'{key}\\' não existe no dicionário!'\n",
    "        # return key"
   ]
  },
  {
   "cell_type": "code",
   "execution_count": null,
   "id": "demographic-trance",
   "metadata": {},
   "outputs": [],
   "source": [
    "# Definindo um dicionário a partir da classe definida que sobrescreve o método __missing__\n",
    "c = ChaveAusente()\n",
    "\n",
    "print(\"Dicionário vazio:\", c)        # Dicionário vazio: {}\n",
    "print(\"Chave 'nome'?\", c['nome'])    # Chave 'nome'? A chave não existe!\n",
    "\n",
    "# Atribuindo uma entrada no dicionário 'c'\n",
    "c['nome'] = \"Marcio Guillardi\"\n",
    "\n",
    "print(\"Após atribuição:\", c)         # Após atribuição: {'nome': 'Marcio Guillardi'}"
   ]
  },
  {
   "cell_type": "markdown",
   "id": "leading-czech",
   "metadata": {},
   "source": [
    "<h3>Trabalhando com <code>defaultdict</code></h3>\n",
    "Subclasse de Dict que chama uma função fábrica (factory function) para fornecer valores não encontrados."
   ]
  },
  {
   "cell_type": "code",
   "execution_count": 1,
   "id": "alive-victoria",
   "metadata": {},
   "outputs": [
    {
     "data": {
      "text/plain": [
       "[('blue', [2, 4]), ('red', [1]), ('yellow', [1, 3])]"
      ]
     },
     "execution_count": 1,
     "metadata": {},
     "output_type": "execute_result"
    }
   ],
   "source": [
    "from collections import defaultdict\n",
    "\n",
    "s = [('yellow', 1), ('blue', 2), ('yellow', 3), ('blue', 4), ('red', 1)]\n",
    "\n",
    "# O argumento 'list' é um objeto de classe, não list() que é uma nova lista. \n",
    "d = defaultdict(list)\n",
    "\n",
    "for k, v in s:\n",
    "    d[k].append(v)\n",
    "\n",
    "sorted(d.items())\n"
   ]
  },
  {
   "cell_type": "code",
   "execution_count": null,
   "id": "joint-criterion",
   "metadata": {},
   "outputs": [],
   "source": [
    "d"
   ]
  },
  {
   "cell_type": "code",
   "execution_count": null,
   "id": "attempted-calibration",
   "metadata": {},
   "outputs": [],
   "source": [
    "dict(d)"
   ]
  },
  {
   "cell_type": "code",
   "execution_count": null,
   "id": "dimensional-earth",
   "metadata": {},
   "outputs": [],
   "source": [
    "d[\"yellow\"][0]"
   ]
  },
  {
   "cell_type": "code",
   "execution_count": null,
   "id": "blessed-relay",
   "metadata": {},
   "outputs": [],
   "source": [
    "d['yellow'].append(3)\n",
    "d"
   ]
  },
  {
   "cell_type": "code",
   "execution_count": null,
   "id": "alert-carter",
   "metadata": {},
   "outputs": [],
   "source": [
    "d['yellow'][0] += 1\n",
    "d"
   ]
  },
  {
   "cell_type": "code",
   "execution_count": null,
   "id": "eligible-familiar",
   "metadata": {},
   "outputs": [],
   "source": [
    "d.update({'black': 20})\n",
    "d"
   ]
  },
  {
   "cell_type": "markdown",
   "id": "satisfactory-tooth",
   "metadata": {},
   "source": [
    "<h3>Nós vimos que os elementos das listas são acessados pelo índice correspondente. Caso tentemos acessar o elemento de um dicionário por um índice um erro será reportado:"
   ]
  },
  {
   "cell_type": "code",
   "execution_count": null,
   "id": "expired-preserve",
   "metadata": {},
   "outputs": [],
   "source": [
    "meuDicionario = {}"
   ]
  },
  {
   "cell_type": "code",
   "execution_count": null,
   "id": "entitled-liberal",
   "metadata": {},
   "outputs": [],
   "source": [
    "meuDicionario['nome'] = 'Marcio Guillardi'\n",
    "meuDicionario['endereco'] = 'Brasília'\n",
    "meuDicionario['idade'] = 53"
   ]
  },
  {
   "cell_type": "code",
   "execution_count": null,
   "id": "nonprofit-asthma",
   "metadata": {},
   "outputs": [],
   "source": [
    "print(meuDicionario[1])"
   ]
  },
  {
   "cell_type": "code",
   "execution_count": null,
   "id": "toxic-breeding",
   "metadata": {},
   "outputs": [],
   "source": [
    "# Acessando o valor de um elemento em uma lista\n",
    "minhaLista = (\"Marcio\", \"Guillardi\", \"da\", \"Silva\")\n"
   ]
  },
  {
   "cell_type": "code",
   "execution_count": null,
   "id": "indirect-sender",
   "metadata": {},
   "outputs": [],
   "source": [
    "minhaLista[1]"
   ]
  },
  {
   "cell_type": "code",
   "execution_count": null,
   "id": "adult-audience",
   "metadata": {},
   "outputs": [],
   "source": [
    "# Vamos demonstrar que um objeto de qualquer tipo imutável pode ser usado como uma chave de dicionário. Conseqüentemente, não há motivo para você não usar números inteiros:\n",
    "\n",
    "d = {3: 'a', 2: 'b', 1: 'c', 0: 'd'}\n",
    "print(d)\n",
    " \n",
    "print(d[0])\n",
    "print(d[2])"
   ]
  },
  {
   "cell_type": "markdown",
   "id": "removed-addition",
   "metadata": {},
   "source": [
    "Observação: **Nas expressões d[0] e d[2] os números entre colchetes aparecem como se fossem índices. Mas observe que eles não têm nada a ver com a ordem dos itens no dicionário. Python as está interpretando como chaves de dicionário.**"
   ]
  },
  {
   "cell_type": "code",
   "execution_count": 1,
   "id": "impaired-usage",
   "metadata": {},
   "outputs": [],
   "source": [
    "pessoa = {}\n",
    "type(pessoa)\n",
    "\n",
    "\n",
    "pessoa['name'] = 'Marcio'\n",
    "pessoa['uNome'] = 'Guillardi'\n",
    "pessoa['idade'] = 53\n",
    "pessoa['conjuge'] = 'Lane'\n",
    "pessoa['filhos'] = ['Filipe', 'Rebeca', 'Mateus', 'Aurora', 'Serena']\n",
    "pessoa['pets'] = {'cachorro': 'Babaloo', 'gato': 'Mina'}"
   ]
  },
  {
   "cell_type": "code",
   "execution_count": null,
   "id": "regulated-humanitarian",
   "metadata": {},
   "outputs": [],
   "source": [
    "pessoa"
   ]
  },
  {
   "cell_type": "code",
   "execution_count": null,
   "id": "square-pillow",
   "metadata": {},
   "outputs": [],
   "source": [
    "pessoa['filhos']"
   ]
  },
  {
   "cell_type": "code",
   "execution_count": null,
   "id": "ambient-measurement",
   "metadata": {},
   "outputs": [],
   "source": [
    "pessoa['pets']['gato']"
   ]
  },
  {
   "cell_type": "code",
   "execution_count": null,
   "id": "romance-migration",
   "metadata": {},
   "outputs": [],
   "source": [
    "pessoa['cidade'] = 'Brasília'\n",
    "\n",
    "# del pessoa['cidade']"
   ]
  },
  {
   "cell_type": "code",
   "execution_count": null,
   "id": "external-magic",
   "metadata": {},
   "outputs": [],
   "source": [
    "print(pessoa['cidade'] if 'cidade' in pessoa else \"A chave não existe no dicionário!\")"
   ]
  },
  {
   "cell_type": "code",
   "execution_count": null,
   "id": "different-creature",
   "metadata": {},
   "outputs": [],
   "source": [
    "print('cidade' in pessoa and pessoa['cidade'])"
   ]
  },
  {
   "cell_type": "markdown",
   "id": "growing-blake",
   "metadata": {},
   "source": [
    "<h3> Métodos de um dicionário:</h3>"
   ]
  },
  {
   "cell_type": "markdown",
   "id": "interested-crisis",
   "metadata": {},
   "source": [
    "<p>Considere a tabela abaixo:</p>\n",
    "<table style=\"width:100%; border: 1px solid black;  border-spacing: 5px;  font-size: 15px;\">\n",
    "    <colgroup>\n",
    "        <col style=\"width: 25%\">\n",
    "        <col style=\"width: 70%\">\n",
    "    </colgroup>\n",
    "    <thead>\n",
    "        <tr>\n",
    "            <th>Método</th>\n",
    "            <th>Descrição</th>\n",
    "        </tr>\n",
    "    </thead>\n",
    "    <tbody>\n",
    "        <tr>\n",
    "            <td><code>clear()</code></td>\n",
    "            <td>limpar todos os itens do dicionário</td>\n",
    "        </tr>\n",
    "        <tr>\n",
    "            <td><code>copy()</code></td>\n",
    "            <td>copiar um dicionário</td>\n",
    "        </tr>\n",
    "        <tr>\n",
    "            <td><code>fromkeys(seq[,v])</code></td>\n",
    "            <td>retornar um dicionário com elementos <code>seq</code> como chaves e valores será igual a v</td>\n",
    "        </tr>\n",
    "        <tr>\n",
    "            <td><code>get(key[,d])</code></td>\n",
    "            <td>obter o valor da chave e se não houver chave, <code>d</code> será devolvido.</td>\n",
    "        </tr>\n",
    "        <tr>\n",
    "            <td><code>items()</code></td>\n",
    "            <td>devolver os itens do dicionário como <code>(key, value)</code></td>\n",
    "        </tr>\n",
    "        <tr>\n",
    "            <td><code>keys()</code></td>\n",
    "            <td>devolver as chaves de um dicionário</td>\n",
    "        </tr>\n",
    "        <tr>\n",
    "            <td><code>pop(key[,d])</code></td>\n",
    "            <td>remover um item correspondente à <code>chave</code>. Se a chave não existir, o valor correspondente ao <code>d</code> será devolvido. Se ambas <code>d</code> e <code>key</code> não existirem, um erro será levantado.</td>\n",
    "        </tr>\n",
    "        <tr>\n",
    "            <td><code>popitem()</code></td>\n",
    "            <td>Ele retornará e removerá tanto a chave como o valor do dicionário.</td>\n",
    "        </tr>\n",
    "        <tr>\n",
    "            <td><code>setdefault(key[,d])</code></td>\n",
    "            <td>devolver o valor da chave. Se a chave não for encontrada, uma nova chave será criada com o valor <code>d</code> e <code>d</code> será devolvida.</td>\n",
    "        </tr>\n",
    "        <tr>\n",
    "            <td><code>update([other])</code></td>\n",
    "            <td>atualize o dicionário com chaves e valores como <code>other</code>.</td>\n",
    "        </tr>\n",
    "        <tr>\n",
    "            <td><code>values()</code></td>\n",
    "            <td>retornar os valores de um dicionário</td>\n",
    "        </tr>\n",
    "    </tbody>\n",
    "</table>"
   ]
  },
  {
   "cell_type": "markdown",
   "id": "muslim-claim",
   "metadata": {},
   "source": [
    "**<code>.clear</code> - esvazia o dicionário de todos os pares de valores-chave.**"
   ]
  },
  {
   "cell_type": "code",
   "execution_count": null,
   "id": "representative-vertical",
   "metadata": {},
   "outputs": [],
   "source": [
    "d = {'a': 10, 'b': 20, 'c': 30}\n",
    "d.clear()\n",
    "d"
   ]
  },
  {
   "cell_type": "markdown",
   "id": "short-pollution",
   "metadata": {},
   "source": [
    "**<code>.get(&lt;chave>[, &lt;default>])</code> - Retorna o valor de uma chave se ela existir no dicionário. Se 'default' for especificado esse será o valor retornado caso a chave não exista no dicionário. Caso não seja especificado será retornado \"None\".**\n"
   ]
  },
  {
   "cell_type": "code",
   "execution_count": null,
   "id": "subject-baptist",
   "metadata": {},
   "outputs": [],
   "source": [
    "d = {'a': 10, 'b': 20, 'c': 30}\n",
    "\n",
    "print(d.get('b'))\n",
    "print(d.get('z', \"Não encontrado!\"))\n",
    "print(d.get('z'))"
   ]
  },
  {
   "cell_type": "markdown",
   "id": "packed-fellowship",
   "metadata": {},
   "source": [
    "**<code>d.items()</code> - Retorna uma lista de tuplas de pares de valores-chave em um dicionário onde o primeiro item é a chave e o segundo o valor associado.**"
   ]
  },
  {
   "cell_type": "code",
   "execution_count": null,
   "id": "cloudy-melbourne",
   "metadata": {},
   "outputs": [],
   "source": [
    "d = {'a': 10, 'b': 20, 'c': 30}\n",
    "d.items()"
   ]
  },
  {
   "cell_type": "code",
   "execution_count": null,
   "id": "round-deviation",
   "metadata": {},
   "outputs": [],
   "source": [
    "list(d.items())[1][0]"
   ]
  },
  {
   "cell_type": "markdown",
   "id": "computational-horizon",
   "metadata": {},
   "source": [
    "**<code>d.keys()</code> - Retorna uma lista de chaves em um dicionário.**"
   ]
  },
  {
   "cell_type": "code",
   "execution_count": null,
   "id": "personal-donor",
   "metadata": {},
   "outputs": [],
   "source": [
    "d = {'a': 10, 'b': 20, 'c': 30}\n",
    "d.keys()"
   ]
  },
  {
   "cell_type": "code",
   "execution_count": null,
   "id": "funky-great",
   "metadata": {},
   "outputs": [],
   "source": [
    "list(d.keys())"
   ]
  },
  {
   "cell_type": "code",
   "execution_count": null,
   "id": "mechanical-russian",
   "metadata": {},
   "outputs": [],
   "source": [
    "list(d.keys())[0]"
   ]
  },
  {
   "cell_type": "markdown",
   "id": "infinite-bailey",
   "metadata": {},
   "source": [
    "**<code>d.values()</code> - Retorna uma lista de valores em um dicionário.**"
   ]
  },
  {
   "cell_type": "code",
   "execution_count": null,
   "id": "silent-discretion",
   "metadata": {},
   "outputs": [],
   "source": [
    "d = {'a': 10, 'b': 20, 'c': 30}\n",
    "d.values()"
   ]
  },
  {
   "cell_type": "code",
   "execution_count": null,
   "id": "better-membrane",
   "metadata": {},
   "outputs": [],
   "source": [
    "list(d.values())"
   ]
  },
  {
   "cell_type": "code",
   "execution_count": null,
   "id": "unable-outdoors",
   "metadata": {},
   "outputs": [],
   "source": [
    "list(d.values())[2]"
   ]
  },
  {
   "cell_type": "markdown",
   "id": "nonprofit-wallace",
   "metadata": {},
   "source": [
    "**d.pop(&lt;key>[, &lt;default>]) - Remove uma chave de um dicionário, se houver, e retorna seu valor.**"
   ]
  },
  {
   "cell_type": "markdown",
   "id": "durable-store",
   "metadata": {},
   "source": [
    "Se &lt;key> estiver presente no dicionário, <code>d.pop(&lt;key>)</code> remove &lt;key> e retorna seu valor associado:"
   ]
  },
  {
   "cell_type": "code",
   "execution_count": null,
   "id": "thorough-exhibition",
   "metadata": {},
   "outputs": [],
   "source": [
    "d = {'a': 10, 'b': 20, 'c': 30}\n",
    "d.pop('b')"
   ]
  },
  {
   "cell_type": "markdown",
   "id": "hourly-accent",
   "metadata": {},
   "source": [
    "**<code>d.pop(&lt;key>)</code> apresentará um erro se &lt;key> não existir no dicionário:**"
   ]
  },
  {
   "cell_type": "code",
   "execution_count": null,
   "id": "artistic-extent",
   "metadata": {},
   "outputs": [],
   "source": [
    "d = {'a': 10, 'b': 20, 'c': 30}\n",
    "d.pop('z')"
   ]
  },
  {
   "cell_type": "markdown",
   "id": "special-coral",
   "metadata": {},
   "source": [
    "**Se <coe>&lt;key> não existir no dicionário e se o argumento opcional &lt;default> for especificado, esse valor será retornado e nenhum erro será gerado:**"
   ]
  },
  {
   "cell_type": "code",
   "execution_count": null,
   "id": "registered-morocco",
   "metadata": {},
   "outputs": [],
   "source": [
    "d = {'a': 10, 'b': 20, 'c': 30}\n",
    "d.pop('z', 'Chave não existe no dicionário!')"
   ]
  },
  {
   "cell_type": "markdown",
   "id": "express-nepal",
   "metadata": {},
   "source": [
    "**<code>d.popitem()</code> Remove o último par de valores-chave de um dicionário e retorna os valores removidos como uma tupla.**"
   ]
  },
  {
   "cell_type": "code",
   "execution_count": null,
   "id": "pressed-appendix",
   "metadata": {},
   "outputs": [],
   "source": [
    "d = {'a': 10, 'b': 20, 'c': 30}\n",
    "valorApagado = d.popitem()\n",
    "valorApagado"
   ]
  },
  {
   "cell_type": "markdown",
   "id": "russian-consortium",
   "metadata": {},
   "source": [
    "**Se O dicionário destiver vazio, <code>d.popitem()</code> gera um erro:**"
   ]
  },
  {
   "cell_type": "code",
   "execution_count": null,
   "id": "attractive-fraud",
   "metadata": {},
   "outputs": [],
   "source": [
    "d = {}\n",
    "d.popitem()"
   ]
  },
  {
   "cell_type": "markdown",
   "id": "dress-fellowship",
   "metadata": {},
   "source": [
    "**<code>d.update(&lt;obj>)</code> - Mescla um dicionário com outro dicionário ou com um iterável de pares de valores-chave.<br>**\n",
    "\n",
    "Se &lt;obj> for um dicionário, <code>d.update(&lt;obj>)</code> mescla as entradas de &lt;obj> em 'd'.\n",
    "\n",
    "Para cada chave em &lt;obj>:\n",
    "* Se a chave não estiver presente em 'd', o par de valores-chave de <obj>será adicionado a 'd'.\n",
    "* Se a chave já estiver presente em 'd', o valor correspondente para essa chave será atualizado para o valor de &lt;obj>.\n"
   ]
  },
  {
   "cell_type": "code",
   "execution_count": null,
   "id": "federal-making",
   "metadata": {},
   "outputs": [],
   "source": [
    "d1 = {'a': 10, 'b': 20, 'c': 30}\n",
    "d2 = {'b': 200, 'd': 400}\n",
    "d1.update(d2)\n",
    "d1"
   ]
  },
  {
   "cell_type": "markdown",
   "id": "worth-heaven",
   "metadata": {},
   "source": [
    "Neste exemplo a chave 'b' já existe em d1, portanto, seu valor é atualizado para 200 (o valor dessa chave em d2). No entanto, não existe qualquer chave 'd' em d1, de modo que um par de chaves-valor é adicionado a partir de d2."
   ]
  },
  {
   "cell_type": "markdown",
   "id": "light-highway",
   "metadata": {},
   "source": [
    "&lt;obj>também pode ser uma sequência de pares de valores-chave, semelhante a função dict() usada para definir um dicionário. Por exemplo, &lt;obj> pode ser especificado como uma lista de tuplas:"
   ]
  },
  {
   "cell_type": "code",
   "execution_count": null,
   "id": "bibliographic-wright",
   "metadata": {},
   "outputs": [],
   "source": [
    "d1 = {'a': 10, 'b': 20, 'c': 30}\n",
    "d1.update([('b', 200), ('d', 400)])\n",
    "d1"
   ]
  },
  {
   "cell_type": "markdown",
   "id": "vietnamese-bibliography",
   "metadata": {},
   "source": [
    "Ou os valores a serem mesclados podem ser especificados como uma lista de argumentos de palavra-chave:"
   ]
  },
  {
   "cell_type": "code",
   "execution_count": null,
   "id": "rocky-checkout",
   "metadata": {},
   "outputs": [],
   "source": [
    "d1 = {'a': 10, 'b': 20, 'c': 30}\n",
    "d1.update(b=200, d=400)\n",
    "d1"
   ]
  },
  {
   "cell_type": "markdown",
   "id": "organizational-incentive",
   "metadata": {},
   "source": [
    "**Incluído na versão 3.9 - Operadores 'merge' (|) e 'update' (|=)**<br><br>\n",
    "**d1 | d2**  - d1 fundida (merged) com d2; os valores de d2 permanecem (sobrepõe os valores existentes com a mesma chave) **em um NOVO dicionário**"
   ]
  },
  {
   "cell_type": "code",
   "execution_count": null,
   "id": "becoming-thread",
   "metadata": {},
   "outputs": [],
   "source": [
    "d1 = {'a': 100, 'b': 150, 'c': 300}\n",
    "d2 = {'b': 200, 'd': 400}\n",
    "d1 | d2"
   ]
  },
  {
   "cell_type": "code",
   "execution_count": null,
   "id": "excessive-promise",
   "metadata": {},
   "outputs": [],
   "source": [
    "print(d1, \"\\n\", d2)"
   ]
  },
  {
   "cell_type": "markdown",
   "id": "lined-beatles",
   "metadata": {},
   "source": [
    "**d1 |= d2** - d1 atualizada (update) com d2; os valores de d2 permanecem (sobrepõe os valores existentes com a mesma chave) **ALTERANDO o dicionário d1**"
   ]
  },
  {
   "cell_type": "code",
   "execution_count": null,
   "id": "injured-brand",
   "metadata": {},
   "outputs": [],
   "source": [
    "d1 = {'a': 100, 'b': 150, 'c': 300}\n",
    "d2 = {'b': 200, 'd': 400}\n",
    "d1 |= d2\n",
    "d1"
   ]
  },
  {
   "cell_type": "markdown",
   "id": "developing-netherlands",
   "metadata": {},
   "source": [
    "**d1 |= ListaDeTuplas** - d1 atualizada (update) com 'list' (tupla); os valores de d2 permanecem (sobrepõe os valores existentes com a mesma chave) **ALTERANDO o dicionário d1**"
   ]
  },
  {
   "cell_type": "code",
   "execution_count": null,
   "id": "entertaining-brother",
   "metadata": {},
   "outputs": [],
   "source": [
    "d1 |= [('a', 101), ('e', 500), ('f', 600)]\n",
    "d1"
   ]
  },
  {
   "cell_type": "code",
   "execution_count": null,
   "id": "saved-italian",
   "metadata": {},
   "outputs": [],
   "source": []
  },
  {
   "cell_type": "markdown",
   "id": "vietnamese-borough",
   "metadata": {},
   "source": [
    "**Listas e dicionários são dois dos tipos de Python mais usados. Como você viu, eles têm várias semelhanças, mas diferem na forma como seus elementos são acessados. Os elementos das listas são acessados ​​por índice numérico com base na ordem e os elementos do dicionário são acessados por chave**"
   ]
  },
  {
   "cell_type": "code",
   "execution_count": 9,
   "id": "cloudy-harvey",
   "metadata": {},
   "outputs": [
    {
     "name": "stdout",
     "output_type": "stream",
     "text": [
      "0 a\n",
      "1 b\n",
      "2 c\n",
      "3 d\n",
      "4 e\n",
      "5 f\n",
      "6 g\n",
      "7 h\n",
      "8 i\n",
      "9 h\n",
      "10 k\n",
      "11 l\n",
      "12 m\n",
      "13 n\n"
     ]
    }
   ],
   "source": [
    "# Vamos criar uma sequência de caracteres aleatórios e depois criar um dicionário a partir dela ( vamos usar numerate() )\n",
    "\n",
    "alfabeto = (['a', 'b', 'c', 'd', 'e', 'f', 'g', 'h', 'i', 'h', 'k', 'l', 'm', 'n'])\n",
    "enum = enumerate(alfabeto)\n",
    "for indice, valor in enum:\n",
    "    print(indice, valor)"
   ]
  },
  {
   "cell_type": "code",
   "execution_count": 12,
   "id": "surrounded-exposure",
   "metadata": {},
   "outputs": [
    {
     "data": {
      "text/plain": [
       "[(0, 'a'),\n",
       " (1, 'b'),\n",
       " (2, 'c'),\n",
       " (3, 'd'),\n",
       " (4, 'e'),\n",
       " (5, 'f'),\n",
       " (6, 'g'),\n",
       " (7, 'h'),\n",
       " (8, 'i'),\n",
       " (9, 'h'),\n",
       " (10, 'k'),\n",
       " (11, 'l'),\n",
       " (12, 'm'),\n",
       " (13, 'n')]"
      ]
     },
     "execution_count": 12,
     "metadata": {},
     "output_type": "execute_result"
    }
   ],
   "source": [
    "# Vamos criar uma sequência de caracteres aleatórios e depois criar um dicionário a partir dela ( vamos usar numerate() )\n",
    "\n",
    "alfabeto = ['a', 'b', 'c', 'd', 'e', 'f', 'g', 'h', 'i', 'h', 'k', 'l', 'm', 'n']\n",
    "alfa_enu = list((enumerate(alfabeto)))\n",
    "\n",
    "alfa_enu\n"
   ]
  },
  {
   "cell_type": "code",
   "execution_count": 16,
   "id": "mediterranean-alliance",
   "metadata": {},
   "outputs": [
    {
     "name": "stdout",
     "output_type": "stream",
     "text": [
      "17\n",
      "72\n",
      "97\n",
      "8\n",
      "32\n",
      "15\n",
      "63\n",
      "97\n",
      "57\n",
      "60\n"
     ]
    }
   ],
   "source": [
    "# generate random integer values\n",
    "from random import seed\n",
    "from random import randint\n",
    "# seed random number generator\n",
    "seed(1)\n",
    "# generate some integers\n",
    "for _ in range(10):\n",
    "    value = randint(0, 100)\n",
    "    print(value)"
   ]
  },
  {
   "cell_type": "markdown",
   "id": "foreign-romania",
   "metadata": {},
   "source": [
    "<h3>Lorem Text</h3>\n",
    "Gerador de texto (lorem ipsum) fictício para Python. \n",
    "\n",
    "Para gerar frases, parágrafos e palavras fictícios. "
   ]
  },
  {
   "cell_type": "code",
   "execution_count": 2,
   "id": "tough-edmonton",
   "metadata": {},
   "outputs": [],
   "source": [
    "# pip install lorem-text\n",
    "from lorem_text import lorem"
   ]
  },
  {
   "cell_type": "code",
   "execution_count": 4,
   "id": "front-wound",
   "metadata": {},
   "outputs": [
    {
     "data": {
      "text/plain": [
       "'Nihil alias at a voluptatibus repellat odio, voluptates inventore numquam atque enim tenetur provident, porro perferendis id soluta cupiditate est doloribus?'"
      ]
     },
     "execution_count": 4,
     "metadata": {},
     "output_type": "execute_result"
    }
   ],
   "source": [
    "lorem.sentence()"
   ]
  },
  {
   "cell_type": "code",
   "execution_count": 5,
   "id": "expanded-webmaster",
   "metadata": {},
   "outputs": [
    {
     "data": {
      "text/plain": [
       "'Beatae facere atque distinctio iste recusandae dolorum cupiditate vel, eius magnam non nihil recusandae, animi quas aliquam veritatis ipsum culpa blanditiis necessitatibus sit, quas odit veritatis nam obcaecati distinctio id incidunt dicta aliquid. Harum perferendis magnam dolore illum at obcaecati error, debitis aut culpa tempora perspiciatis, maiores voluptatibus labore corrupti, nostrum optio temporibus quas magni amet error officia tenetur? Laudantium molestiae ducimus aliquam ea asperiores quibusdam harum quis distinctio natus eum, quisquam necessitatibus sed nemo tempora sunt quae voluptatem, natus tenetur ipsam inventore amet voluptatibus ipsum unde voluptates impedit soluta?'"
      ]
     },
     "execution_count": 5,
     "metadata": {},
     "output_type": "execute_result"
    }
   ],
   "source": [
    "lorem.paragraph()"
   ]
  },
  {
   "cell_type": "code",
   "execution_count": 6,
   "id": "lesbian-thanksgiving",
   "metadata": {},
   "outputs": [
    {
     "data": {
      "text/plain": [
       "'Quis reiciendis'"
      ]
     },
     "execution_count": 6,
     "metadata": {},
     "output_type": "execute_result"
    }
   ],
   "source": [
    "lorem.words(2).capitalize()\n"
   ]
  },
  {
   "cell_type": "code",
   "execution_count": 7,
   "id": "employed-humanity",
   "metadata": {},
   "outputs": [
    {
     "data": {
      "text/plain": [
       "'Maxime Quo'"
      ]
     },
     "execution_count": 7,
     "metadata": {},
     "output_type": "execute_result"
    }
   ],
   "source": [
    "lorem.words(2).title()"
   ]
  },
  {
   "cell_type": "code",
   "execution_count": 9,
   "id": "opposite-silver",
   "metadata": {},
   "outputs": [
    {
     "data": {
      "text/plain": [
       "{0: {'primeiroNome': 'Aliquam', 'segundoNome': 'Consequatur'},\n",
       " 1: {'primeiroNome': 'Temporibus', 'segundoNome': 'Porro'},\n",
       " 2: {'primeiroNome': 'Modi', 'segundoNome': 'Odio'},\n",
       " 3: {'primeiroNome': 'Ipsa', 'segundoNome': 'Id'},\n",
       " 4: {'primeiroNome': 'Consectetur', 'segundoNome': 'Delectus'},\n",
       " 5: {'primeiroNome': 'Eveniet', 'segundoNome': 'Nihil'},\n",
       " 6: {'primeiroNome': 'Eos', 'segundoNome': 'Aut'},\n",
       " 7: {'primeiroNome': 'Explicabo', 'segundoNome': 'Tenetur'},\n",
       " 8: {'primeiroNome': 'Quasi', 'segundoNome': 'Maxime'},\n",
       " 9: {'primeiroNome': 'Veniam', 'segundoNome': 'Earum'}}"
      ]
     },
     "execution_count": 9,
     "metadata": {},
     "output_type": "execute_result"
    }
   ],
   "source": [
    "# Vamos criar uma sequência de nomes aleatórios/fictícios e depois criar um dicionário a partir dela ( vamos usar numerate() )\n",
    "listaTelefonica = {}\n",
    "\n",
    "for cont in range(10):\n",
    "    listaTelefonica[cont] = {'primeiroNome': lorem.words(1).capitalize(), 'segundoNome': lorem.words(1).capitalize() }\n",
    "\n",
    "listaTelefonica\n"
   ]
  },
  {
   "cell_type": "code",
   "execution_count": 160,
   "id": "micro-greeting",
   "metadata": {},
   "outputs": [
    {
     "data": {
      "text/plain": [
       "[['Fugit', 'Quos'],\n",
       " ['Eaque', 'Sed'],\n",
       " ['Totam', 'Beatae'],\n",
       " ['Sunt', 'Error'],\n",
       " ['Aliquid', 'Distinctio'],\n",
       " ['Necessitatibus', 'Cum'],\n",
       " ['Minus', 'Tempora'],\n",
       " ['Facere', 'Ut'],\n",
       " ['Tenetur', 'Aperiam'],\n",
       " ['Est', 'Fugit']]"
      ]
     },
     "execution_count": 160,
     "metadata": {},
     "output_type": "execute_result"
    }
   ],
   "source": [
    "# Vamos criar uma sequência de nomes aleatórios/fictícios e depois criar um dicionário a partir dela ( vamos usar numerate() )\n",
    "listaTelefonica = []\n",
    "\n",
    "for cont in range(10):\n",
    "    listaTelefonica.append(lorem.words(2).title().split())\n",
    "    \n",
    "\n",
    "listaTelefonica"
   ]
  },
  {
   "cell_type": "code",
   "execution_count": 10,
   "id": "cognitive-pulse",
   "metadata": {},
   "outputs": [
    {
     "data": {
      "text/plain": [
       "'O primeiro nome é Ducimus e o sobrenome é Dolor'"
      ]
     },
     "execution_count": 10,
     "metadata": {},
     "output_type": "execute_result"
    }
   ],
   "source": [
    "\"O primeiro nome é {primeiroNome} e o sobrenome é {segundoNome}\".format_map( {'primeiroNome': 'Ducimus', 'segundoNome': 'Dolor'})"
   ]
  },
  {
   "cell_type": "code",
   "execution_count": 11,
   "id": "specialized-monkey",
   "metadata": {},
   "outputs": [
    {
     "data": {
      "text/plain": [
       "'O primeiro nome é Ducimus e o sobrenome é Dolor'"
      ]
     },
     "execution_count": 11,
     "metadata": {},
     "output_type": "execute_result"
    }
   ],
   "source": [
    "dicionario = {'primeiroNome': 'Ducimus', 'segundoNome': 'Dolor'}\n",
    "\n",
    "\"O primeiro nome é {primeiroNome} e o sobrenome é {segundoNome}\".format( **dicionario )"
   ]
  },
  {
   "cell_type": "code",
   "execution_count": 124,
   "id": "technological-nomination",
   "metadata": {},
   "outputs": [
    {
     "name": "stdout",
     "output_type": "stream",
     "text": [
      "Count in Spanish: uno, dos, tres, ...\n",
      "Spanish colors: rojo, azul, verde, ...\n"
     ]
    }
   ],
   "source": [
    "spanish = dict()\n",
    "spanish['hello'] = 'hola'\n",
    "spanish['yes'] = 'si'\n",
    "spanish['one'] = 'uno'\n",
    "spanish['two'] = 'dos'\n",
    "spanish['three'] = 'tres'\n",
    "spanish['red'] = 'rojo'\n",
    "spanish['black'] = 'negro'\n",
    "spanish['green'] = 'verde'\n",
    "spanish['blue'] = 'azul'\n",
    "\n",
    "numberFormat = \"Count in Spanish: {one}, {two}, {three}, ...\"\n",
    "print(numberFormat.format(**spanish))\n",
    "print(\"Spanish colors: {red}, {blue}, {green}, ...\".format(**spanish))"
   ]
  },
  {
   "cell_type": "code",
   "execution_count": 126,
   "id": "monetary-monster",
   "metadata": {},
   "outputs": [
    {
     "name": "stdout",
     "output_type": "stream",
     "text": [
      "Count in Spanish: uno, dos, tres, ...\n"
     ]
    }
   ],
   "source": [
    "numberFormat = 'Count in Spanish: {one}, {two}, {three}, ...'\n",
    "print(numberFormat.format(one='uno', two='dos', three='tres'))"
   ]
  },
  {
   "cell_type": "code",
   "execution_count": 130,
   "id": "caring-attraction",
   "metadata": {},
   "outputs": [
    {
     "data": {
      "text/plain": [
       "'foo is x, bar is y and baz is z'"
      ]
     },
     "execution_count": 130,
     "metadata": {},
     "output_type": "execute_result"
    }
   ],
   "source": [
    "d = dict(foo='x', bar='y', baz='z')\n",
    "'foo is {foo}, bar is {bar} and baz is {baz}'.format_map(d) # Mais rápido que o próximo\n",
    "'foo is {foo}, bar is {bar} and baz is {baz}'.format(**d)"
   ]
  },
  {
   "cell_type": "code",
   "execution_count": 154,
   "id": "bizarre-burning",
   "metadata": {},
   "outputs": [
    {
     "data": {
      "text/plain": [
       "{'key': ['Officia', 'Vitae']}"
      ]
     },
     "execution_count": 154,
     "metadata": {},
     "output_type": "execute_result"
    }
   ],
   "source": [
    "# Vamos criar uma sequência de nomes aleatórios/fictícios e depois criar um dicionário a partir dela ( vamos usar numerate() )\n",
    "listaTelefonica = {}\n",
    "\n",
    "listaTelefonica['key'] =  lorem.words(2).title().split()\n",
    "\n",
    "listaTelefonica"
   ]
  },
  {
   "cell_type": "code",
   "execution_count": 168,
   "id": "narrow-chase",
   "metadata": {},
   "outputs": [
    {
     "name": "stdout",
     "output_type": "stream",
     "text": [
      "6 2 [0, 1, 2, 3, 4, 5]\n"
     ]
    },
    {
     "data": {
      "text/plain": [
       "[(1, 2), (3, 4), (5, 6), (7, 8), (9, 10), (11, 12)]"
      ]
     },
     "execution_count": 168,
     "metadata": {},
     "output_type": "execute_result"
    }
   ],
   "source": [
    "def naive_grouper(inputs, n):\n",
    "    num_groups = len(inputs) // n\n",
    "    print(num_groups, n, list(range(num_groups)))\n",
    "    return [tuple(inputs[i*n:(i+1)*n]) for i in range(num_groups)]\n",
    "\n",
    "nums = [1, 2, 3, 4, 5, 6, 7, 8, 9, 10, 11, 12]\n",
    "naive_grouper(nums, 2)\n"
   ]
  },
  {
   "cell_type": "code",
   "execution_count": 169,
   "id": "stock-smart",
   "metadata": {},
   "outputs": [
    {
     "data": {
      "text/plain": [
       "([0, 1], [2, 3], [4, 5], [6, 7], [8, 9])"
      ]
     },
     "execution_count": 169,
     "metadata": {},
     "output_type": "execute_result"
    }
   ],
   "source": [
    "tuple([0, 1, 2, 3, 4, 5, 6, 7, 8, 9, 10][i*2:(i+1)*2] for i in range(5))"
   ]
  },
  {
   "cell_type": "markdown",
   "id": "swedish-highway",
   "metadata": {},
   "source": [
    "**Vamos cria uma lista de dicionários com informações sobre algumas pessoas...**"
   ]
  },
  {
   "cell_type": "code",
   "execution_count": 195,
   "id": "dress-brooklyn",
   "metadata": {},
   "outputs": [
    {
     "data": {
      "text/plain": [
       "[{'nome': 'Luiz', 'idade': 35}]"
      ]
     },
     "execution_count": 195,
     "metadata": {},
     "output_type": "execute_result"
    }
   ],
   "source": [
    "dicts = [\n",
    "    { \"nome\": \"Marcio\", \"idade\": 40 },\n",
    "    { \"nome\": \"Luiz\", \"idade\": 35 },\n",
    "    { \"nome\": \"João\", \"idade\": 17 },\n",
    "    { \"nome\": \"Pedro\", \"idade\": 22 }\n",
    "]\n",
    "list(item for item in dicts if item[\"nome\"] == \"Luiz\" and item[\"idade\"] == 35)\n"
   ]
  },
  {
   "cell_type": "markdown",
   "id": "animal-confidence",
   "metadata": {},
   "source": [
    "Boas práticas em Python\n",
    "=======================\n",
    "\n",
    "Utilize compreensões de dicionários de forma mais eficiente\n",
    "--\n",
    "\n",
    "O estilo **antigo** de inicializar um dicionário (passando uma iterável de pares de valor-chave) era utilizado em Python antes da versão 2.7.\n",
    "\n",
    "Um novo estilo de compreensão de dicionário é funcionalmente equivalente e é muito mais legível. Considere reformular o código em estilo antigo para usar o novo estilo (apenas se você estiver usando o Python 2.7 ou superior).\n",
    "\n",
    "O próximo código demonstra a sintaxe antiga de inicialização de dicionário. Embora não tenha nada errado sintaticamente com o código, ele é um tanto difícil de ler.\n"
   ]
  },
  {
   "cell_type": "code",
   "execution_count": 22,
   "id": "important-professor",
   "metadata": {},
   "outputs": [
    {
     "name": "stdout",
     "output_type": "stream",
     "text": [
      "{1: 2, 2: 4, 3: 6}\n"
     ]
    }
   ],
   "source": [
    "# Uma lista que será utilizada para criar nosso dicionário\n",
    "numeros  =  [1, 2, 3]\n",
    "\n",
    "# difícil de ler \n",
    "meu_dicionario = dict([(numero, numero * 2) for numero in numeros])\n",
    "\n",
    "# imprimindo o dicionário\n",
    "print(meu_dicionario)   # {1: 2, 2: 4, 3: 6}\n"
   ]
  },
  {
   "cell_type": "markdown",
   "id": "unavailable-table",
   "metadata": {},
   "source": [
    "Melhor prática\n",
    "--\n",
    "\n",
    "O código abaixo usa a nova sintaxe de compreensão de dicionário que foi introduzida no Python 2.7:\n"
   ]
  },
  {
   "cell_type": "code",
   "execution_count": 23,
   "id": "educated-pilot",
   "metadata": {},
   "outputs": [
    {
     "name": "stdout",
     "output_type": "stream",
     "text": [
      "{1: 2, 2: 4, 3: 6}\n"
     ]
    }
   ],
   "source": [
    "numeros = [1, 2, 3]\n",
    "\n",
    "meu_dicionario = {numero: numero*2 for numero in numeros}\n",
    "\n",
    "print(meu_dicionario)   # {1: 2, 2: 4, 3: 6}\n"
   ]
  },
  {
   "cell_type": "markdown",
   "id": "amateur-praise",
   "metadata": {},
   "source": [
    "Utilizar o método <code>items()</code> para iterar em um dicionário\n",
    "--\n",
    "\n",
    "A maneira preferida de iterar os pares de valores-chave de um dicionário é declarar duas variáveis em um loop <code>for</code> e, em seguida chamar <code>meuDicionario.items()</code>, onde meuDicionario é o nome da sua variável que representa um dicionário. Para cada iteração de loop, o Python atribuirá automaticamente a primeira variável como a chave e a segunda variável como o valor correspondente dessa chave.\n",
    "\n",
    "O código a seguir define um loop <code>for</code> que itera sobre um dicionário denominado \"d\". Para cada iteração de loop, o Python atribui automaticamente o valor da chave (key) ao nome da próxima chave no dicionário. Dentro do laço de repetição <code>for</code>, o código usa chave (key) para acessar o valor de cada item do dicionário. Essa é uma maneira comum de iterar em um dicionário, mas não é a maneira preferida em Python.\n"
   ]
  },
  {
   "cell_type": "code",
   "execution_count": 24,
   "id": "married-original",
   "metadata": {},
   "outputs": [
    {
     "name": "stdout",
     "output_type": "stream",
     "text": [
      "primeiroNome = Marcio\n",
      "sobrenome = Guillardi\n"
     ]
    }
   ],
   "source": [
    "\n",
    "d = {\"primeiroNome\": \"Marcio\", \"sobrenome\" : \"Guillardi\" }\n",
    "\n",
    "for  chave in  d: \n",
    "    print(\"{} = {}\".format(chave, d[chave]))\n"
   ]
  },
  {
   "cell_type": "markdown",
   "id": "muslim-youth",
   "metadata": {},
   "source": [
    "Melhor prática\n",
    "--\n",
    "\n",
    "Use <code>items()</code> para iterar no dicionário!\n",
    "\n",
    "O código atualizado abaixo demonstra o estilo Pythônico para iteração por meio de um dicionário. Quando você define duas variáveis em um laço de repeticação <code>for</code> em conjunto com uma chamada ao método <code>items()</code> em um dicionário, o Python atribui automaticamente a primeira variável como o nome de uma chave nesse dicionário e a segunda variável como o valor correspondente para essa chave.\n"
   ]
  },
  {
   "cell_type": "code",
   "execution_count": 25,
   "id": "republican-irrigation",
   "metadata": {},
   "outputs": [
    {
     "name": "stdout",
     "output_type": "stream",
     "text": [
      "primeiroNome = Marcio\n",
      "sobrenome = Guillardi\n"
     ]
    }
   ],
   "source": [
    "\n",
    "d = {\"primeiroNome\": \"Marcio\", \"sobrenome\": \"Guillardi\"}\n",
    "\n",
    "for chave, valor in d.items(): \n",
    "    print(\"{} = {}\".format(chave, valor))\n"
   ]
  },
  {
   "cell_type": "code",
   "execution_count": 26,
   "id": "further-nebraska",
   "metadata": {},
   "outputs": [
    {
     "data": {
      "text/plain": [
       "dict_items([('primeiroNome', 'Marcio'), ('sobrenome', 'Guillardi')])"
      ]
     },
     "execution_count": 26,
     "metadata": {},
     "output_type": "execute_result"
    }
   ],
   "source": [
    "# Quais são os valores retornado pelo método items()??\n",
    "d.items()"
   ]
  },
  {
   "cell_type": "markdown",
   "id": "clear-progress",
   "metadata": {},
   "source": [
    "fonte: https://docs.quantifiedcode.com/python-anti-patterns/readability/not_using_items_to_iterate_over_a_dictionary.html"
   ]
  },
  {
   "cell_type": "code",
   "execution_count": null,
   "id": "significant-prince",
   "metadata": {},
   "outputs": [],
   "source": []
  },
  {
   "cell_type": "code",
   "execution_count": null,
   "id": "russian-privacy",
   "metadata": {},
   "outputs": [],
   "source": []
  },
  {
   "cell_type": "code",
   "execution_count": null,
   "id": "referenced-penny",
   "metadata": {},
   "outputs": [],
   "source": []
  }
 ],
 "metadata": {
  "kernelspec": {
   "display_name": "Python 3.9.1 64-bit",
   "language": "python",
   "name": "python39164bitdce0760b4b3a4c6994fe1bed90e141db"
  },
  "language_info": {
   "codemirror_mode": {
    "name": "ipython",
    "version": 3
   },
   "file_extension": ".py",
   "mimetype": "text/x-python",
   "name": "python",
   "nbconvert_exporter": "python",
   "pygments_lexer": "ipython3",
   "version": "3.9.4"
  }
 },
 "nbformat": 4,
 "nbformat_minor": 5
}
