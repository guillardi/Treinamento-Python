{
 "cells": [
  {
   "cell_type": "markdown",
   "id": "accomplished-privilege",
   "metadata": {},
   "source": [
    "### __Resumo do Curso__\n",
    "---\n",
    "* [x] Sobre o Python**\n",
    "* [x] Instalação do Python (MS-Windows)\n",
    "* [x] IDLE - Ambiente de Desenvolvimento Integrado do Python\n",
    "* [x] Ambiente de Desenvolvimento (Anaconda / jupyter Notebook)\n",
    "* [x] Primeiro Código Python\n",
    "* [x] Guardando Informações - Variáveis e Identificadores\n",
    "* [x] Palavras Resevadas\n",
    "* [x] Funções Internas do Python\n",
    "* [x] A Função Interna <code>range()</code>\n",
    "* [x] Trabalhando com Textos (Cadeia de Caracteres/Strings)\n",
    "* [x] Trabalhando com Números (int, float e complex)\n",
    "* [x] Operadores e Expressões Aritméticas\n",
    "* [x] Estrutura de Repetição <code>for</code>\n",
    "* [x] Estrutura de Repetição <code>while</code>\n",
    "* [x] Estrutura Condicional <code>if</code>\n",
    "* [x] Funções Definidas pelo Programador ( <code>def</code> )\n",
    "* [x] Listas\n",
    "* [x] **Tuplas**\n",
    "* [ ] Dicionários\n",
    "* [ ] Conjuntos\n",
    "* [ ] OOP com Python (Introdução)\n",
    "* [ ] Manipulando Arquivos\n",
    "* [ ] Bibliotecas ou Pacotes (Pandas e NumPy)\n",
    "* [ ] EXTRA - Fatiamento (Slice)\n",
    "* [ ] EXTRA - Operações comuns de Sequências\n",
    "* [ ] EXTRA - Markdown\n",
    "* [ ] EXTRA - Counter()\n",
    "* [ ] EXTRA - Expressões Geradoras e Iteradores\n",
    "* [ ] EXTRA - Operações Booleanas\n",
    "* [ ] EXTRA - Caracteres HTML (Markdown)"
   ]
  },
  {
   "cell_type": "markdown",
   "id": "violent-kruger",
   "metadata": {},
   "source": [
    "__Tuplas ( )__\n",
    "--\n",
    "O que aprenderemos: \n",
    "* características básicas\n",
    "* como acessar e gerenciar os dados de uma tupla\n",
    "\n",
    "A 'tupla' é uma sequência do tipo de dados compostos, que é semelhante a uma lista por ser uma coleção de objetos.\n",
    "\n",
    "Uma 'tupla' é uma sequência de valores (objetos) do tipo de dados composto, assim como uma string. Em uma string os valores são caracteres alfanuméricos, enquanto que em uma tupla os valores podem ser de qualquer tipo. \n",
    "\n",
    "Os valores em uma tupla são chamados de __elementos__ ou __itens__.\n",
    "\n",
    "As sequências são indexadas por inteiros (a partir do índice ZERO), enquanto dicionários são indexados por chaves (keys).\n",
    "\n",
    "As tuplas são delimitados por parênteses: ( ), separada por vírgulas. A tupla vazia é ( ), mas como são imutáveis não tem sendito definí-la dessa forma ou com apenas UM elemento.\n",
    "\n",
    "As tuplas têm muitas propriedades em comum com as listas e strings, como indexação e operações de fatiamento. \n",
    "\n",
    "Os tuplas são iguais às listas e diferentes dos dicionários, principalmente na forma como os elementos são acessados:\n",
    "\n",
    "* Os elementos das tuplas e das listas são acessados por sua posição na lista através de uma indexação (os índices começam em ZERO - 0).\n",
    "* Os elementos do dicionário são acessados por meio de palavras-chaves (Keys). As palavras-chaves devem ser únicas (numéricas, cadeia de caracteres ou alfanuméricas e __imutáveis__).\n",
    "\n",
    "Existem várias formas de se criar uma tupla. A mais simples e usual é atribuir à uma variável seus valores separados por vírgulas.\n",
    "\n",
    "Uma tupla pode ser atribuída a uma variável do usuário (ou não) e criadas sem o uso dos parênteses (desde que o contexto não exija os parênteses, como no caso da tupla dentro de uma expressão maior).\n",
    "\n",
    "Os elementos de uma tupla podem ser atribuídos via _empacotamento_ ou acessados via _desempacotamento_:\n",
    "\n",
    "```python\n",
    "# Empacotamento de uma tupla\n",
    "tupla = 12345, 54321, 'Bom dia!'\n",
    "\n",
    "# Desempacotamento de uma tupla\n",
    "x, y, z = tupla\n",
    "```\n",
    "\n",
    "**Sintaxe:** <code>minhaTupla = item¹, item², item³, (...), item<sup>n</sup></code> <br>"
   ]
  },
  {
   "cell_type": "code",
   "execution_count": 6,
   "id": "native-crash",
   "metadata": {},
   "outputs": [
    {
     "data": {
      "text/plain": [
       "(12345, 54321, 'Marcio')"
      ]
     },
     "execution_count": 6,
     "metadata": {},
     "output_type": "execute_result"
    }
   ],
   "source": [
    "# Criando uma tupla via empacotamento\n",
    "tupla = 12345, 54321, 'Marcio'\n",
    "tupla"
   ]
  },
  {
   "cell_type": "code",
   "execution_count": 11,
   "id": "nuclear-housing",
   "metadata": {},
   "outputs": [
    {
     "data": {
      "text/plain": [
       "12345"
      ]
     },
     "execution_count": 11,
     "metadata": {},
     "output_type": "execute_result"
    }
   ],
   "source": [
    "# Acessando o primeiro item de uma tupla \n",
    "tupla[0]"
   ]
  },
  {
   "cell_type": "code",
   "execution_count": 7,
   "id": "loose-algebra",
   "metadata": {},
   "outputs": [
    {
     "data": {
      "text/plain": [
       "str"
      ]
     },
     "execution_count": 7,
     "metadata": {},
     "output_type": "execute_result"
    }
   ],
   "source": [
    "# Não é uma tupla...\n",
    "item = ('teste')\n",
    "type(item)"
   ]
  },
  {
   "cell_type": "code",
   "execution_count": 12,
   "id": "sixth-forestry",
   "metadata": {},
   "outputs": [
    {
     "data": {
      "text/plain": [
       "tuple"
      ]
     },
     "execution_count": 12,
     "metadata": {},
     "output_type": "execute_result"
    }
   ],
   "source": [
    "# É uma tupla vazia...\n",
    "item = ()\n",
    "type(item)"
   ]
  },
  {
   "cell_type": "code",
   "execution_count": 9,
   "id": "liquid-simple",
   "metadata": {},
   "outputs": [
    {
     "data": {
      "text/plain": [
       "tuple"
      ]
     },
     "execution_count": 9,
     "metadata": {},
     "output_type": "execute_result"
    }
   ],
   "source": [
    "# Driblando o interpretador e definindo uma tupla com UM elemento\n",
    "item = \"teste\",\n",
    "type(item)"
   ]
  },
  {
   "cell_type": "code",
   "execution_count": 19,
   "id": "certain-banks",
   "metadata": {},
   "outputs": [
    {
     "data": {
      "text/plain": [
       "((12345, 54321, 'Marcio'),\n",
       " (1, 2, 3, 4, 5),\n",
       " 'resultado = 2**2',\n",
       " <function __main__.<lambda>(x)>,\n",
       " '4 * 4')"
      ]
     },
     "execution_count": 19,
     "metadata": {},
     "output_type": "execute_result"
    }
   ],
   "source": [
    "# As tuplas podem ser aninhadas (tuplas dentro de tuplas)\n",
    "novaTupla = tupla, (1, 2, 3, 4, 5), \"resultado = 2**2\", lambda x: x**x, \"4 * 4\"\n",
    "novaTupla"
   ]
  },
  {
   "cell_type": "code",
   "execution_count": 20,
   "id": "dress-percentage",
   "metadata": {},
   "outputs": [
    {
     "data": {
      "text/plain": [
       "4"
      ]
     },
     "execution_count": 20,
     "metadata": {},
     "output_type": "execute_result"
    }
   ],
   "source": [
    "# Obtento o terceiro (3) item e executando a expressão Python armazenada\n",
    "exec(novaTupla[2])\n",
    "resultado"
   ]
  },
  {
   "cell_type": "code",
   "execution_count": 22,
   "id": "emerging-smoke",
   "metadata": {},
   "outputs": [
    {
     "data": {
      "text/plain": [
       "16"
      ]
     },
     "execution_count": 22,
     "metadata": {},
     "output_type": "execute_result"
    }
   ],
   "source": [
    "# Obtento o quinto (5) item e o avalia como uma expressão Python (A função eval() analisa e executa a expressão)\n",
    "eval(novaTupla[4])"
   ]
  },
  {
   "cell_type": "code",
   "execution_count": 25,
   "id": "radio-voltage",
   "metadata": {},
   "outputs": [
    {
     "data": {
      "text/plain": [
       "27"
      ]
     },
     "execution_count": 25,
     "metadata": {},
     "output_type": "execute_result"
    }
   ],
   "source": [
    "# Obtendo o quarto item (4 - função lambda) e executando a função passando um parâmetro (x) para ela (potenciação)\n",
    "novaTupla[3](3)"
   ]
  },
  {
   "cell_type": "code",
   "execution_count": 53,
   "id": "constant-writer",
   "metadata": {},
   "outputs": [
    {
     "ename": "TypeError",
     "evalue": "'tuple' object does not support item assignment",
     "output_type": "error",
     "traceback": [
      "\u001b[1;31m---------------------------------------------------------------------------\u001b[0m",
      "\u001b[1;31mTypeError\u001b[0m                                 Traceback (most recent call last)",
      "\u001b[1;32m<ipython-input-53-a212f7647f7c>\u001b[0m in \u001b[0;36m<module>\u001b[1;34m\u001b[0m\n\u001b[0;32m      1\u001b[0m \u001b[1;31m# Tuplas são imutáveis (o valor de um item existente não pode ser alterado)\u001b[0m\u001b[1;33m\u001b[0m\u001b[1;33m\u001b[0m\u001b[1;33m\u001b[0m\u001b[0m\n\u001b[1;32m----> 2\u001b[1;33m \u001b[0mnovaTupla\u001b[0m\u001b[1;33m[\u001b[0m\u001b[1;36m0\u001b[0m\u001b[1;33m]\u001b[0m \u001b[1;33m=\u001b[0m \u001b[1;36m99999\u001b[0m\u001b[1;33m\u001b[0m\u001b[1;33m\u001b[0m\u001b[0m\n\u001b[0m",
      "\u001b[1;31mTypeError\u001b[0m: 'tuple' object does not support item assignment"
     ]
    }
   ],
   "source": [
    "# Tuplas são imutáveis (o valor de um item existente não pode ser alterado)\n",
    "novaTupla[0] = 99999"
   ]
  },
  {
   "cell_type": "code",
   "execution_count": 49,
   "id": "latest-memorial",
   "metadata": {},
   "outputs": [
    {
     "data": {
      "text/plain": [
       "([1, 2, 3], [3, 2, 1])"
      ]
     },
     "execution_count": 49,
     "metadata": {},
     "output_type": "execute_result"
    }
   ],
   "source": [
    "# As tuplas podem conter objetos mutáveis\n",
    "lista1 = [1, 2, 3]\n",
    "lista2 = [3, 2, 1]\n",
    "\n",
    "tuplaObjetosMutaveis = (lista1, lista2)\n",
    "tuplaObjetosMutaveis\n"
   ]
  },
  {
   "cell_type": "code",
   "execution_count": 50,
   "id": "nuclear-entrance",
   "metadata": {},
   "outputs": [],
   "source": [
    "# Alterando um objeto dentro da tupla (que é mutável)\n",
    "tuplaObjetosMutaveis[0][0:] = 4, 5, 6"
   ]
  },
  {
   "cell_type": "code",
   "execution_count": 51,
   "id": "everyday-argument",
   "metadata": {},
   "outputs": [
    {
     "data": {
      "text/plain": [
       "([4, 5, 6], [3, 2, 1])"
      ]
     },
     "execution_count": 51,
     "metadata": {},
     "output_type": "execute_result"
    }
   ],
   "source": [
    "tuplaObjetosMutaveis"
   ]
  },
  {
   "cell_type": "markdown",
   "id": "spanish-vanilla",
   "metadata": {},
   "source": [
    "\n",
    "Boas práticas em Python\n",
    "=======================\n",
    "\n",
    "Utilizar tuplas nomeadas ao retornar mais de um valor de uma função\n",
    "--\n",
    "\n",
    "As tuplas nomeadas podem ser usadas em qualquer lugar onde tuplas normais são aceitáveis, mas seus valores podem ser acessados por meio de seus nomes, além de seus índices. Isso torna o código mais detalhado e legível.\n",
    "\n",
    "O código a seguir retorna um nome, nome do meio e o último nome usando uma tupla normal não nomeada. Depois de chamar a tupla, cada valor só pode ser retornado por meio de um índice. Este código é difícil de usar: o chamador da função deve saber que o primeiro elemento é o nome, o segundo é o nome do meio e o terceiro é o último nome.\n"
   ]
  },
  {
   "cell_type": "code",
   "execution_count": 4,
   "id": "coordinated-accountability",
   "metadata": {},
   "outputs": [
    {
     "name": "stdout",
     "output_type": "stream",
     "text": [
      "Marcio Guillardi Silva\n"
     ]
    }
   ],
   "source": [
    "def  get_name (): \n",
    "    return \"Marcio\", \"Guillardi\", \"Silva\"\n",
    "\n",
    "nome = get_name()\n",
    "\n",
    "# Nenhuma ideia da 'identidade' de cada índices mapeado! \n",
    "print(nome[0], nome[1], nome[2])"
   ]
  },
  {
   "cell_type": "markdown",
   "id": "later-directive",
   "metadata": {},
   "source": [
    "Melhor prática\n",
    "--\n",
    "\n",
    "Use tuplas nomeadas para retornar vários valores.\n",
    "--\n",
    "\n",
    "O código a seguir usa tuplas nomeadas para retornar vários valores. Esse código é mais fácil de usar e ler, pois agora o chamador pode acessar cada parte dos dados por meio de um nome simples (como <code>nome.primeiroNome</code>).\n"
   ]
  },
  {
   "cell_type": "code",
   "execution_count": 11,
   "id": "adaptive-connectivity",
   "metadata": {},
   "outputs": [
    {
     "name": "stdout",
     "output_type": "stream",
     "text": [
      "Marcio Guillardi Silva\n"
     ]
    }
   ],
   "source": [
    "from collections import namedtuple\n",
    "\n",
    "def  get_name(): \n",
    "    nome = namedtuple(\"nome\", [\"primeiroNome\" ,  \"nomeMeio\" ,  \"ultimoNome\"]) \n",
    "    return  nome(\"Marcio\", \"Guillardi\", \"Silva\")\n",
    "\n",
    "nomeCompleto = get_name()\n",
    "\n",
    "# muito mais fácil de ler \n",
    "print(nomeCompleto.primeiroNome, nomeCompleto.nomeMeio, nomeCompleto.ultimoNome)"
   ]
  },
  {
   "cell_type": "code",
   "execution_count": 14,
   "id": "indian-outdoors",
   "metadata": {},
   "outputs": [
    {
     "data": {
      "text/plain": [
       "nome(primeiroNome='Marcio', nomeMeio='Guillardi', ultimoNome='Silva')"
      ]
     },
     "execution_count": 14,
     "metadata": {},
     "output_type": "execute_result"
    }
   ],
   "source": [
    "nomeCompleto   # type()"
   ]
  },
  {
   "cell_type": "markdown",
   "id": "improved-cemetery",
   "metadata": {},
   "source": [
    "Fonte: https://docs.python.org/2/library/collections.html%23namedtuple-factory-function-for-tuples-with-named-fields"
   ]
  }
 ],
 "metadata": {
  "kernelspec": {
   "display_name": "Python 3.9.1 64-bit",
   "language": "python",
   "name": "python39164bitdce0760b4b3a4c6994fe1bed90e141db"
  },
  "language_info": {
   "codemirror_mode": {
    "name": "ipython",
    "version": 3
   },
   "file_extension": ".py",
   "mimetype": "text/x-python",
   "name": "python",
   "nbconvert_exporter": "python",
   "pygments_lexer": "ipython3",
   "version": "3.9.4"
  }
 },
 "nbformat": 4,
 "nbformat_minor": 5
}
