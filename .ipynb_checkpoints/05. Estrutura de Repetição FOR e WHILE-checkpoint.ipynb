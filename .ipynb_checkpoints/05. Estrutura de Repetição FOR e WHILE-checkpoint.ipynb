{
 "cells": [
  {
   "cell_type": "markdown",
   "id": "competent-finish",
   "metadata": {},
   "source": [
    "### __Resumo do Curso__\n",
    "---\n",
    "* [x] Sobre o Python**\n",
    "* [x] Instalação do Python (MS-Windows)\n",
    "* [x] IDLE - Ambiente de Desenvolvimento Integrado do Python\n",
    "* [x] Ambiente de Desenvolvimento (Anaconda / jupyter Notebook)\n",
    "* [x] Primeiro Código Python\n",
    "* [x] Guardando Informações - Variáveis e Identificadores\n",
    "* [x] Palavras Resevadas\n",
    "* [x] Funções Internas do Python\n",
    "* [x] A Função Interna <code>range()</code>\n",
    "* [x] Trabalhando com Textos (Cadeia de Caracteres/Strings)\n",
    "* [x] Trabalhando com Números (int, float e complex)\n",
    "* [x] Operadores e Expressões Aritméticas\n",
    "* [x] **Estrutura de Repetição <code>for</code>**\n",
    "* [x] **Estrutura de Repetição <code>while</code>**\n",
    "* [ ] Estrutura Condicional <code>if</code>\n",
    "* [ ] Funções Definidas pelo Programador ( <code>def</code> )\n",
    "* [ ] Listas\n",
    "* [ ] Tuplas\n",
    "* [ ] Dicionários\n",
    "* [ ] Conjuntos\n",
    "* [ ] OOP com Python (Introdução)\n",
    "* [ ] Manipulando Arquivos\n",
    "* [ ] Bibliotecas ou Pacotes (Pandas e NumPy)\n",
    "* [ ] EXTRA - Fatiamento (Slice)\n",
    "* [ ] EXTRA - Operações comuns de Sequências\n",
    "* [ ] EXTRA - Markdown\n",
    "* [ ] EXTRA - Counter()\n",
    "* [ ] EXTRA - Expressões Geradoras e Iteradores\n",
    "* [ ] EXTRA - Operações Booleanas\n",
    "* [ ] EXTRA - Caracteres HTML (Markdown)"
   ]
  }
 ],
 "metadata": {
  "kernelspec": {
   "display_name": "Python 3.9.1 64-bit",
   "language": "python",
   "name": "python39164bitdce0760b4b3a4c6994fe1bed90e141db"
  },
  "language_info": {
   "codemirror_mode": {
    "name": "ipython",
    "version": 3
   },
   "file_extension": ".py",
   "mimetype": "text/x-python",
   "name": "python",
   "nbconvert_exporter": "python",
   "pygments_lexer": "ipython3",
   "version": "3.9.4"
  }
 },
 "nbformat": 4,
 "nbformat_minor": 5
}
