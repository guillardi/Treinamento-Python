{
 "cells": [
  {
   "cell_type": "markdown",
   "metadata": {},
   "source": [
    "### __Resumo do Curso__\n",
    "---\n",
    "* [x] **Sobre o Python**\n",
    "* [x] **Instalação do Python (MS-Windows)**\n",
    "* [x] **IDLE - Ambiente de Desenvolvimento Integrado do Python**\n",
    "* [x] **Ambiente de Desenvolvimento (Anaconda / jupyter Notebook)**\n",
    "* [x] **Primeiro Código Python**\n",
    "* [ ] Guardando Informações - Variáveis e Identificadores\n",
    "* [ ] Palavras Resevadas\n",
    "* [ ] Funções Internas do Python\n",
    "* [ ] A Função Interna <code>range()</code>\n",
    "* [ ] Trabalhando com Textos (Cadeia de Caracteres/Strings)\n",
    "* [ ] Trabalhando com Números (int, float e complex)\n",
    "* [ ] Operadores e Expressões Aritméticas\n",
    "* [ ] Estrutura de Repetição <code>for</code>\n",
    "* [ ] Estrutura de Repetição <code>while</code>\n",
    "* [ ] Estrutura Condicional <code>if</code>\n",
    "* [ ] Funções Definidas pelo Programador ( <code>def</code> )\n",
    "* [ ] Listas\n",
    "* [ ] Tuplas\n",
    "* [ ] Dicionários\n",
    "* [ ] Conjuntos\n",
    "* [ ] OOP com Python (Introdução)\n",
    "* [ ] Manipulando Arquivos\n",
    "* [ ] Bibliotecas ou Pacotes (Pandas e NumPy)\n",
    "* [ ] EXTRA - Fatiamento (Slice)\n",
    "* [ ] EXTRA - Operações comuns de Sequências\n",
    "* [ ] EXTRA - Markdown\n",
    "* [ ] EXTRA - Counter()\n",
    "* [ ] EXTRA - Expressões Geradoras e Iteradores\n",
    "* [ ] EXTRA - Operações Booleanas\n",
    "* [ ] EXTRA - Caracteres HTML (Markdown)"
   ]
  },
  {
   "cell_type": "markdown",
   "metadata": {},
   "source": [
    "# Introdução\n",
    "---"
   ]
  },
  {
   "cell_type": "markdown",
   "metadata": {},
   "source": [
    "### Sobre a Linguagem de Programação _Python_\n",
    "---"
   ]
  },
  {
   "cell_type": "markdown",
   "metadata": {},
   "source": [
    "* Foi implementada no final de 1989 por Guido van Rossum no CWI na Holanda como um sucessor do ABC;\n",
    "* É uma excelente linguagem de propósito geral para elaboração de programas simples ou complexos.\n",
    "* É usada em algumas grandes empresas do planeta, tais como o Google, Dropbox, Mozilla, IBM, Facebook, Yahoo etc.\n",
    "* É, provavelmente, a linguagem mais fácil entendimento para os iniciantes;\n",
    "* Pode ser usadas desenvolvimento de páginas WEB com DJango ou Flask _(não trataremos desses ambientes/frameworks neste tutorial)_;\n",
    "* É uma linguagem de alto nível (mais próxima do entendimento humano);\n",
    "* É uma linguagem interpretada (não precisa ser compilada, ou seja, traduzida para um arquivo em código de máquina);\n",
    "* É uma linguagem de código aberto (open source programming language)."
   ]
  },
  {
   "cell_type": "markdown",
   "metadata": {},
   "source": [
    "### Importante\n",
    "---\n",
    "Para acompanhar este curso você não precisa saber sobre lógica de programação ou ter conhecimento prévio de outra linguagem de programação.\n",
    "\n",
    "Iniciaremos com princípios básicos da linguagem e a medida em que evoluirmos nos exemplos você também aprenderá um pouco de lógica de programação.\n",
    "\n",
    "Para se tornar 'fluente' em Python você deve acompanhar os vídeos e **PRATICAR**, experimentar, tentar, errar e principalmente não desanimar.\n",
    "\n",
    "__Não copie e cole o código apresentado!__ Você pode ser um programador do tipo \"CTRL C + CTRL V\" (copiar e colar) ou pode ser um programador fluente e especializado. Você decide!!\n",
    "\n",
    "Sempre que for apresentado um exemplo sugiro fortemente que você pause o vídeo e digite o código apresentado no ambiente que você escolheu para programar. Desta forma você estará potencializando o seu aprendizado.\n"
   ]
  },
  {
   "cell_type": "markdown",
   "metadata": {},
   "source": [
    "### DICA! Caso você não queira fazer a instalação do Python\n",
    "---\n",
    "\n",
    "Existem várias plataformas on-line que disponibilizam um ambiente completo para desenvolvimento em Python. Caso você não queira fazer nenhuma instalação você pode utilizá-las sem \"medo\" de ser feliz.\n",
    "\n",
    "__Recomendo fortemente__ o ambiente _Google Colab_!!\n",
    "\n",
    "__O que é Google Colab?__\n",
    "\n",
    "O __*Google Colaboratory*__ é um ambiente de notebooks Jupyter que não requer configuração e é executado na nuvem.\n",
    "\n",
    "Escreva e execute códigos em Python, salve e compartilhe suas análises e acesse poderosos recursos de computação científica, tudo gratuitamente no seu navegador.\n",
    "\n",
    "Acesse pelo link: <https://colab.research.google.com>"
   ]
  },
  {
   "cell_type": "markdown",
   "metadata": {},
   "source": [
    "### Instalação do Python\n",
    "---\n",
    "Para instalar em seu computador a última versão disponível do Python visite o site oficial da linguagem.\n",
    "\n",
    "A versão atualmente disponível é a 3.9.4 (em abril de 2021).\n",
    "\n",
    "O endereço do site oficial é <https://www.python.org/>"
   ]
  },
  {
   "cell_type": "markdown",
   "metadata": {},
   "source": [
    "### Faça o Download da última versão (_A versão 3.9.2 em diante não é compatível com o Windows 7)_ "
   ]
  },
  {
   "cell_type": "markdown",
   "metadata": {},
   "source": [
    "<img src=\"./imagens/1.PythonDownload.png\" style=\"width:70%;\">"
   ]
  },
  {
   "cell_type": "markdown",
   "metadata": {},
   "source": [
    "### **SALVE** o arquivo em seu computador caso não apareça a opção para **_EXECUTÁ-LO_**."
   ]
  },
  {
   "cell_type": "markdown",
   "metadata": {},
   "source": [
    "<img src=\"./imagens/2.PythonDownload.png\" style=\"width:70%;\">"
   ]
  },
  {
   "cell_type": "markdown",
   "metadata": {},
   "source": [
    "### Se durante o download não apareceu a opção para _EXECUTAR_ o arquivo, procure-o na pasta de DOWNLOADS e clique DUAS vezes sobre ele para executá-lo."
   ]
  },
  {
   "cell_type": "markdown",
   "metadata": {},
   "source": [
    "__ANTES__ de clicar sobre **\"_Install Now_\"** marque a caixa de seleção **\"_Add Python n.n to PATH_\"**.\n",
    "\n",
    "Esta opção informa que o \"caminho\" de instalação será informado ao Windows e os comandos do Python poderão se encontrados e executados na linha de comando."
   ]
  },
  {
   "cell_type": "markdown",
   "metadata": {},
   "source": [
    "<img src=\"./imagens/3.PythonDownload.png\" style=\"width:70%;\">"
   ]
  },
  {
   "cell_type": "markdown",
   "metadata": {},
   "source": [
    "__SE A VERSÃO__ do Sistema Operacional Windows for a versão __SETE__ você deve baixar a versão compatível com o seu sistema.\n",
    "\n",
    "Observe abaixo as versões disponíveis mais recente para o __Windows 7 (3.8.9 32 ou 64-bit)__:"
   ]
  },
  {
   "cell_type": "markdown",
   "metadata": {},
   "source": [
    "<img src=\"./imagens/4.PythonDownload.png\" style=\"width:70%;\">"
   ]
  },
  {
   "cell_type": "markdown",
   "metadata": {},
   "source": [
    "Agora vamos verificar se o Python foi instalado corretamente!!\n",
    "\n",
    "* Procure no _Menu Iniciar_ do Windows por \"cmd\" (__Prompt de Comando / Aplicativo__) ;\n",
    "* Quando a janela do Prompt de Comando aparecer digite o seguinte comando:\n",
    "\n",
    "    <code>python --version</code>"
   ]
  },
  {
   "cell_type": "markdown",
   "metadata": {},
   "source": [
    "<img src=\"./imagens/5.PythonDownload.png\">"
   ]
  },
  {
   "cell_type": "markdown",
   "metadata": {},
   "source": [
    "### IDLE\n",
    "---\n",
    "A palavra IDLE é o acrônimo de _Integrated Development and Learning Environment_ (Ambiente Integrado de Desenvolvimento e Aprendizado).\n",
    "\n",
    "Ele é escrito totalemente em Python para ser utilizado no desenvolvimento e execução de programas em Python.\n",
    "\n",
    "Para iniciar o shell interativo IDLE, procure o ícone IDLE no menu Iniciar e clique sobre ele. Isso abrirá o IDLE, onde você pode escrever o código Python e executá-lo como mostrado abaixo:"
   ]
  },
  {
   "cell_type": "markdown",
   "metadata": {},
   "source": [
    "Agora vamos iniciar o _IDLE_!\n",
    "\n",
    "* Procure no _Menu Iniciar_ do Windows por \"IDLE\";\n",
    "* Execute o aplicativo clicando sobre ele."
   ]
  },
  {
   "cell_type": "markdown",
   "metadata": {},
   "source": [
    "<img src=\"./imagens/6.IDLE.png\" style=\"width:70%;\">"
   ]
  },
  {
   "cell_type": "markdown",
   "metadata": {},
   "source": [
    "O IDLE está em execução?\n",
    "\n",
    "Digite o comando apresentado na figura (<code>import this</code>):"
   ]
  },
  {
   "cell_type": "markdown",
   "metadata": {},
   "source": [
    "<img src=\"./imagens/7.IDLE.png\" style=\"width:70%;\">"
   ]
  },
  {
   "cell_type": "markdown",
   "metadata": {},
   "source": [
    "O Zen do Python é uma coleção de 19 princípios, na forma de poema, com uma série de aforismos, para escrever programas na linguagem de programação Python.<br>\n",
    "\n",
    "A versão em Português seria a seguinte:\n",
    "\n",
    "Bonito é melhor que feio<br>\n",
    "Explícito é melhor que implícito<br>\n",
    "Simples é melhor que complexo<br>\n",
    "Complexo é melhor que complicado<br>\n",
    "Linear é melhor do que aninhado<br>\n",
    "Esparso é melhor que denso<br>\n",
    "Legibilidade conta<br>\n",
    "Casos especiais não são especiais o bastante para quebrar as regras.<br>\n",
    "Ainda que praticidade vença a pureza<br>\n",
    "Erros nunca devem passar silenciosamente. <br>\n",
    "A menos que sejam explicitamente silenciados<br>\n",
    "Diante da ambiguidade, recuse a tentação de adivinhar<br>\n",
    "Deveria haver um — e preferencialmente apenas um — modo óbvio para fazer algo.<br>\n",
    "Embora esse modo possa não ser óbvio a princípio a menos que você seja holandês<br>\n",
    "Agora é melhor que nunca<br>\n",
    "Embora nunca freqüentemente seja melhor que já<br>\n",
    "Se a implementação é difícil de explicar, é uma má ideia<br>\n",
    "Se a implementação é fácil de explicar, pode ser uma boa ideia<br>\n",
    "Namespaces são uma grande ideia — vamos ter mais dessas!<br>"
   ]
  },
  {
   "cell_type": "markdown",
   "metadata": {},
   "source": [
    "### Anaconda - IDE / Jupyter Notebook\n",
    "---\n",
    "O Anaconda é uma iniciativa que tem como objetivo agregar todas as ferramentas para análise de dados em um único arquivo. Será instalado todas as bibliotecas e recursos necessários para projetos de _Data Science_ e _Machine Learning_.\n",
    "\n",
    "Serão instalados o Jupyter Notebook além das bibliotecas NumPy, Pandas, Scikit-learn etc.\n",
    "\n",
    "Pode parecer estranho para você todas estas palavras. Mas em breve farão muito sentido!!\n",
    "\n",
    "Para fazer o download acesso a página oficial: <https://www.anaconda.com/> e escolha a \"Edição Individual\" conforme abaixo:"
   ]
  },
  {
   "cell_type": "markdown",
   "metadata": {},
   "source": [
    "<img src=\"./imagens/8.Anaconda.png\" style=\"width:70%;\">"
   ]
  },
  {
   "cell_type": "markdown",
   "metadata": {},
   "source": [
    "Clique no botão <code>Download</code> ou vá para o final da página para realizar o download do aplicativo:"
   ]
  },
  {
   "cell_type": "markdown",
   "metadata": {},
   "source": [
    "<img src=\"./imagens/9.Anaconda.png\" style=\"width:70%;\">"
   ]
  },
  {
   "cell_type": "markdown",
   "metadata": {},
   "source": [
    "A página rolará para o final.\n",
    "\n",
    "Escolha a versão compatível com o seu sistema Operacional!"
   ]
  },
  {
   "cell_type": "markdown",
   "metadata": {},
   "source": [
    "<img src=\"./imagens/10.Anaconda.png\" style=\"width:70%;\">"
   ]
  },
  {
   "cell_type": "markdown",
   "metadata": {},
   "source": [
    "### **SALVE** o arquivo em seu computador caso não apareça a opção para **_EXECUTÁ-LO_**."
   ]
  },
  {
   "cell_type": "markdown",
   "metadata": {},
   "source": [
    "<img src=\"./imagens/11.Anaconda.png\" style=\"width:70%;\">"
   ]
  },
  {
   "cell_type": "markdown",
   "metadata": {},
   "source": [
    "### Instale o Anaconda: _Next_ >> _I Agree_ >> _Next_ >> _Next_ >> _Install_"
   ]
  },
  {
   "cell_type": "markdown",
   "metadata": {},
   "source": [
    "<img src=\"./imagens/17.Anaconda.png\" style=\"width:70%;\">"
   ]
  },
  {
   "cell_type": "markdown",
   "metadata": {},
   "source": [
    "__Jupyter Notebook__\n",
    "\n",
    "Essa é uma das ferramentas mais poderosas e importantes que vem com o Anaconda. \n",
    "\n",
    "O Jupyter Notebook é um interfarce gráfica que permite a edição de texto e código (linguagem de programação) em um navegador web.\n",
    "\n",
    "O Jupyter Notebook é uma aplicação de código aberto que permite você criar e compartilhar documentos com código dinâmico, visualizações de gráficos, limpeza de dados e até textos explicatórios. O melhor de tudo é que ele tem suporte a elementos HTML, o que vai deixar sua apresentação mais \"apresentável\".\n",
    "\n",
    "__Primeiros passos__\n",
    "\n",
    "Inicie o servidor do notebook a partir da linha de comando (execute o Prompt de Comando do Windows):\n",
    "\n",
    "<code>jupyter notebook<code>\n",
    "\n",
    "Isso irá exibir algumas informações sobre o servidor do notebook no seu terminal, incluindo a URL da aplicação web (por padrão, http://localhost:8888):\n",
    "\n",
    "Em seguinda será aberto em seu navegador o notebook e será exibido o Dashboard do Notebook que exibirá uma lista dos notebooks, arquivos e subdiretórios no diretório onde o servidor do notebook foi inicializado. \n",
    "\n",
    "__Na maioria das vezes, você irá querer que o servidor do notebook inicie no diretório de nível mais alto que contenha os notebooks. Geralmente este será seu diretório de trabalho.__\n"
   ]
  },
  {
   "cell_type": "markdown",
   "metadata": {},
   "source": [
    "<img src=\"./imagens/18.Jupyter.png\" style=\"width:70%;\">"
   ]
  },
  {
   "cell_type": "markdown",
   "metadata": {},
   "source": [
    "Os seus arquivos estarão todos disponíveis para edição."
   ]
  },
  {
   "cell_type": "markdown",
   "metadata": {},
   "source": [
    "<img src=\"./imagens/19.Jupyter.png\" style=\"width:70%;\">"
   ]
  },
  {
   "cell_type": "markdown",
   "metadata": {},
   "source": [
    "Vamos iniciar um novo arquivo para finalmente fazermos nossa primeira linha de programa!!!"
   ]
  },
  {
   "cell_type": "markdown",
   "metadata": {},
   "source": [
    "<img src=\"./imagens/20.Jupyter.png\" style=\"width:70%;\">"
   ]
  },
  {
   "cell_type": "markdown",
   "metadata": {},
   "source": [
    "Uma nova aba será criada com o seu arquivo notebook para você testar os códigos em Python do nosso curso!!\n",
    "\n",
    "Digite o comando <code>print()</code> na linha disponível e clique sobre o botão \"> Run\" para executar o seu código.\n",
    "\n",
    "> __DICA__: ctrl + enter __ou__ ctrl + shift também executam a linha atual!!\n"
   ]
  },
  {
   "cell_type": "markdown",
   "metadata": {},
   "source": [
    "<img src=\"./imagens/21.Jupyter.png\" style=\"width:70%;\">"
   ]
  },
  {
   "cell_type": "markdown",
   "metadata": {},
   "source": [
    "### O básico sobre saídas (output) em Python\n",
    "\n",
    "Para exibirmos o resultado de nosso script utilizamos da função interna do Python:\n",
    "```python\n",
    "print()\n",
    "```\n",
    "__Imprimindo um texto qualquer (textos sempre estarão entre aspas)__\n",
    "```python\n",
    "print(\"Bem-vindo ao Python!\")\n",
    "```\n",
    "__imprimindo um inteiro diretamente__\n",
    "```python\n",
    "print (5)\n",
    "```\n",
    "__Imprimir um cálculo__\n",
    "```python\n",
    "print(2 + 3)\n",
    "```\n",
    "__Podemos fazer isso com variáveis (será o nosso próximo tópico)__\n",
    "```python\n",
    "a = 2\n",
    "b = 3\n",
    "print( a + b )\n",
    "```\n"
   ]
  },
  {
   "cell_type": "markdown",
   "metadata": {},
   "source": [
    "# Obrigado por ter assistido e até a próxima aula!!"
   ]
  }
 ],
 "metadata": {
  "anaconda-cloud": {},
  "kernelspec": {
   "display_name": "Python 3.9.1 64-bit",
   "language": "python",
   "name": "python39164bitdce0760b4b3a4c6994fe1bed90e141db"
  },
  "language_info": {
   "codemirror_mode": {
    "name": "ipython",
    "version": 3
   },
   "file_extension": ".py",
   "mimetype": "text/x-python",
   "name": "python",
   "nbconvert_exporter": "python",
   "pygments_lexer": "ipython3",
   "version": "3.9.4"
  }
 },
 "nbformat": 4,
 "nbformat_minor": 4
}
