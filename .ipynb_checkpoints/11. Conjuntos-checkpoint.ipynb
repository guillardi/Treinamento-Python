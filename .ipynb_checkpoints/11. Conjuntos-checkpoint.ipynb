{
 "cells": [
  {
   "cell_type": "markdown",
   "id": "exceptional-corrections",
   "metadata": {},
   "source": [
    "### __Resumo do Curso__\n",
    "---\n",
    "* [x] Sobre o Python**\n",
    "* [x] Instalação do Python (MS-Windows)\n",
    "* [x] IDLE - Ambiente de Desenvolvimento Integrado do Python\n",
    "* [x] Ambiente de Desenvolvimento (Anaconda / jupyter Notebook)\n",
    "* [x] Primeiro Código Python\n",
    "* [x] Guardando Informações - Variáveis e Identificadores\n",
    "* [x] Palavras Resevadas\n",
    "* [x] Funções Internas do Python\n",
    "* [x] A Função Interna <code>range()</code>\n",
    "* [x] Trabalhando com Textos (Cadeia de Caracteres/Strings)\n",
    "* [x] Trabalhando com Números (int, float e complex)\n",
    "* [x] Operadores e Expressões Aritméticas\n",
    "* [x] Estrutura de Repetição <code>for</code>\n",
    "* [x] Estrutura de Repetição <code>while</code>\n",
    "* [x] Estrutura Condicional <code>if</code>\n",
    "* [x] Funções Definidas pelo Programador ( <code>def</code> )\n",
    "* [x] Listas\n",
    "* [x] Tuplas\n",
    "* [x] Dicionários\n",
    "* [x] **Conjuntos**\n",
    "* [ ] OOP com Python (Introdução)\n",
    "* [ ] Manipulando Arquivos\n",
    "* [ ] Bibliotecas ou Pacotes (Pandas e NumPy)\n",
    "* [ ] EXTRA - Fatiamento (Slice)\n",
    "* [ ] EXTRA - Operações comuns de Sequências\n",
    "* [ ] EXTRA - Markdown\n",
    "* [ ] EXTRA - Counter()\n",
    "* [ ] EXTRA - Expressões Geradoras e Iteradores\n",
    "* [ ] EXTRA - Operações Booleanas\n",
    "* [ ] EXTRA - Caracteres HTML (Markdown)"
   ]
  },
  {
   "cell_type": "markdown",
   "id": "skilled-election",
   "metadata": {},
   "source": [
    "__Conjuntos em Python { } (set)__\n",
    "--\n",
    "\n",
    "O que aprenderemos: \n",
    "* características básicas\n",
    "* como acessar e gerenciar os dados do dicionário\n",
    "\n",
    "Python fornece outro tipo de dados para 'conjuntos', chamado _set_, que é semelhante a uma lista por ser uma coleção de objetos (não repetidos).\n",
    "\n",
    "Um conjunto é uma coleção desordenada de elementos, sem elementos repetidos. Usos comuns para conjuntos incluem a verificação eficiente da existência de objetos e a eliminação de itens duplicados.\n",
    "\n",
    "Conjuntos também suportam operações matemáticas como união, interseção, diferença e diferença simétrica.\n",
    "\n",
    "As sequências são indexadas por inteiros (a partir do índice ZERO), enquanto dicionários são indexados por chaves (keys), que podem ser de qualquer tipo imutável (como strings e inteiros). Tuplas podem ser chaves se contiverem apenas strings, inteiros ou outras tuplas.\n",
    "\n",
    "Conjuntos são delimitados por chaves: { }, e contém uma lista de itens únicos (não repetidos), separados por vírgulas. O conjunto vazio é { }. \n",
    "\n",
    "Vala ressaltar que chaves ou a função set() podem ser usados para criar conjuntos. __Note__: para criar um conjunto vazio você precisa usar set(), não { }; este último cria um dicionário vazio, uma estrutura de dados que discutiremos na lição anterior.\n",
    "\n",
    "Dicionários e listas compartilham as seguintes características:\n",
    "\n",
    "* Ambos são mutáveis: podem ser alterados.\n",
    "* Ambos são dinâmicos: Eles podem crescer e encolher conforme necessário.\n",
    "* Ambos podem ser aninhados: Uma lista pode conter outra lista. Um dicionário pode conter outro dicionário. Um dicionário também pode conter uma lista e vice-versa.\n",
    "\n",
    "Os dicionários diferem das listas principalmente na forma como os elementos são acessados:\n",
    "* Os elementos da lista são acessados por sua posição na lista através de uma indexação (os índices começam em ZERO - 0).\n",
    "* Os elementos do dicionário são acessados por meio de palavras-chaves (Keys). As palavras-chaves devem ser únicas (numéricas, cadeia de caracteres ou alfanuméricas e __imutáveis__).\n",
    "\n"
   ]
  },
  {
   "cell_type": "code",
   "execution_count": null,
   "id": "fossil-arkansas",
   "metadata": {},
   "outputs": [],
   "source": []
  },
  {
   "cell_type": "code",
   "execution_count": 1,
   "id": "going-cattle",
   "metadata": {},
   "outputs": [
    {
     "name": "stdout",
     "output_type": "stream",
     "text": [
      "{'apple', 'pear', 'banana', 'orange'}\n"
     ]
    }
   ],
   "source": [
    "basket = {'apple', 'orange', 'apple', 'pear', 'orange', 'banana'}\n",
    "print(basket)"
   ]
  },
  {
   "cell_type": "code",
   "execution_count": 2,
   "id": "killing-myrtle",
   "metadata": {},
   "outputs": [
    {
     "data": {
      "text/plain": [
       "True"
      ]
     },
     "execution_count": 2,
     "metadata": {},
     "output_type": "execute_result"
    }
   ],
   "source": [
    "'orange' in basket                 # fast membership testing"
   ]
  },
  {
   "cell_type": "code",
   "execution_count": 3,
   "id": "mighty-tutorial",
   "metadata": {},
   "outputs": [
    {
     "data": {
      "text/plain": [
       "False"
      ]
     },
     "execution_count": 3,
     "metadata": {},
     "output_type": "execute_result"
    }
   ],
   "source": [
    "'crabgrass' in basket"
   ]
  },
  {
   "cell_type": "code",
   "execution_count": 5,
   "id": "metropolitan-break",
   "metadata": {},
   "outputs": [
    {
     "data": {
      "text/plain": [
       "({'a', 'b', 'c', 'd', 'r'}, {'a', 'c', 'l', 'm', 'z'})"
      ]
     },
     "execution_count": 5,
     "metadata": {},
     "output_type": "execute_result"
    }
   ],
   "source": [
    "# Demonstrate set operations on unique letters from two words\n",
    "a = set('abracadabra')\n",
    "b = set('alacazam')\n",
    "a, b                                  # unique letters in a"
   ]
  },
  {
   "cell_type": "code",
   "execution_count": 6,
   "id": "therapeutic-plate",
   "metadata": {},
   "outputs": [
    {
     "data": {
      "text/plain": [
       "{'b', 'd', 'r'}"
      ]
     },
     "execution_count": 6,
     "metadata": {},
     "output_type": "execute_result"
    }
   ],
   "source": [
    "a - b                              # letters in a but not in b"
   ]
  },
  {
   "cell_type": "code",
   "execution_count": 7,
   "id": "challenging-blade",
   "metadata": {},
   "outputs": [
    {
     "data": {
      "text/plain": [
       "{'a', 'b', 'c', 'd', 'l', 'm', 'r', 'z'}"
      ]
     },
     "execution_count": 7,
     "metadata": {},
     "output_type": "execute_result"
    }
   ],
   "source": [
    "a | b                              # letters in a or b or both"
   ]
  },
  {
   "cell_type": "code",
   "execution_count": 8,
   "id": "answering-expense",
   "metadata": {},
   "outputs": [
    {
     "data": {
      "text/plain": [
       "{'a', 'c'}"
      ]
     },
     "execution_count": 8,
     "metadata": {},
     "output_type": "execute_result"
    }
   ],
   "source": [
    "a & b                              # letters in both a and b"
   ]
  },
  {
   "cell_type": "code",
   "execution_count": 10,
   "id": "removable-electricity",
   "metadata": {},
   "outputs": [
    {
     "data": {
      "text/plain": [
       "{'b', 'd', 'l', 'm', 'r', 'z'}"
      ]
     },
     "execution_count": 10,
     "metadata": {},
     "output_type": "execute_result"
    }
   ],
   "source": [
    "a ^ b                              # letters in a or b but not both"
   ]
  },
  {
   "cell_type": "code",
   "execution_count": 12,
   "id": "amateur-azerbaijan",
   "metadata": {},
   "outputs": [
    {
     "data": {
      "text/plain": [
       "{'d', 'r'}"
      ]
     },
     "execution_count": 12,
     "metadata": {},
     "output_type": "execute_result"
    }
   ],
   "source": [
    "# Da mesma forma que compreensão de listas, compreensões de conjunto também são suportadas:\n",
    "a = {x for x in 'abracadabra' if x not in 'abc'}\n",
    "a"
   ]
  },
  {
   "cell_type": "code",
   "execution_count": 13,
   "id": "signal-fraction",
   "metadata": {},
   "outputs": [
    {
     "data": {
      "text/plain": [
       "{'a', 'b', 'c', 'd', 'r'}"
      ]
     },
     "execution_count": 13,
     "metadata": {},
     "output_type": "execute_result"
    }
   ],
   "source": [
    "# Da mesma forma que compreensão de listas, compreensões de conjunto também são suportadas:\n",
    "a = {x for x in 'abracadabra'}\n",
    "a"
   ]
  },
  {
   "cell_type": "code",
   "execution_count": 14,
   "id": "superior-oriental",
   "metadata": {},
   "outputs": [
    {
     "name": "stdout",
     "output_type": "stream",
     "text": [
      "Union : {0, 1, 2, 3, 4, 5, 6, 8}\n",
      "Intersection : {2, 4}\n",
      "Difference : {0, 8, 6}\n",
      "Symmetric difference : {0, 1, 3, 5, 6, 8}\n"
     ]
    }
   ],
   "source": [
    "A = {0, 2, 4, 6, 8};\n",
    "B = {1, 2, 3, 4, 5};\n",
    "\n",
    "print(\"Union :\", A | B)  \n",
    "\n",
    "print(\"Intersection :\", A & B)\n",
    "\n",
    "print(\"Difference :\", A - B)\n",
    "\n",
    "# elements not present both sets\n",
    "print(\"Symmetric difference :\", A ^ B)   \n"
   ]
  },
  {
   "cell_type": "code",
   "execution_count": 22,
   "id": "raising-trace",
   "metadata": {},
   "outputs": [
    {
     "name": "stdout",
     "output_type": "stream",
     "text": [
      "{0, 1, 2}\n",
      "{0, 1, 2, 3, 4}\n"
     ]
    }
   ],
   "source": [
    "s = set(range(3))\n",
    "print(s)\n",
    "\n",
    "s.update(range(5))\n",
    "print(s)\n"
   ]
  },
  {
   "cell_type": "code",
   "execution_count": 24,
   "id": "ceramic-legislature",
   "metadata": {},
   "outputs": [
    {
     "name": "stdout",
     "output_type": "stream",
     "text": [
      "{0, 1, 2, 3, 4, 5, 6}\n"
     ]
    }
   ],
   "source": [
    "s = s.union({5, 4, 6, 1, 2})\n",
    "print(s)"
   ]
  },
  {
   "cell_type": "code",
   "execution_count": 25,
   "id": "pregnant-picnic",
   "metadata": {},
   "outputs": [
    {
     "ename": "SyntaxError",
     "evalue": "invalid syntax (<ipython-input-25-013abb6a8731>, line 1)",
     "output_type": "error",
     "traceback": [
      "\u001b[1;36m  File \u001b[1;32m\"<ipython-input-25-013abb6a8731>\"\u001b[1;36m, line \u001b[1;32m1\u001b[0m\n\u001b[1;33m    You might think the most intuitive sets would contain similar objects—for example, even numbers or surnames:\u001b[0m\n\u001b[1;37m        ^\u001b[0m\n\u001b[1;31mSyntaxError\u001b[0m\u001b[1;31m:\u001b[0m invalid syntax\n"
     ]
    }
   ],
   "source": [
    "You might think the most intuitive sets would contain similar objects—for example, even numbers or surnames:\n",
    "\n",
    ">>> s1 = {2, 4, 6, 8, 10}\n",
    ">>> s2 = {'Smith', 'McArthur', 'Wilson', 'Johansson'}\n",
    "\n",
    "Python does not require this, though. The elements in a set can be objects of different types:\n",
    "\n",
    ">>> x = {42, 'foo', 3.14159, None}\n",
    ">>> x\n",
    "{None, 'foo', 42, 3.14159}\n",
    "\n",
    "Don’t forget that set elements must be immutable. For example, a tuple may be included in a set:\n",
    "\n",
    ">>> x = {42, 'foo', (1, 2, 3), 3.14159}\n",
    ">>> x\n",
    "{42, 'foo', 3.14159, (1, 2, 3)}\n",
    "\n",
    "But lists and dictionaries are mutable, so they can’t be set elements:\n",
    "\n",
    ">>> a = [1, 2, 3]\n",
    ">>> {a}\n",
    "Traceback (most recent call last):\n",
    "  File \"<pyshell#70>\", line 1, in <module>\n",
    "    {a}\n",
    "TypeError: unhashable type: 'list'\n",
    "\n",
    ">>> d = {'a': 1, 'b': 2}\n",
    ">>> {d}\n",
    "Traceback (most recent call last):\n",
    "  File \"<pyshell#72>\", line 1, in <module>\n",
    "    {d}\n",
    "TypeError: unhashable type: 'dict'\n"
   ]
  },
  {
   "cell_type": "code",
   "execution_count": null,
   "id": "desirable-duration",
   "metadata": {},
   "outputs": [],
   "source": [
    "More than two sets may be specified with either the operator or the method:\n",
    "\n",
    ">>> a = {1, 2, 3, 4}\n",
    ">>> b = {2, 3, 4, 5}\n",
    ">>> c = {3, 4, 5, 6}\n",
    ">>> d = {4, 5, 6, 7}\n",
    "\n",
    ">>> a.union(b, c, d)\n",
    "{1, 2, 3, 4, 5, 6, 7}\n",
    "\n",
    ">>> a | b | c | d\n",
    "{1, 2, 3, 4, 5, 6, 7}\n"
   ]
  },
  {
   "cell_type": "code",
   "execution_count": null,
   "id": "sexual-spray",
   "metadata": {},
   "outputs": [],
   "source": [
    "x1.intersection(x2) and x1 & x2 return the set of elements common to both x1 and x2:\n",
    "\n",
    ">>> x1 = {'foo', 'bar', 'baz'}\n",
    ">>> x2 = {'baz', 'qux', 'quux'}\n",
    "\n",
    ">>> x1.intersection(x2)\n",
    "{'baz'}\n",
    "\n",
    ">>> x1 & x2\n",
    "{'baz'}\n",
    "\n",
    "You can specify multiple sets with the intersection method and operator, just like you can with set union:\n",
    "\n",
    ">>> a = {1, 2, 3, 4}\n",
    ">>> b = {2, 3, 4, 5}\n",
    ">>> c = {3, 4, 5, 6}\n",
    ">>> d = {4, 5, 6, 7}\n",
    "\n",
    ">>> a.intersection(b, c, d)\n",
    "{4}\n",
    "\n",
    ">>> a & b & c & d\n",
    "{4}\n"
   ]
  },
  {
   "cell_type": "code",
   "execution_count": null,
   "id": "compound-loading",
   "metadata": {},
   "outputs": [],
   "source": [
    "x1.difference(x2) and x1 - x2 return the set of all elements that are in x1 but not in x2:\n",
    "\n",
    ">>> x1 = {'foo', 'bar', 'baz'}\n",
    ">>> x2 = {'baz', 'qux', 'quux'}\n",
    "\n",
    ">>> x1.difference(x2)\n",
    "{'foo', 'bar'}\n",
    "\n",
    ">>> x1 - x2\n",
    "{'foo', 'bar'}\n",
    "\n",
    "Another way to think of this is that x1.difference(x2) and x1 - x2 return the set that results when any elements in x2 are removed or subtracted from x1.\n",
    "\n",
    "Once again, you can specify more than two sets:\n",
    "\n",
    ">>> a = {1, 2, 3, 30, 300}\n",
    ">>> b = {10, 20, 30, 40}\n",
    ">>> c = {100, 200, 300, 400}\n",
    "\n",
    ">>> a.difference(b, c)\n",
    "{1, 2, 3}\n",
    "\n",
    ">>> a - b - c\n",
    "{1, 2, 3}\n"
   ]
  },
  {
   "cell_type": "code",
   "execution_count": null,
   "id": "corporate-thanksgiving",
   "metadata": {},
   "outputs": [],
   "source": [
    "x1.symmetric_difference(x2) and x1 ^ x2 return the set of all elements in either x1 or x2, but not both:\n",
    "\n",
    ">>> x1 = {'foo', 'bar', 'baz'}\n",
    ">>> x2 = {'baz', 'qux', 'quux'}\n",
    "\n",
    ">>> x1.symmetric_difference(x2)\n",
    "{'foo', 'qux', 'quux', 'bar'}\n",
    "\n",
    ">>> x1 ^ x2\n",
    "{'foo', 'qux', 'quux', 'bar'}\n",
    "\n",
    "The ^ operator also allows more than two sets:\n",
    "\n",
    ">>> a = {1, 2, 3, 4, 5}\n",
    ">>> b = {10, 2, 3, 4, 50}\n",
    ">>> c = {1, 50, 100}\n",
    "\n",
    ">>> a ^ b ^ c\n",
    "{100, 5, 10}\n",
    "\n",
    "As with the difference operator, when multiple sets are specified, the operation is performed from left to right.\n",
    "\n",
    "Curiously, although the ^ operator allows multiple sets, the .symmetric_difference() method doesn’t:\n",
    "\n",
    ">>> a = {1, 2, 3, 4, 5}\n",
    ">>> b = {10, 2, 3, 4, 50}\n",
    ">>> c = {1, 50, 100}\n",
    "\n",
    ">>> a.symmetric_difference(b, c)\n",
    "Traceback (most recent call last):\n",
    "  File \"<pyshell#11>\", line 1, in <module>\n",
    "    a.symmetric_difference(b, c)\n",
    "TypeError: symmetric_difference() takes exactly one argument (2 given)\n"
   ]
  },
  {
   "cell_type": "code",
   "execution_count": null,
   "id": "written-strengthening",
   "metadata": {},
   "outputs": [],
   "source": [
    "x1.isdisjoint(x2) returns True if x1 and x2 have no elements in common:\n",
    "\n",
    ">>> x1 = {'foo', 'bar', 'baz'}\n",
    ">>> x2 = {'baz', 'qux', 'quux'}\n",
    "\n",
    ">>> x1.isdisjoint(x2)\n",
    "False\n",
    "\n",
    ">>> x2 - {'baz'}\n",
    "{'quux', 'qux'}\n",
    ">>> x1.isdisjoint(x2 - {'baz'})\n",
    "True\n",
    "\n",
    "If x1.isdisjoint(x2) is True, then x1 & x2 is the empty set:\n",
    "\n",
    ">>> x1 = {1, 3, 5}\n",
    ">>> x2 = {2, 4, 6}\n",
    "\n",
    ">>> x1.isdisjoint(x2)\n",
    "True\n",
    ">>> x1 & x2\n",
    "set()\n",
    "\n",
    "Note: There is no operator that corresponds to the .isdisjoint() method.\n",
    "\n",
    "x1.issubset(x2)\n",
    "\n",
    "x1 <= x2\n",
    "\n",
    "    Determine whether one set is a subset of the other.\n",
    "\n",
    "In set theory, a set x1 is considered a subset of another set x2 if every element of x1 is in x2.\n",
    "\n",
    "x1.issubset(x2) and x1 <= x2 return True if x1 is a subset of x2:\n",
    "\n",
    ">>> x1 = {'foo', 'bar', 'baz'}\n",
    ">>> x1.issubset({'foo', 'bar', 'baz', 'qux', 'quux'})\n",
    "True\n",
    "\n",
    ">>> x2 = {'baz', 'qux', 'quux'}\n",
    ">>> x1 <= x2\n",
    "False\n",
    "\n",
    "A set is considered to be a subset of itself:\n",
    "\n",
    ">>> x = {1, 2, 3, 4, 5}\n",
    ">>> x.issubset(x)\n",
    "True\n",
    ">>> x <= x\n",
    "True\n",
    "\n",
    "It seems strange, perhaps. But it fits the definition—every element of x is in x.\n",
    "\n",
    "x1 < x2\n",
    "\n",
    "    Determines whether one set is a proper subset of the other.\n",
    "\n",
    "A proper subset is the same as a subset, except that the sets can’t be identical. A set x1 is considered a proper subset of another set x2 if every element of x1 is in x2, and x1 and x2 are not equal.\n",
    "\n",
    "x1 < x2 returns True if x1 is a proper subset of x2:\n",
    "\n",
    ">>> x1 = {'foo', 'bar'}\n",
    ">>> x2 = {'foo', 'bar', 'baz'}\n",
    ">>> x1 < x2\n",
    "True\n",
    "\n",
    ">>> x1 = {'foo', 'bar', 'baz'}\n",
    ">>> x2 = {'foo', 'bar', 'baz'}\n",
    ">>> x1 < x2\n",
    "False\n",
    "\n",
    "While a set is considered a subset of itself, it is not a proper subset of itself:\n",
    "\n",
    ">>> x = {1, 2, 3, 4, 5}\n",
    ">>> x <= x\n",
    "True\n",
    ">>> x < x\n",
    "False\n",
    "\n",
    "Note: The < operator is the only way to test whether a set is a proper subset. There is no corresponding method.\n",
    "\n",
    "x1.issuperset(x2)\n",
    "\n",
    "x1 >= x2\n",
    "\n",
    "    Determine whether one set is a superset of the other.\n",
    "\n",
    "A superset is the reverse of a subset. A set x1 is considered a superset of another set x2 if x1 contains every element of x2.\n",
    "\n",
    "x1.issuperset(x2) and x1 >= x2 return True if x1 is a superset of x2:\n",
    "\n",
    ">>> x1 = {'foo', 'bar', 'baz'}\n",
    "\n",
    ">>> x1.issuperset({'foo', 'bar'})\n",
    "True\n",
    "\n",
    ">>> x2 = {'baz', 'qux', 'quux'}\n",
    ">>> x1 >= x2\n",
    "False\n",
    "\n",
    "You have already seen that a set is considered a subset of itself. A set is also considered a superset of itself:\n",
    "\n",
    ">>> x = {1, 2, 3, 4, 5}\n",
    ">>> x.issuperset(x)\n",
    "True\n",
    ">>> x >= x\n",
    "True\n",
    "\n",
    "x1 > x2\n",
    "\n",
    "    Determines whether one set is a proper superset of the other.\n",
    "\n",
    "A proper superset is the same as a superset, except that the sets can’t be identical. A set x1 is considered a proper superset of another set x2 if x1 contains every element of x2, and x1 and x2 are not equal.\n",
    "\n",
    "x1 > x2 returns True if x1 is a proper superset of x2:\n",
    "\n",
    ">>> x1 = {'foo', 'bar', 'baz'}\n",
    ">>> x2 = {'foo', 'bar'}\n",
    ">>> x1 > x2\n",
    "True\n",
    "\n",
    ">>> x1 = {'foo', 'bar', 'baz'}\n",
    ">>> x2 = {'foo', 'bar', 'baz'}\n",
    ">>> x1 > x2\n",
    "False\n",
    "\n",
    "A set is not a proper superset of itself:\n",
    "\n",
    ">>> x = {1, 2, 3, 4, 5}\n",
    ">>> x > x\n",
    "False\n"
   ]
  },
  {
   "cell_type": "code",
   "execution_count": null,
   "id": "reverse-blowing",
   "metadata": {},
   "outputs": [],
   "source": [
    "Other Methods For Modifying Sets\n",
    "\n",
    "Aside from the augmented operators above, Python supports several additional methods that modify sets.\n",
    "\n",
    "x.add(<elem>)\n",
    "\n",
    "    Adds an element to a set.\n",
    "\n",
    "x.add(<elem>) adds <elem>, which must be a single immutable object, to x:\n",
    "\n",
    ">>> x = {'foo', 'bar', 'baz'}\n",
    "\n",
    ">>> x.add('qux')\n",
    ">>> x\n",
    "{'bar', 'baz', 'foo', 'qux'}\n",
    "\n",
    "x.remove(<elem>)\n",
    "\n",
    "    Removes an element from a set.\n",
    "\n",
    "x.remove(<elem>) removes <elem> from x. Python raises an exception if <elem> is not in x:\n",
    "\n",
    ">>> x = {'foo', 'bar', 'baz'}\n",
    "\n",
    ">>> x.remove('baz')\n",
    ">>> x\n",
    "{'bar', 'foo'}\n",
    "\n",
    ">>> x.remove('qux')\n",
    "Traceback (most recent call last):\n",
    "  File \"<pyshell#58>\", line 1, in <module>\n",
    "    x.remove('qux')\n",
    "KeyError: 'qux'\n",
    "\n",
    "x.discard(<elem>)\n",
    "\n",
    "    Removes an element from a set.\n",
    "\n",
    "x.discard(<elem>) also removes <elem> from x. However, if <elem> is not in x, this method quietly does nothing instead of raising an exception:\n",
    "\n",
    ">>> x = {'foo', 'bar', 'baz'}\n",
    "\n",
    ">>> x.discard('baz')\n",
    ">>> x\n",
    "{'bar', 'foo'}\n",
    "\n",
    ">>> x.discard('qux')\n",
    ">>> x\n",
    "{'bar', 'foo'}\n",
    "\n",
    "x.pop()\n",
    "\n",
    "    Removes a random element from a set.\n",
    "\n",
    "x.pop() removes and returns an arbitrarily chosen element from x. If x is empty, x.pop() raises an exception:\n",
    "\n",
    ">>> x = {'foo', 'bar', 'baz'}\n",
    "\n",
    ">>> x.pop()\n",
    "'bar'\n",
    ">>> x\n",
    "{'baz', 'foo'}\n",
    "\n",
    ">>> x.pop()\n",
    "'baz'\n",
    ">>> x\n",
    "{'foo'}\n",
    "\n",
    ">>> x.pop()\n",
    "'foo'\n",
    ">>> x\n",
    "set()\n",
    "\n",
    ">>> x.pop()\n",
    "Traceback (most recent call last):\n",
    "  File \"<pyshell#82>\", line 1, in <module>\n",
    "    x.pop()\n",
    "KeyError: 'pop from an empty set'\n",
    "\n",
    "x.clear()\n",
    "\n",
    "    Clears a set.\n",
    "\n",
    "x.clear() removes all elements from x:\n",
    "\n",
    ">>> x = {'foo', 'bar', 'baz'}\n",
    ">>> x\n",
    "{'foo', 'bar', 'baz'}\n",
    ">>> \n",
    ">>> x.clear()\n",
    ">>> x\n",
    "set()\n"
   ]
  },
  {
   "cell_type": "code",
   "execution_count": 26,
   "id": "bigger-birthday",
   "metadata": {},
   "outputs": [
    {
     "name": "stdout",
     "output_type": "stream",
     "text": [
      "The list before conversion is : [3, 4, 1, 4, 5]\n",
      "The tuple before conversion is : (3, 4, 1, 4, 5)\n",
      "The list after conversion is : {1, 3, 4, 5}\n",
      "The tuple after conversion is : {1, 3, 4, 5}\n"
     ]
    }
   ],
   "source": [
    "# Python3 code to demonstrate the\n",
    "# working of set() on list and tuple\n",
    "\n",
    "# initializing list\n",
    "lis1 = [ 3, 4, 1, 4, 5 ]\n",
    "\n",
    "# initializing tuple\n",
    "tup1 = (3, 4, 1, 4, 5)\n",
    "\n",
    "# Printing iterables before conversion\n",
    "print(\"The list before conversion is : \" + str(lis1))\n",
    "print(\"The tuple before conversion is : \" + str(tup1))\n",
    "\n",
    "# Iterables after conversion are\n",
    "# notice distinct and elements\n",
    "print(\"The list after conversion is : \" + str(set(lis1)))\n",
    "print(\"The tuple after conversion is : \" + str(set(tup1)))\n"
   ]
  }
 ],
 "metadata": {
  "kernelspec": {
   "display_name": "Python 3.9.1 64-bit",
   "language": "python",
   "name": "python39164bitdce0760b4b3a4c6994fe1bed90e141db"
  },
  "language_info": {
   "codemirror_mode": {
    "name": "ipython",
    "version": 3
   },
   "file_extension": ".py",
   "mimetype": "text/x-python",
   "name": "python",
   "nbconvert_exporter": "python",
   "pygments_lexer": "ipython3",
   "version": "3.9.4"
  }
 },
 "nbformat": 4,
 "nbformat_minor": 5
}
