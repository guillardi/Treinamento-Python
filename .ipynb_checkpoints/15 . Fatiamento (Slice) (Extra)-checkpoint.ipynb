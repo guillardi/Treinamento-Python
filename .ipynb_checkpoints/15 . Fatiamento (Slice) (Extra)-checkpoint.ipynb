{
 "cells": [
  {
   "cell_type": "markdown",
   "id": "allied-authority",
   "metadata": {},
   "source": [
    "### __Resumo do Curso__\n",
    "---\n",
    "* [x] Sobre o Python**\n",
    "* [x] Instalação do Python (MS-Windows)\n",
    "* [x] IDLE - Ambiente de Desenvolvimento Integrado do Python\n",
    "* [x] Ambiente de Desenvolvimento (Anaconda / jupyter Notebook)\n",
    "* [x] Primeiro Código Python\n",
    "* [x] Guardando Informações - Variáveis e Identificadores\n",
    "* [x] Palavras Resevadas\n",
    "* [x] Funções Internas do Python\n",
    "* [x] A Função Interna <code>range()</code>\n",
    "* [x] Trabalhando com Textos (Cadeia de Caracteres/Strings)\n",
    "* [x] Trabalhando com Números (int, float e complex)\n",
    "* [x] Operadores e Expressões Aritméticas\n",
    "* [x] Estrutura de Repetição <code>for</code>\n",
    "* [x] Estrutura de Repetição <code>while</code>\n",
    "* [x] Estrutura Condicional <code>if</code>\n",
    "* [x] Funções Definidas pelo Programador ( <code>def</code> )\n",
    "* [x] Listas\n",
    "* [x] Tuplas\n",
    "* [x] Dicionários\n",
    "* [x] Conjuntos\n",
    "* [x] OOP com Python (Introdução)\n",
    "* [x] Manipulando Arquivos\n",
    "* [x] Bibliotecas ou Pacotes (Pandas e NumPy)\n",
    "* [x] **EXTRA - Fatiamento (Slice)**\n",
    "* [ ] EXTRA - Operações comuns de Sequências\n",
    "* [ ] EXTRA - Markdown\n",
    "* [ ] EXTRA - Counter()\n",
    "* [ ] EXTRA - Expressões Geradoras e Iteradores\n",
    "* [ ] EXTRA - Operações Booleanas\n",
    "* [ ] EXTRA - Caracteres HTML (Markdown)"
   ]
  },
  {
   "cell_type": "markdown",
   "id": "desirable-annotation",
   "metadata": {},
   "source": [
    "# Fatiamento: (inicio, fim, passo) \n",
    "> (start, stop, step) "
   ]
  },
  {
   "cell_type": "code",
   "execution_count": 1,
   "id": "heated-supply",
   "metadata": {},
   "outputs": [
    {
     "name": "stdout",
     "output_type": "stream",
     "text": [
      "9876543210\n"
     ]
    }
   ],
   "source": [
    "# Invertendo uma string (cadeia de caracteres)\n",
    "print(\"0123456789\"[::-1])"
   ]
  },
  {
   "cell_type": "code",
   "execution_count": 5,
   "id": "involved-rapid",
   "metadata": {},
   "outputs": [
    {
     "name": "stdout",
     "output_type": "stream",
     "text": [
      "mirim\n"
     ]
    }
   ],
   "source": [
    "print(\"mirim\"[::-1])"
   ]
  },
  {
   "cell_type": "code",
   "execution_count": 5,
   "id": "second-valley",
   "metadata": {},
   "outputs": [
    {
     "data": {
      "text/plain": [
       "True"
      ]
     },
     "execution_count": 5,
     "metadata": {},
     "output_type": "execute_result"
    }
   ],
   "source": [
    "\"mirim\" == \"mirim\"[::-1]"
   ]
  },
  {
   "cell_type": "code",
   "execution_count": 7,
   "id": "willing-exposure",
   "metadata": {},
   "outputs": [],
   "source": [
    "minhaLista= [0, 1, 2, 3, 4, 5, 6, 7, 8, 9][::-1][0]"
   ]
  },
  {
   "cell_type": "code",
   "execution_count": 8,
   "id": "derived-butterfly",
   "metadata": {},
   "outputs": [
    {
     "data": {
      "text/plain": [
       "9"
      ]
     },
     "execution_count": 8,
     "metadata": {},
     "output_type": "execute_result"
    }
   ],
   "source": [
    "minhaLista"
   ]
  },
  {
   "cell_type": "code",
   "execution_count": 75,
   "id": "worthy-congo",
   "metadata": {},
   "outputs": [],
   "source": [
    "minhaLista[0::2] = (\"12345\")"
   ]
  },
  {
   "cell_type": "code",
   "execution_count": 76,
   "id": "uniform-windsor",
   "metadata": {},
   "outputs": [
    {
     "data": {
      "text/plain": [
       "['1', 8, '2', 6, '3', 4, '4', 2, '5', 0]"
      ]
     },
     "execution_count": 76,
     "metadata": {},
     "output_type": "execute_result"
    }
   ],
   "source": [
    "minhaLista"
   ]
  },
  {
   "cell_type": "code",
   "execution_count": 88,
   "id": "eastern-torture",
   "metadata": {},
   "outputs": [
    {
     "name": "stdout",
     "output_type": "stream",
     "text": [
      "[0, 1, 2, 3]\n",
      "[0, 2]\n",
      "[1, 3]\n"
     ]
    }
   ],
   "source": [
    "# Deletion is more straightforward:\n",
    "a = list(range(4))\n",
    "print(a)       # [0, 1, 2, 3]\n",
    "print(a[::2])  # [0, 2]\n",
    "del a[::2]\n",
    "print(a)       # [1, 3]"
   ]
  },
  {
   "cell_type": "code",
   "execution_count": 92,
   "id": "equal-genetics",
   "metadata": {},
   "outputs": [
    {
     "data": {
      "text/plain": [
       "[0, 2, 4, 6]"
      ]
     },
     "execution_count": 92,
     "metadata": {},
     "output_type": "execute_result"
    }
   ],
   "source": [
    "list(range(10)[slice(0, 8, 2)])"
   ]
  },
  {
   "cell_type": "code",
   "execution_count": 95,
   "id": "surface-powder",
   "metadata": {},
   "outputs": [
    {
     "data": {
      "text/plain": [
       "[0, 2, 4, 6]"
      ]
     },
     "execution_count": 95,
     "metadata": {},
     "output_type": "execute_result"
    }
   ],
   "source": [
    "list(range(10).__getitem__(slice(0, 8, 2)))"
   ]
  },
  {
   "cell_type": "code",
   "execution_count": 96,
   "id": "tight-florida",
   "metadata": {},
   "outputs": [
    {
     "name": "stdout",
     "output_type": "stream",
     "text": [
      "0\n",
      "1\n",
      "2\n",
      "3\n",
      "4\n",
      "5\n",
      "6\n",
      "7\n",
      "8\n",
      "9\n"
     ]
    }
   ],
   "source": [
    "meuIntervalo = range(10)\n",
    "for i in meuIntervalo:\n",
    "    print(i)"
   ]
  },
  {
   "cell_type": "code",
   "execution_count": 108,
   "id": "returning-desert",
   "metadata": {},
   "outputs": [
    {
     "data": {
      "text/plain": [
       "'-Teste-Teste-Teste-Teste-Teste-'"
      ]
     },
     "execution_count": 108,
     "metadata": {},
     "output_type": "execute_result"
    }
   ],
   "source": [
    "\"Teste\".join(\"------\")"
   ]
  },
  {
   "cell_type": "code",
   "execution_count": 109,
   "id": "curious-retro",
   "metadata": {},
   "outputs": [
    {
     "data": {
      "text/plain": [
       "'Silva'"
      ]
     },
     "execution_count": 109,
     "metadata": {},
     "output_type": "execute_result"
    }
   ],
   "source": [
    "\"Marcio Guillardi da Silva\"[-5:]"
   ]
  },
  {
   "cell_type": "code",
   "execution_count": null,
   "id": "stunning-alberta",
   "metadata": {},
   "outputs": [],
   "source": []
  }
 ],
 "metadata": {
  "kernelspec": {
   "display_name": "Python 3.9.1 64-bit",
   "language": "python",
   "name": "python39164bitdce0760b4b3a4c6994fe1bed90e141db"
  },
  "language_info": {
   "codemirror_mode": {
    "name": "ipython",
    "version": 3
   },
   "file_extension": ".py",
   "mimetype": "text/x-python",
   "name": "python",
   "nbconvert_exporter": "python",
   "pygments_lexer": "ipython3",
   "version": "3.9.4"
  }
 },
 "nbformat": 4,
 "nbformat_minor": 5
}
