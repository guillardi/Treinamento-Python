{
 "cells": [
  {
   "cell_type": "markdown",
   "metadata": {},
   "source": [
    "### __Resumo do Curso__\n",
    "---\n",
    "* [x] Sobre o Python**\n",
    "* [x] Instalação do Python (MS-Windows)\n",
    "* [x] IDLE - Ambiente de Desenvolvimento Integrado do Python\n",
    "* [x] Ambiente de Desenvolvimento (Anaconda / jupyter Notebook)\n",
    "* [x] Primeiro Código Python\n",
    "* [x] Guardando Informações - Variáveis e Identificadores\n",
    "* [x] Palavras Resevadas\n",
    "* [x] Funções Internas do Python\n",
    "* [x] A Função Interna <code>range()</code>\n",
    "* [x] Trabalhando com Textos (Cadeia de Caracteres/Strings)\n",
    "* [x] Trabalhando com Números (int, float e complex)\n",
    "* [x] Operadores e Expressões Aritméticas\n",
    "* [x] Estrutura de Repetição <code>for</code>\n",
    "* [x] Estrutura de Repetição <code>while</code>\n",
    "* [x] Estrutura Condicional <code>if</code>\n",
    "* [x] Funções Definidas pelo Programador ( <code>def</code> )\n",
    "* [x] Listas\n",
    "* [x] Tuplas\n",
    "* [x] Dicionários\n",
    "* [x] Conjuntos\n",
    "* [x] OOP com Python (Introdução)\n",
    "* [x] Manipulando Arquivos\n",
    "* [x] Bibliotecas ou Pacotes (Pandas e NumPy)\n",
    "* [x] EXTRA - Fatiamento (Slice)\n",
    "* [x] EXTRA - Operações comuns de Sequências\n",
    "* [x] EXTRA - Markdown\n",
    "* [x] **EXTRA - Counter()**\n",
    "* [ ] EXTRA - Expressões Geradoras e Iteradores\n",
    "* [ ] EXTRA - Operações Booleanas\n",
    "* [ ] EXTRA - Caracteres HTML (Markdown)"
   ]
  },
  {
   "cell_type": "markdown",
   "metadata": {},
   "source": [
    "<h2> Objeto <code>Counter</code>"
   ]
  },
  {
   "cell_type": "markdown",
   "metadata": {},
   "source": [
    "Um contador é como um conjunto que registra se um elemento aparecer mais de uma vez, contando quantas vezes ele aparece.\n",
    "\n",
    "Contadores são definidos em um módulo padrão chamado <code>collections</code>, portanto é preciso importá-lo. Você pode inicializar um contador com uma string, lista ou alguma outra coisa que seja compatível com iteração:\n",
    "\n",
    "> <code>from collections import Counter</code>"
   ]
  },
  {
   "cell_type": "code",
   "execution_count": 4,
   "metadata": {},
   "outputs": [
    {
     "data": {
      "text/plain": [
       "Counter({'vermelho': 2, 'azul': 3, 'verde': 1})"
      ]
     },
     "execution_count": 4,
     "metadata": {},
     "output_type": "execute_result"
    }
   ],
   "source": [
    "from collections import Counter\n",
    "\n",
    "# Resume (conta/Tally) as ocorrências das palavras na lista\n",
    "resultado = Counter()\n",
    "for word in ['vermelho', 'azul', 'vermelho', 'verde', 'azul', 'azul']:\n",
    "    resultado[word] += 1\n",
    "\n",
    "resultado"
   ]
  },
  {
   "cell_type": "code",
   "execution_count": 95,
   "metadata": {},
   "outputs": [
    {
     "data": {
      "text/plain": [
       "Counter({'vermelho': 2, 'azul': 3, 'verde': 1})"
      ]
     },
     "execution_count": 95,
     "metadata": {},
     "output_type": "execute_result"
    }
   ],
   "source": [
    "# A mesma coisa...\n",
    "c = Counter(['vermelho', 'azul', 'vermelho', 'verde', 'azul', 'azul'])\n",
    "c"
   ]
  },
  {
   "cell_type": "code",
   "execution_count": 96,
   "metadata": {},
   "outputs": [
    {
     "name": "stdout",
     "output_type": "stream",
     "text": [
      "Counter({'azul': 4, 'vermelho': 3, 'verde': 1})\n"
     ]
    }
   ],
   "source": [
    "c['vermelho'] += 1\n",
    "c['azul'] += 1\n",
    "print(c)"
   ]
  },
  {
   "cell_type": "code",
   "execution_count": 100,
   "metadata": {},
   "outputs": [
    {
     "data": {
      "text/plain": [
       "Counter({'red': 4, 'blue': 2, 'vermelho': 1, 'azul': 1, 'amarelo': 1})"
      ]
     },
     "execution_count": 100,
     "metadata": {},
     "output_type": "execute_result"
    }
   ],
   "source": [
    "# Se não existissem seriam criados (amarelo será criado)\n",
    "c.update({'vermelho': 1, 'azul': 1, 'amarelo': 1})\n",
    "c\n",
    "\n",
    "# update em um objeto Counter somará os valores ao valores existentes. Em um dicionário substituiria os valores existentes."
   ]
  },
  {
   "cell_type": "code",
   "execution_count": null,
   "metadata": {},
   "outputs": [],
   "source": [
    "y = {'a': 1, 'b': 2}\n",
    "x = {'b': 3, 'c': 4}\n",
    "z = {**y, **x}\n",
    "z"
   ]
  },
  {
   "cell_type": "code",
   "execution_count": null,
   "metadata": {},
   "outputs": [],
   "source": [
    "c = Counter()                           # a new, empty counter"
   ]
  },
  {
   "cell_type": "code",
   "execution_count": null,
   "metadata": {},
   "outputs": [],
   "source": [
    "c = Counter('guillardi')                # a new counter from an iterable\n",
    "c"
   ]
  },
  {
   "cell_type": "code",
   "execution_count": 101,
   "metadata": {},
   "outputs": [
    {
     "data": {
      "text/plain": [
       "Counter({'vermelho': 4, 'azul': 2})"
      ]
     },
     "execution_count": 101,
     "metadata": {},
     "output_type": "execute_result"
    }
   ],
   "source": [
    "c = Counter({'vermelho': 4, 'azul': 2})      # a new counter from a mapping\n",
    "c"
   ]
  },
  {
   "cell_type": "code",
   "execution_count": null,
   "metadata": {},
   "outputs": [],
   "source": [
    "c = Counter(cats=4, dogs=8)             # a new counter from keyword args\n",
    "c"
   ]
  },
  {
   "cell_type": "code",
   "execution_count": null,
   "metadata": {},
   "outputs": [],
   "source": [
    "c['cats'] +=1\n",
    "c"
   ]
  },
  {
   "cell_type": "code",
   "execution_count": null,
   "metadata": {},
   "outputs": [],
   "source": [
    "c = Counter(['eggs', 'ham', 'eggs'])\n",
    "\n",
    "c['bacon']            # count of a missing element is zero"
   ]
  },
  {
   "cell_type": "code",
   "execution_count": null,
   "metadata": {},
   "outputs": [],
   "source": [
    "c"
   ]
  },
  {
   "cell_type": "code",
   "execution_count": null,
   "metadata": {},
   "outputs": [],
   "source": [
    "# Creation of a Counter Class object using \n",
    "# string as an iterable data container\n",
    "x = Counter(\"geeksforgeeks\")\n",
    "  \n",
    "# printing the elements of counter object\n",
    "for i in x.elements():\n",
    "    print ( i, end = \" \")"
   ]
  },
  {
   "cell_type": "code",
   "execution_count": null,
   "metadata": {},
   "outputs": [],
   "source": [
    "# Mostra os elementos em formato de lista\n",
    "list(x.elements())"
   ]
  },
  {
   "cell_type": "code",
   "execution_count": null,
   "metadata": {},
   "outputs": [],
   "source": [
    "# Apresenta cada elemento com sua contagem (formato de dicionário)\n",
    "x"
   ]
  },
  {
   "cell_type": "markdown",
   "metadata": {},
   "source": [
    "elements()\n",
    "\n",
    "    Return an iterator over elements repeating each as many times as its count. Elements are returned in the order first encountered. If an element’s count is less than one, elements() will ignore it.\n"
   ]
  },
  {
   "cell_type": "code",
   "execution_count": null,
   "metadata": {},
   "outputs": [],
   "source": [
    "c = Counter(a=4, b=2, c=0, d=-2)\n",
    "sorted(c.elements())\n"
   ]
  },
  {
   "cell_type": "code",
   "execution_count": null,
   "metadata": {},
   "outputs": [],
   "source": [
    "Counter('abracadabrabaracadabra').most_common(2)"
   ]
  },
  {
   "cell_type": "code",
   "execution_count": null,
   "metadata": {},
   "outputs": [],
   "source": [
    "c = Counter(a=4, b=1, c=2, d=-5)\n",
    "d = Counter(a=1, b=1, c=3, d=4)\n",
    "c.subtract(d)\n",
    "c"
   ]
  },
  {
   "cell_type": "code",
   "execution_count": null,
   "metadata": {},
   "outputs": [],
   "source": [
    "c.values()"
   ]
  },
  {
   "cell_type": "code",
   "execution_count": null,
   "metadata": {},
   "outputs": [],
   "source": [
    "list(c.elements())"
   ]
  },
  {
   "cell_type": "code",
   "execution_count": null,
   "metadata": {},
   "outputs": [],
   "source": [
    "sum(c.values())"
   ]
  },
  {
   "cell_type": "code",
   "execution_count": null,
   "metadata": {},
   "outputs": [],
   "source": [
    "list(c)                         # list unique elements"
   ]
  },
  {
   "cell_type": "code",
   "execution_count": null,
   "metadata": {},
   "outputs": [],
   "source": [
    "c.clear()                       # reset all counts"
   ]
  },
  {
   "cell_type": "code",
   "execution_count": null,
   "metadata": {},
   "outputs": [],
   "source": [
    "set(c)                          # convert to a set\n"
   ]
  },
  {
   "cell_type": "code",
   "execution_count": null,
   "metadata": {},
   "outputs": [],
   "source": [
    "dict(c)                         # convert to a regular dictionary"
   ]
  },
  {
   "cell_type": "code",
   "execution_count": null,
   "metadata": {},
   "outputs": [],
   "source": [
    "c.items()                       # convert to a list of (elem, cnt) pairs"
   ]
  },
  {
   "cell_type": "code",
   "execution_count": null,
   "metadata": {},
   "outputs": [],
   "source": [
    "+c                              # remove zero and negative counts\n"
   ]
  },
  {
   "cell_type": "code",
   "execution_count": null,
   "metadata": {},
   "outputs": [],
   "source": [
    "c = Counter(a=3, b=1)\n",
    "d = Counter(a=1, b=2)"
   ]
  },
  {
   "cell_type": "code",
   "execution_count": null,
   "metadata": {},
   "outputs": [],
   "source": [
    "c + d                       # add two counters together:  c[x] + d[x]"
   ]
  },
  {
   "cell_type": "code",
   "execution_count": null,
   "metadata": {},
   "outputs": [],
   "source": [
    "c - d                       # subtract (keeping only positive counts)"
   ]
  },
  {
   "cell_type": "code",
   "execution_count": null,
   "metadata": {},
   "outputs": [],
   "source": [
    "c & d                       # intersection:  min(c[x], d[x]) "
   ]
  },
  {
   "cell_type": "code",
   "execution_count": null,
   "metadata": {},
   "outputs": [],
   "source": [
    "c | d                       # union:  max(c[x], d[x])"
   ]
  },
  {
   "cell_type": "code",
   "execution_count": null,
   "metadata": {},
   "outputs": [],
   "source": []
  },
  {
   "cell_type": "code",
   "execution_count": 102,
   "metadata": {},
   "outputs": [
    {
     "name": "stdout",
     "output_type": "stream",
     "text": [
      "C1: Counter({'b': 3, 'a': 2, 'c': 1})\n",
      "C2: Counter({'a': 2, 'l': 1, 'p': 1, 'h': 1, 'b': 1, 'e': 1, 't': 1})\n",
      "\n",
      "Combined counts:\n",
      "Counter({'a': 4, 'b': 4, 'c': 1, 'l': 1, 'p': 1, 'h': 1, 'e': 1, 't': 1})\n",
      "\n",
      "Subtraction:\n",
      "Counter({'b': 2, 'c': 1})\n",
      "\n",
      "Intersection (taking positive minimums):\n",
      "Counter({'a': 2, 'b': 1})\n",
      "\n",
      "Union (taking maximums):\n",
      "Counter({'b': 3, 'a': 2, 'c': 1, 'l': 1, 'p': 1, 'h': 1, 'e': 1, 't': 1})\n"
     ]
    }
   ],
   "source": [
    "c1 = Counter(['a', 'b', 'c', 'a', 'b', 'b'])\n",
    "c2 = Counter('alphabet')\n",
    "\n",
    "print('C1:', c1)\n",
    "print('C2:', c2)\n",
    "\n",
    "print('\\nCombined counts:')\n",
    "print(c1 + c2)\n",
    "\n",
    "print('\\nSubtraction:')\n",
    "print(c1 - c2)\n",
    "\n",
    "print('\\nIntersection (taking positive minimums):')\n",
    "print(c1 & c2)\n",
    "\n",
    "print('\\nUnion (taking maximums):')\n",
    "print(c1 | c2)"
   ]
  },
  {
   "cell_type": "code",
   "execution_count": 3,
   "metadata": {},
   "outputs": [
    {
     "data": {
      "text/plain": [
       "Counter({'M': 1,\n",
       "         'A': 4,\n",
       "         'R': 2,\n",
       "         'C': 1,\n",
       "         'I': 4,\n",
       "         'O': 1,\n",
       "         ' ': 3,\n",
       "         'G': 1,\n",
       "         'U': 1,\n",
       "         'L': 3,\n",
       "         'D': 2,\n",
       "         'S': 1,\n",
       "         'V': 1})"
      ]
     },
     "execution_count": 3,
     "metadata": {},
     "output_type": "execute_result"
    }
   ],
   "source": [
    "Counter(\"Marcio Guillardi da Silva\".upper())"
   ]
  },
  {
   "cell_type": "markdown",
   "metadata": {},
   "source": [
    "---\n",
    "#### Definindo o __Método \\_\\_missing\\_\\_()__ de um dicionário\n",
    "Vamos definir uma subclasse de um <code>dict</code> e o sobrescrever método <code>\\_\\_missing\\_\\_()</code> para tratar chaves INEXISTENTES.\n",
    "\n",
    "Desta forma, a operação <code>d[chave]</code> em um dicionário para uma chave inexistente retornará o valor definido no método ( ou seja, ZERO), para ser tratado pelo comando que fez a chamada do dicionário. \n",
    "\n",
    "Normalmente, por padrão, nenhuma operação ou método de um dicionário invocam <code>\\_\\_missing\\_\\_()</code> e um erro de _KeyError_ é apresentado."
   ]
  },
  {
   "cell_type": "code",
   "execution_count": 183,
   "metadata": {},
   "outputs": [
    {
     "ename": "KeyError",
     "evalue": "'Chave'",
     "output_type": "error",
     "traceback": [
      "\u001b[1;31m---------------------------------------------------------------------------\u001b[0m",
      "\u001b[1;31mKeyError\u001b[0m                                  Traceback (most recent call last)",
      "\u001b[1;32m<ipython-input-183-7df14444211e>\u001b[0m in \u001b[0;36m<module>\u001b[1;34m\u001b[0m\n\u001b[0;32m      3\u001b[0m \u001b[1;33m\u001b[0m\u001b[0m\n\u001b[0;32m      4\u001b[0m \u001b[1;31m# Por padrão a tentativa de operar sobre uma chave INEXISTENTE levantará um Keyerror\u001b[0m\u001b[1;33m\u001b[0m\u001b[1;33m\u001b[0m\u001b[1;33m\u001b[0m\u001b[0m\n\u001b[1;32m----> 5\u001b[1;33m \u001b[0mtesteDicionario\u001b[0m\u001b[1;33m[\u001b[0m\u001b[1;34m'Chave'\u001b[0m\u001b[1;33m]\u001b[0m \u001b[1;33m+=\u001b[0m\u001b[1;36m1\u001b[0m\u001b[1;33m\u001b[0m\u001b[1;33m\u001b[0m\u001b[0m\n\u001b[0m",
      "\u001b[1;31mKeyError\u001b[0m: 'Chave'"
     ]
    }
   ],
   "source": [
    "# Definindo um dicionário de teste\n",
    "testeDicionario = {}\n",
    "\n",
    "# Por padrão a tentativa de operar sobre uma chave INEXISTENTE levantará um Keyerror\n",
    "testeDicionario['Chave'] +=1"
   ]
  },
  {
   "cell_type": "code",
   "execution_count": 3,
   "metadata": {},
   "outputs": [],
   "source": [
    "# Define uma classe com o nome \"Dicionario\" a partir da classe \"dict\". Com isso herda todos os métodos e atributos de um dicionário padrão do Python. \n",
    "# Redefine o método \"__missing__\" para chaves inexistentes (retornando ZERO para o comando que chamou o dicionário.\n",
    "class Dicionario(dict):\n",
    "    def __missing__(self, key):\n",
    "        return 0"
   ]
  },
  {
   "cell_type": "code",
   "execution_count": 192,
   "metadata": {},
   "outputs": [
    {
     "data": {
      "text/plain": [
       "Counter()"
      ]
     },
     "execution_count": 192,
     "metadata": {},
     "output_type": "execute_result"
    }
   ],
   "source": [
    "# Criando um dicionário a partir da classe definida pelo usuário ( Dicionario() )\n",
    "c = Counter(Dicionario())\n",
    "c"
   ]
  },
  {
   "cell_type": "code",
   "execution_count": 193,
   "metadata": {},
   "outputs": [
    {
     "data": {
      "text/plain": [
       "Counter({'red': 1})"
      ]
     },
     "execution_count": 193,
     "metadata": {},
     "output_type": "execute_result"
    }
   ],
   "source": [
    "# Atualizando o dicionário do tipo Counter() a partir de uma chave não INEXISTENTE: será criado com ZERO e acrescido de UM...\n",
    "c['red'] += 1\n",
    "c"
   ]
  },
  {
   "cell_type": "code",
   "execution_count": 216,
   "metadata": {},
   "outputs": [
    {
     "data": {
      "text/plain": [
       "Counter({'red': 12})"
      ]
     },
     "execution_count": 216,
     "metadata": {},
     "output_type": "execute_result"
    }
   ],
   "source": [
    "# Atualizando o dicionário do tipo Counter() a partir de uma chave não EXISTENTE: será acrescido de UM...\n",
    "c.update({'red': 1})\n",
    "c"
   ]
  },
  {
   "cell_type": "code",
   "execution_count": 214,
   "metadata": {},
   "outputs": [
    {
     "data": {
      "text/plain": [
       "{'red': 1}"
      ]
     },
     "execution_count": 214,
     "metadata": {},
     "output_type": "execute_result"
    }
   ],
   "source": [
    "# dict.update(), em um dicionário normal, substitui o valor existente \n",
    "testeDicionario.update({'red': 1})\n",
    "testeDicionario"
   ]
  },
  {
   "cell_type": "markdown",
   "metadata": {},
   "source": [
    "---"
   ]
  },
  {
   "cell_type": "markdown",
   "metadata": {},
   "source": [
    "#### __Vamos apresentar um exemplo prático do uso da classe <code>Counter()</code>__\n",
    "###### (* vendas de produtos)"
   ]
  },
  {
   "cell_type": "code",
   "execution_count": 97,
   "metadata": {},
   "outputs": [
    {
     "data": {
      "text/plain": [
       "[('M', 'Branco'),\n",
       " ('M', 'Preto'),\n",
       " ('M', 'Vermelho'),\n",
       " ('M', 'Azul'),\n",
       " ('M', 'Amarelo'),\n",
       " ('G', 'Branco'),\n",
       " ('G', 'Preto'),\n",
       " ('G', 'Vermelho'),\n",
       " ('G', 'Azul'),\n",
       " ('G', 'Amarelo'),\n",
       " ('P', 'Branco'),\n",
       " ('P', 'Preto'),\n",
       " ('P', 'Vermelho'),\n",
       " ('P', 'Azul'),\n",
       " ('P', 'Amarelo'),\n",
       " ('GG', 'Branco'),\n",
       " ('GG', 'Preto'),\n",
       " ('GG', 'Vermelho'),\n",
       " ('GG', 'Azul'),\n",
       " ('GG', 'Amarelo')]"
      ]
     },
     "execution_count": 97,
     "metadata": {},
     "output_type": "execute_result"
    }
   ],
   "source": [
    "# Nosso estoque de produtos poderia ser resumido da seguinte forma:\n",
    "# t = Tamanho dos Produtos\n",
    "# c = Cor dos Produtos\n",
    "t = ['M', 'G', 'P', 'GG']\n",
    "c = ['Branco', \"Preto\", \"Vermelho\", \"Azul\", \"Amarelo\"]\n",
    "\n",
    "# Definindo um dionário a partir do método 'Counter()' para registrar as vendas com o método 'update()'\n",
    "vendas = Counter(Dicionario())\n",
    "\n",
    "# Apresentando as chaves que identificarão os itens no dicionário - uma tupla: ('tamanho', 'cor')\n",
    "[(tamanho, cor) for tamanho in t for cor in c]\n"
   ]
  },
  {
   "cell_type": "markdown",
   "metadata": {},
   "source": [
    "#### Não é necessário mas poderíamos definir nosso dicionário registrando as VENDAS com ZERO (ITENS VENDIDOS)"
   ]
  },
  {
   "cell_type": "code",
   "execution_count": 98,
   "metadata": {},
   "outputs": [
    {
     "data": {
      "text/plain": [
       "Counter({('M', 'Branco'): 0,\n",
       "         ('M', 'Preto'): 0,\n",
       "         ('M', 'Vermelho'): 0,\n",
       "         ('M', 'Azul'): 0,\n",
       "         ('M', 'Amarelo'): 0,\n",
       "         ('G', 'Branco'): 0,\n",
       "         ('G', 'Preto'): 0,\n",
       "         ('G', 'Vermelho'): 0,\n",
       "         ('G', 'Azul'): 0,\n",
       "         ('G', 'Amarelo'): 0,\n",
       "         ('P', 'Branco'): 0,\n",
       "         ('P', 'Preto'): 0,\n",
       "         ('P', 'Vermelho'): 0,\n",
       "         ('P', 'Azul'): 0,\n",
       "         ('P', 'Amarelo'): 0,\n",
       "         ('GG', 'Branco'): 0,\n",
       "         ('GG', 'Preto'): 0,\n",
       "         ('GG', 'Vermelho'): 0,\n",
       "         ('GG', 'Azul'): 0,\n",
       "         ('GG', 'Amarelo'): 0})"
      ]
     },
     "execution_count": 98,
     "metadata": {},
     "output_type": "execute_result"
    }
   ],
   "source": [
    "# Criando o dicionário de vendas com os tipos de itens em estoque, com vendas igual a ZERO...\n",
    "\n",
    "vendas.update({chave:0 for chave in [(tamanho, cor) for tamanho in t for cor in c]})\n",
    "vendas"
   ]
  },
  {
   "cell_type": "markdown",
   "metadata": {},
   "source": [
    "#### __Lista__ contendo o registro das vendas da semana \n",
    "Registro da chave para o dicionário de cada item vendido ( tupla:  (tamanho, cor) = uma unidade vendida )"
   ]
  },
  {
   "cell_type": "code",
   "execution_count": 101,
   "metadata": {},
   "outputs": [],
   "source": [
    "# Lista de tuplas com as vendas da semana de cada tipo de item ( (tamanho, cor) )\n",
    "vendasSemana = [('P', 'Preto'),\n",
    " ('M', 'Vermelho'),\n",
    " ('G', 'Preto'),\n",
    " ('G', 'Vermelho'),\n",
    " ('M', 'Azul'),\n",
    " ('M', 'Amarelo'),\n",
    " ('P', 'Vermelho'),\n",
    " ('GG', 'Branco'),\n",
    " ('GG', 'Preto'),\n",
    " ('GG', 'Vermelho'),\n",
    " ('M', 'Branco'),\n",
    " ('M', 'Preto'),\n",
    " ('G', 'Branco'),\n",
    " ('G', 'Azul'),\n",
    " ('G', 'Amarelo'),\n",
    " ('P', 'Branco'),\n",
    " ('P', 'Azul'),\n",
    " ('P', 'Amarelo'),\n",
    " ('GG', 'Azul'),\n",
    " ('GG', 'Amarelo'),\n",
    " ('P', 'Preto'),\n",
    " ('M', 'Vermelho'),\n",
    " ('G', 'Preto'),\n",
    " ('G', 'Vermelho'),\n",
    " ('M', 'Azul'),\n",
    " ('M', 'Amarelo'),\n",
    " ('P', 'Vermelho'),\n",
    " ('GG', 'Branco'),\n",
    " ('GG', 'Preto'),\n",
    " ('GG', 'Vermelho'),\n",
    " ('M', 'Branco'),\n",
    " ('M', 'Preto'),\n",
    " ('G', 'Branco'),\n",
    " ('G', 'Azul'),\n",
    " ('G', 'Amarelo'),\n",
    " ('P', 'Preto'),\n",
    " ('M', 'Vermelho'),\n",
    " ('G', 'Preto'),\n",
    " ('G', 'Vermelho'),\n",
    " ('M', 'Azul'),\n",
    " ('M', 'Amarelo'),\n",
    " ('P', 'Vermelho'),\n",
    " ('GG', 'Branco'),\n",
    " ('GG', 'Preto'),\n",
    " ('GG', 'Vermelho'), \n",
    " ('P', 'Preto')]\n"
   ]
  },
  {
   "cell_type": "code",
   "execution_count": 103,
   "metadata": {},
   "outputs": [
    {
     "data": {
      "text/plain": [
       "4"
      ]
     },
     "execution_count": 103,
     "metadata": {},
     "output_type": "execute_result"
    }
   ],
   "source": [
    "# Contanto a quantidade de ocorrências de uma chave qualquer (('P', 'Preto'))\n",
    "vendasSemana.count(('P', 'Preto'))"
   ]
  },
  {
   "cell_type": "code",
   "execution_count": 100,
   "metadata": {},
   "outputs": [
    {
     "data": {
      "text/plain": [
       "Counter({('P', 'Preto'): 4,\n",
       "         ('M', 'Vermelho'): 3,\n",
       "         ('G', 'Preto'): 3,\n",
       "         ('G', 'Vermelho'): 3,\n",
       "         ('M', 'Azul'): 3,\n",
       "         ('M', 'Amarelo'): 3,\n",
       "         ('P', 'Vermelho'): 3,\n",
       "         ('GG', 'Branco'): 3,\n",
       "         ('GG', 'Preto'): 3,\n",
       "         ('GG', 'Vermelho'): 3,\n",
       "         ('M', 'Branco'): 2,\n",
       "         ('M', 'Preto'): 2,\n",
       "         ('G', 'Branco'): 2,\n",
       "         ('G', 'Azul'): 2,\n",
       "         ('G', 'Amarelo'): 2,\n",
       "         ('P', 'Branco'): 1,\n",
       "         ('P', 'Azul'): 1,\n",
       "         ('P', 'Amarelo'): 1,\n",
       "         ('GG', 'Azul'): 1,\n",
       "         ('GG', 'Amarelo'): 1})"
      ]
     },
     "execution_count": 100,
     "metadata": {},
     "output_type": "execute_result"
    }
   ],
   "source": [
    "# A chamada de Counter() retorna um dicionário com a contagem (acumulado) de TODOS os itens (tuplas) referente às vendas na semana.\n",
    "# Apesar de estar aparentemente ordenado isso nem sempre será garantido.\n",
    "Counter(vendasSemana)"
   ]
  },
  {
   "cell_type": "code",
   "execution_count": 72,
   "metadata": {},
   "outputs": [
    {
     "data": {
      "text/plain": [
       "[(('G', 'Amarelo'), 2),\n",
       " (('G', 'Azul'), 2),\n",
       " (('G', 'Branco'), 2),\n",
       " (('G', 'Preto'), 3),\n",
       " (('G', 'Vermelho'), 3),\n",
       " (('GG', 'Amarelo'), 1),\n",
       " (('GG', 'Azul'), 1),\n",
       " (('GG', 'Branco'), 3),\n",
       " (('GG', 'Preto'), 3),\n",
       " (('GG', 'Vermelho'), 3),\n",
       " (('M', 'Amarelo'), 3),\n",
       " (('M', 'Azul'), 3),\n",
       " (('M', 'Branco'), 2),\n",
       " (('M', 'Preto'), 2),\n",
       " (('M', 'Vermelho'), 3),\n",
       " (('P', 'Amarelo'), 1),\n",
       " (('P', 'Azul'), 1),\n",
       " (('P', 'Branco'), 1),\n",
       " (('P', 'Preto'), 4),\n",
       " (('P', 'Vermelho'), 3)]"
      ]
     },
     "execution_count": 72,
     "metadata": {},
     "output_type": "execute_result"
    }
   ],
   "source": [
    "# A chamada de sorted() retorna uma lista ordenada pela chave. Em seguinda é apresentado a quantidade de vendas na semana.\n",
    "sorted(Counter(vendasSemana).items())"
   ]
  },
  {
   "cell_type": "code",
   "execution_count": 73,
   "metadata": {},
   "outputs": [
    {
     "data": {
      "text/plain": [
       "[(('P', 'Preto'), 4),\n",
       " (('M', 'Vermelho'), 3),\n",
       " (('G', 'Preto'), 3),\n",
       " (('G', 'Vermelho'), 3),\n",
       " (('M', 'Azul'), 3),\n",
       " (('M', 'Amarelo'), 3),\n",
       " (('P', 'Vermelho'), 3),\n",
       " (('GG', 'Branco'), 3),\n",
       " (('GG', 'Preto'), 3),\n",
       " (('GG', 'Vermelho'), 3),\n",
       " (('M', 'Branco'), 2),\n",
       " (('M', 'Preto'), 2),\n",
       " (('G', 'Branco'), 2),\n",
       " (('G', 'Azul'), 2),\n",
       " (('G', 'Amarelo'), 2),\n",
       " (('P', 'Branco'), 1),\n",
       " (('P', 'Azul'), 1),\n",
       " (('P', 'Amarelo'), 1),\n",
       " (('GG', 'Azul'), 1),\n",
       " (('GG', 'Amarelo'), 1)]"
      ]
     },
     "execution_count": 73,
     "metadata": {},
     "output_type": "execute_result"
    }
   ],
   "source": [
    "# A chamada e  Counter.most_common() retorna uma lista de tuplas em ordem descendente da contagem de vendas na semana.\n",
    "Counter(vendasSemana).most_common()"
   ]
  },
  {
   "cell_type": "code",
   "execution_count": 82,
   "metadata": {},
   "outputs": [],
   "source": [
    "# Definindo um dionário a partir do método 'Counter()' e da classe Dicionário definida pelo usuário (com __missing__ definida)\n",
    "vendas = Counter(Dicionario())"
   ]
  },
  {
   "cell_type": "code",
   "execution_count": 83,
   "metadata": {},
   "outputs": [],
   "source": [
    "# Atualização do dicionário de vendas (inicialmente vendas = 0) a partir do dicionário de vendas na semana.\n",
    "vendas.update(vendasSemana)"
   ]
  },
  {
   "cell_type": "code",
   "execution_count": 84,
   "metadata": {},
   "outputs": [
    {
     "data": {
      "text/plain": [
       "Counter({('P', 'Preto'): 4,\n",
       "         ('M', 'Vermelho'): 3,\n",
       "         ('G', 'Preto'): 3,\n",
       "         ('G', 'Vermelho'): 3,\n",
       "         ('M', 'Azul'): 3,\n",
       "         ('M', 'Amarelo'): 3,\n",
       "         ('P', 'Vermelho'): 3,\n",
       "         ('GG', 'Branco'): 3,\n",
       "         ('GG', 'Preto'): 3,\n",
       "         ('GG', 'Vermelho'): 3,\n",
       "         ('M', 'Branco'): 2,\n",
       "         ('M', 'Preto'): 2,\n",
       "         ('G', 'Branco'): 2,\n",
       "         ('G', 'Azul'): 2,\n",
       "         ('G', 'Amarelo'): 2,\n",
       "         ('P', 'Branco'): 1,\n",
       "         ('P', 'Azul'): 1,\n",
       "         ('P', 'Amarelo'): 1,\n",
       "         ('GG', 'Azul'): 1,\n",
       "         ('GG', 'Amarelo'): 1})"
      ]
     },
     "execution_count": 84,
     "metadata": {},
     "output_type": "execute_result"
    }
   ],
   "source": [
    "vendas"
   ]
  },
  {
   "cell_type": "code",
   "execution_count": 106,
   "metadata": {},
   "outputs": [
    {
     "data": {
      "text/plain": [
       "Counter({('M', 'Branco'): 1,\n",
       "         ('M', 'Preto'): 0,\n",
       "         ('M', 'Vermelho'): 0,\n",
       "         ('M', 'Azul'): 0,\n",
       "         ('M', 'Amarelo'): 0,\n",
       "         ('G', 'Branco'): 0,\n",
       "         ('G', 'Preto'): 0,\n",
       "         ('G', 'Vermelho'): 0,\n",
       "         ('G', 'Azul'): 0,\n",
       "         ('G', 'Amarelo'): 0,\n",
       "         ('P', 'Branco'): 0,\n",
       "         ('P', 'Preto'): 1,\n",
       "         ('P', 'Vermelho'): 0,\n",
       "         ('P', 'Azul'): 0,\n",
       "         ('P', 'Amarelo'): 0,\n",
       "         ('GG', 'Branco'): 0,\n",
       "         ('GG', 'Preto'): 0,\n",
       "         ('GG', 'Vermelho'): 0,\n",
       "         ('GG', 'Azul'): 0,\n",
       "         ('GG', 'Amarelo'): 0})"
      ]
     },
     "execution_count": 106,
     "metadata": {},
     "output_type": "execute_result"
    }
   ],
   "source": [
    "# Atualizando manualmente uma venda de última hora\n",
    "vendas.update({('P', 'Preto'): 1})\n",
    "vendas"
   ]
  },
  {
   "cell_type": "code",
   "execution_count": 107,
   "metadata": {},
   "outputs": [
    {
     "data": {
      "text/plain": [
       "1"
      ]
     },
     "execution_count": 107,
     "metadata": {},
     "output_type": "execute_result"
    }
   ],
   "source": [
    "vendas[('P', 'Preto')]"
   ]
  },
  {
   "cell_type": "code",
   "execution_count": 104,
   "metadata": {},
   "outputs": [],
   "source": [
    "# Atualizando o total de vendas de um item (chave especifica)\n",
    "vendas.update([('M', 'Branco')])"
   ]
  },
  {
   "cell_type": "code",
   "execution_count": 105,
   "metadata": {},
   "outputs": [
    {
     "data": {
      "text/plain": [
       "Counter({('M', 'Branco'): 1,\n",
       "         ('M', 'Preto'): 0,\n",
       "         ('M', 'Vermelho'): 0,\n",
       "         ('M', 'Azul'): 0,\n",
       "         ('M', 'Amarelo'): 0,\n",
       "         ('G', 'Branco'): 0,\n",
       "         ('G', 'Preto'): 0,\n",
       "         ('G', 'Vermelho'): 0,\n",
       "         ('G', 'Azul'): 0,\n",
       "         ('G', 'Amarelo'): 0,\n",
       "         ('P', 'Branco'): 0,\n",
       "         ('P', 'Preto'): 0,\n",
       "         ('P', 'Vermelho'): 0,\n",
       "         ('P', 'Azul'): 0,\n",
       "         ('P', 'Amarelo'): 0,\n",
       "         ('GG', 'Branco'): 0,\n",
       "         ('GG', 'Preto'): 0,\n",
       "         ('GG', 'Vermelho'): 0,\n",
       "         ('GG', 'Azul'): 0,\n",
       "         ('GG', 'Amarelo'): 0})"
      ]
     },
     "execution_count": 105,
     "metadata": {},
     "output_type": "execute_result"
    }
   ],
   "source": [
    "vendas"
   ]
  }
 ],
 "metadata": {
  "kernelspec": {
   "display_name": "Python 3.9.1 64-bit",
   "language": "python",
   "name": "python39164bitdce0760b4b3a4c6994fe1bed90e141db"
  },
  "language_info": {
   "codemirror_mode": {
    "name": "ipython",
    "version": 3
   },
   "file_extension": ".py",
   "mimetype": "text/x-python",
   "name": "python",
   "nbconvert_exporter": "python",
   "pygments_lexer": "ipython3",
   "version": "3.9.4"
  }
 },
 "nbformat": 4,
 "nbformat_minor": 4
}
