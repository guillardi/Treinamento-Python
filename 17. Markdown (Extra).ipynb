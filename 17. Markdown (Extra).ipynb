{
 "cells": [
  {
   "cell_type": "markdown",
   "metadata": {},
   "source": [
    "### __Resumo do Curso__\n",
    "---\n",
    "* [x] Sobre o Python**\n",
    "* [x] Instalação do Python (MS-Windows)\n",
    "* [x] IDLE - Ambiente de Desenvolvimento Integrado do Python\n",
    "* [x] Ambiente de Desenvolvimento (Anaconda / jupyter Notebook)\n",
    "* [x] Primeiro Código Python\n",
    "* [x] Guardando Informações - Variáveis e Identificadores\n",
    "* [x] Palavras Resevadas\n",
    "* [x] Funções Internas do Python\n",
    "* [x] A Função Interna <code>range()</code>\n",
    "* [x] Trabalhando com Textos (Cadeia de Caracteres/Strings)\n",
    "* [x] Trabalhando com Números (int, float e complex)\n",
    "* [x] Operadores e Expressões Aritméticas\n",
    "* [x] Estrutura de Repetição <code>for</code>\n",
    "* [x] Estrutura de Repetição <code>while</code>\n",
    "* [x] Estrutura Condicional <code>if</code>\n",
    "* [x] Funções Definidas pelo Programador ( <code>def</code> )\n",
    "* [x] Listas\n",
    "* [x] Tuplas\n",
    "* [x] Dicionários\n",
    "* [x] Conjuntos\n",
    "* [x] OOP com Python (Introdução)\n",
    "* [x] Manipulando Arquivos\n",
    "* [x] Bibliotecas ou Pacotes (Pandas e NumPy)\n",
    "* [x] EXTRA - Fatiamento (Slice)\n",
    "* [x] EXTRA - Operações comuns de Sequências\n",
    "* [x] **EXTRA - Markdown**\n",
    "* [ ] EXTRA - Counter()\n",
    "* [ ] EXTRA - Expressões Geradoras e Iteradores\n",
    "* [ ] EXTRA - Operações Booleanas\n",
    "* [ ] EXTRA - Caracteres HTML (Markdown)"
   ]
  },
  {
   "cell_type": "markdown",
   "metadata": {},
   "source": [
    "## O Jupyter Notebook é um interfarce gráfica que permite a edição de notebooks em um navegador web (Google Chrome ou Firefox).\n",
    "## O nome Jupyter é um acrônimo criado a partir das linguagens de programação que inicialmente foram aceitas pelo Projeto Jupyter: Julia, Python e R. </h2>\n",
    "## Um documento do tipo notebook é um documento que permite a execução de códigos de uma linguagem de programação juntamente com ferramentas para edição de textospermitindo que o usuário documente o código."
   ]
  },
  {
   "cell_type": "markdown",
   "metadata": {},
   "source": [
    "## __Utilizando o simbolo cerquilha \"#\" (\"jogo da velha\" ou \"hashtag\") podemos criar títulos.__\n",
    "---\n",
    "# Títulos \\<h1>\n",
    "## Título \\<h2>\n",
    "### Título \\<h3>\n",
    "#### Título \\<h4>\n",
    "##### Título \\<h5>\n",
    "###### Título \\<h6>"
   ]
  },
  {
   "cell_type": "markdown",
   "metadata": {},
   "source": [
    "## __Utilizando dois asteríscos \"**\" ou dois sublinhados (\\__) (traço baixo) podemos destacar o texto deixando-o mais escuro (negrito).__\n",
    "---"
   ]
  },
  {
   "cell_type": "markdown",
   "metadata": {},
   "source": [
    "**Negrito** ou __Negrito__ <br>"
   ]
  },
  {
   "cell_type": "markdown",
   "metadata": {},
   "source": [
    "## __Utilizando um asterísco \"*\" ou um sublinhado (\\_) (traço baixo) podemos destacar o texto deixando-o em \"_itálico_\".__\n",
    "---"
   ]
  },
  {
   "cell_type": "markdown",
   "metadata": {},
   "source": [
    "*Itálico* ou _Itálico_"
   ]
  },
  {
   "cell_type": "markdown",
   "metadata": {},
   "source": [
    "## __Link para uma página WEB?__\n",
    "---\n",
    "* Link direto: envolva o link com o sinal \"menor que\" ( < ) e o sinal \"maior que\" ( > ).\n",
    "* Texto âncora: utilite os caracteres []() - entre as chaves coloque o texto que aparecerá; entre os parênteses o endereço de destino: <br>\n",
    "\\[Clique aqui!]\\(https://exemplo.com.br)\n"
   ]
  },
  {
   "cell_type": "markdown",
   "metadata": {},
   "source": [
    "Link direto: <https://exemplo.com/>.<br>\n",
    "Texto-âncora: [Clique aqui!](https://exemplo.com/)."
   ]
  },
  {
   "cell_type": "markdown",
   "metadata": {},
   "source": [
    "## __Lista de Itens__\n",
    "---\n",
    "\n",
    "Para listas não ordenadas, utilize um asterisco \\* na frente do item da lista:\n",
    "\n",
    "* Item 1\n",
    "* Item 2\n",
    "* Item 3\n",
    "\n",
    "Para listas ordenadas, utilize o número do item seguido de ponto:\n",
    "\n",
    "1. Item 1\n",
    "2. Item 2\n",
    "3. Item 3"
   ]
  },
  {
   "cell_type": "markdown",
   "metadata": {},
   "source": [
    "## __Citação (Quote)__\n",
    "---\n",
    "\n",
    "Para transformar um texto em uma citação ou comentário, semelhante ao código HTML, utilize o sinal \"maior que\" ( > ) no início da linha que será apresentada desta forma:\n",
    "\n",
    ">Este é um *blockquote*. O sinal usado ( &gt; ) abre este código markdown.\n",
    ">Para adicionar mais textos à citação, basta teclar Enter e inserir o\n",
    ">sinal \"&gt;\". Isso fará que o texto digitado seja incluído no final do texto anterior.\n",
    ">Códigos de **negrito**, _itálico_ e <https://links.com> funcionam aqui.<br><br>\n",
    ">Para incluir um salto de linha você deve incluir o marcador HTML &lt;br&gt;."
   ]
  },
  {
   "cell_type": "markdown",
   "metadata": {},
   "source": [
    "## __Apresentando dois trechos de código em Python__\n",
    "---\n",
    "Para incluir um código em Python basta incluir três apóstrofos seguido da palvra __python__.<br>\n",
    "\n",
    "Inclua normalmente o código Python seguindo as regras da linguagem e feche o bloco com outros três apóstrofos seguidos.\n",
    "\n",
    "```python\n",
    "def soma(numero)\n",
    "  return numero + 2\n",
    "\n",
    "s = \"A sintaxe do Python em destaque\"\n",
    "print(s)\n",
    "print(soma(2))\n",
    "```"
   ]
  }
 ],
 "metadata": {
  "kernelspec": {
   "display_name": "Python 3",
   "language": "python",
   "name": "python3"
  },
  "language_info": {
   "codemirror_mode": {
    "name": "ipython",
    "version": 3
   },
   "file_extension": ".py",
   "mimetype": "text/x-python",
   "name": "python",
   "nbconvert_exporter": "python",
   "pygments_lexer": "ipython3",
   "version": "3.6.13"
  }
 },
 "nbformat": 4,
 "nbformat_minor": 4
}
